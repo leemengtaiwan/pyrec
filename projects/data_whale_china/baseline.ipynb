{
 "cells": [
  {
   "cell_type": "markdown",
   "id": "b96c13bb-3197-4aa1-af34-bd8be6c72f23",
   "metadata": {},
   "source": [
    "- https://tianchi.aliyun.com/competition/entrance/531842/information\n",
    "- https://datawhalechina.github.io/fun-rec/#/ch03/ch3.1/markdown/ch3.1.1\n",
    "- https://www.jianshu.com/p/f306a37a7374https://www.jianshu.com/p/f306a37a7374"
   ]
  },
  {
   "cell_type": "code",
   "execution_count": 1,
   "id": "6a087274-7d0e-44e9-a5d0-b244df100923",
   "metadata": {},
   "outputs": [],
   "source": [
    "# import packages\n",
    "import time, math, os\n",
    "from tqdm import tqdm\n",
    "import gc\n",
    "import pickle\n",
    "import random\n",
    "from datetime import datetime\n",
    "from operator import itemgetter\n",
    "import numpy as np\n",
    "import pandas as pd\n",
    "import warnings\n",
    "from collections import defaultdict\n",
    "warnings.filterwarnings('ignore')"
   ]
  },
  {
   "cell_type": "code",
   "execution_count": 6,
   "id": "c32e4993-c3bb-4957-9d3d-8f36ccd846f8",
   "metadata": {},
   "outputs": [],
   "source": [
    "DATA_PATH = './data/'\n",
    "SAVE_PATH = './tmp_results/'"
   ]
  },
  {
   "cell_type": "markdown",
   "id": "b56c9662-8f0d-44e0-8e6a-a06a826d5c9d",
   "metadata": {},
   "source": [
    "# df节省内存函数"
   ]
  },
  {
   "cell_type": "code",
   "execution_count": 3,
   "id": "4759939a-8167-42be-9180-a1908cf650ac",
   "metadata": {},
   "outputs": [],
   "source": [
    "# 节约内存的一个标配函数\n",
    "def reduce_mem(df):\n",
    "    starttime = time.time()\n",
    "    numerics = ['int16', 'int32', 'int64', 'float16', 'float32', 'float64']\n",
    "    start_mem = df.memory_usage().sum() / 1024**2\n",
    "    for col in df.columns:\n",
    "        col_type = df[col].dtypes\n",
    "        if col_type in numerics:\n",
    "            c_min = df[col].min()\n",
    "            c_max = df[col].max()\n",
    "            if pd.isnull(c_min) or pd.isnull(c_max):\n",
    "                continue\n",
    "            if str(col_type)[:3] == 'int':\n",
    "                if c_min > np.iinfo(np.int8).min and c_max < np.iinfo(np.int8).max:\n",
    "                    df[col] = df[col].astype(np.int8)\n",
    "                elif c_min > np.iinfo(np.int16).min and c_max < np.iinfo(np.int16).max:\n",
    "                    df[col] = df[col].astype(np.int16)\n",
    "                elif c_min > np.iinfo(np.int32).min and c_max < np.iinfo(np.int32).max:\n",
    "                    df[col] = df[col].astype(np.int32)\n",
    "                elif c_min > np.iinfo(np.int64).min and c_max < np.iinfo(np.int64).max:\n",
    "                    df[col] = df[col].astype(np.int64)\n",
    "            else:\n",
    "                if c_min > np.finfo(np.float16).min and c_max < np.finfo(np.float16).max:\n",
    "                    df[col] = df[col].astype(np.float16)\n",
    "                elif c_min > np.finfo(np.float32).min and c_max < np.finfo(np.float32).max:\n",
    "                    df[col] = df[col].astype(np.float32)\n",
    "                else:\n",
    "                    df[col] = df[col].astype(np.float64)\n",
    "    end_mem = df.memory_usage().sum() / 1024**2\n",
    "    print('-- Mem. usage decreased to {:5.2f} Mb ({:.1f}% reduction),time spend:{:2.2f} min'.format(end_mem,\n",
    "                                                                                                           100*(start_mem-end_mem)/start_mem,\n",
    "                                                                                                           (time.time()-starttime)/60))\n",
    "    return df\n"
   ]
  },
  {
   "cell_type": "markdown",
   "id": "6f9cdd46-85d7-4a72-93b4-5da0f341e8bd",
   "metadata": {},
   "source": [
    "# Exploration"
   ]
  },
  {
   "cell_type": "code",
   "execution_count": 21,
   "id": "44588ff6-641d-467b-b07a-022b31e016fd",
   "metadata": {},
   "outputs": [
    {
     "data": {
      "text/html": [
       "<div>\n",
       "<style scoped>\n",
       "    .dataframe tbody tr th:only-of-type {\n",
       "        vertical-align: middle;\n",
       "    }\n",
       "\n",
       "    .dataframe tbody tr th {\n",
       "        vertical-align: top;\n",
       "    }\n",
       "\n",
       "    .dataframe thead th {\n",
       "        text-align: right;\n",
       "    }\n",
       "</style>\n",
       "<table border=\"1\" class=\"dataframe\">\n",
       "  <thead>\n",
       "    <tr style=\"text-align: right;\">\n",
       "      <th></th>\n",
       "      <th>article_id</th>\n",
       "      <th>category_id</th>\n",
       "      <th>created_at_ts</th>\n",
       "      <th>words_count</th>\n",
       "    </tr>\n",
       "  </thead>\n",
       "  <tbody>\n",
       "    <tr>\n",
       "      <th>0</th>\n",
       "      <td>0</td>\n",
       "      <td>0</td>\n",
       "      <td>1513144419000</td>\n",
       "      <td>168</td>\n",
       "    </tr>\n",
       "    <tr>\n",
       "      <th>1</th>\n",
       "      <td>1</td>\n",
       "      <td>1</td>\n",
       "      <td>1405341936000</td>\n",
       "      <td>189</td>\n",
       "    </tr>\n",
       "    <tr>\n",
       "      <th>2</th>\n",
       "      <td>2</td>\n",
       "      <td>1</td>\n",
       "      <td>1408667706000</td>\n",
       "      <td>250</td>\n",
       "    </tr>\n",
       "    <tr>\n",
       "      <th>3</th>\n",
       "      <td>3</td>\n",
       "      <td>1</td>\n",
       "      <td>1408468313000</td>\n",
       "      <td>230</td>\n",
       "    </tr>\n",
       "    <tr>\n",
       "      <th>4</th>\n",
       "      <td>4</td>\n",
       "      <td>1</td>\n",
       "      <td>1407071171000</td>\n",
       "      <td>162</td>\n",
       "    </tr>\n",
       "    <tr>\n",
       "      <th>5</th>\n",
       "      <td>5</td>\n",
       "      <td>1</td>\n",
       "      <td>1407413929000</td>\n",
       "      <td>196</td>\n",
       "    </tr>\n",
       "    <tr>\n",
       "      <th>6</th>\n",
       "      <td>6</td>\n",
       "      <td>1</td>\n",
       "      <td>1409896802000</td>\n",
       "      <td>203</td>\n",
       "    </tr>\n",
       "    <tr>\n",
       "      <th>7</th>\n",
       "      <td>7</td>\n",
       "      <td>1</td>\n",
       "      <td>1412559620000</td>\n",
       "      <td>154</td>\n",
       "    </tr>\n",
       "    <tr>\n",
       "      <th>8</th>\n",
       "      <td>8</td>\n",
       "      <td>1</td>\n",
       "      <td>1414351550000</td>\n",
       "      <td>209</td>\n",
       "    </tr>\n",
       "    <tr>\n",
       "      <th>9</th>\n",
       "      <td>9</td>\n",
       "      <td>1</td>\n",
       "      <td>1412526792000</td>\n",
       "      <td>181</td>\n",
       "    </tr>\n",
       "  </tbody>\n",
       "</table>\n",
       "</div>"
      ],
      "text/plain": [
       "   article_id  category_id  created_at_ts  words_count\n",
       "0           0            0  1513144419000          168\n",
       "1           1            1  1405341936000          189\n",
       "2           2            1  1408667706000          250\n",
       "3           3            1  1408468313000          230\n",
       "4           4            1  1407071171000          162\n",
       "5           5            1  1407413929000          196\n",
       "6           6            1  1409896802000          203\n",
       "7           7            1  1412559620000          154\n",
       "8           8            1  1414351550000          209\n",
       "9           9            1  1412526792000          181"
      ]
     },
     "execution_count": 21,
     "metadata": {},
     "output_type": "execute_result"
    }
   ],
   "source": [
    "a = pd.read_csv(os.path.join(DATA_PATH, 'articles.csv'), nrows=10)\n",
    "a"
   ]
  },
  {
   "cell_type": "code",
   "execution_count": 22,
   "id": "b601a405-36dd-42a3-aa47-9d7f542f747f",
   "metadata": {},
   "outputs": [
    {
     "data": {
      "text/html": [
       "<div>\n",
       "<style scoped>\n",
       "    .dataframe tbody tr th:only-of-type {\n",
       "        vertical-align: middle;\n",
       "    }\n",
       "\n",
       "    .dataframe tbody tr th {\n",
       "        vertical-align: top;\n",
       "    }\n",
       "\n",
       "    .dataframe thead th {\n",
       "        text-align: right;\n",
       "    }\n",
       "</style>\n",
       "<table border=\"1\" class=\"dataframe\">\n",
       "  <thead>\n",
       "    <tr style=\"text-align: right;\">\n",
       "      <th></th>\n",
       "      <th>article_id</th>\n",
       "      <th>emb_0</th>\n",
       "      <th>emb_1</th>\n",
       "      <th>emb_2</th>\n",
       "      <th>emb_3</th>\n",
       "      <th>emb_4</th>\n",
       "      <th>emb_5</th>\n",
       "      <th>emb_6</th>\n",
       "      <th>emb_7</th>\n",
       "      <th>emb_8</th>\n",
       "      <th>...</th>\n",
       "      <th>emb_240</th>\n",
       "      <th>emb_241</th>\n",
       "      <th>emb_242</th>\n",
       "      <th>emb_243</th>\n",
       "      <th>emb_244</th>\n",
       "      <th>emb_245</th>\n",
       "      <th>emb_246</th>\n",
       "      <th>emb_247</th>\n",
       "      <th>emb_248</th>\n",
       "      <th>emb_249</th>\n",
       "    </tr>\n",
       "  </thead>\n",
       "  <tbody>\n",
       "    <tr>\n",
       "      <th>0</th>\n",
       "      <td>0</td>\n",
       "      <td>-0.161183</td>\n",
       "      <td>-0.957233</td>\n",
       "      <td>-0.137944</td>\n",
       "      <td>0.050855</td>\n",
       "      <td>0.830055</td>\n",
       "      <td>0.901365</td>\n",
       "      <td>-0.335148</td>\n",
       "      <td>-0.559561</td>\n",
       "      <td>-0.500603</td>\n",
       "      <td>...</td>\n",
       "      <td>0.321248</td>\n",
       "      <td>0.313999</td>\n",
       "      <td>0.636412</td>\n",
       "      <td>0.169179</td>\n",
       "      <td>0.540524</td>\n",
       "      <td>-0.813182</td>\n",
       "      <td>0.286870</td>\n",
       "      <td>-0.231686</td>\n",
       "      <td>0.597416</td>\n",
       "      <td>0.409623</td>\n",
       "    </tr>\n",
       "    <tr>\n",
       "      <th>1</th>\n",
       "      <td>1</td>\n",
       "      <td>-0.523216</td>\n",
       "      <td>-0.974058</td>\n",
       "      <td>0.738608</td>\n",
       "      <td>0.155234</td>\n",
       "      <td>0.626294</td>\n",
       "      <td>0.485297</td>\n",
       "      <td>-0.715657</td>\n",
       "      <td>-0.897996</td>\n",
       "      <td>-0.359747</td>\n",
       "      <td>...</td>\n",
       "      <td>-0.487843</td>\n",
       "      <td>0.823124</td>\n",
       "      <td>0.412688</td>\n",
       "      <td>-0.338654</td>\n",
       "      <td>0.320786</td>\n",
       "      <td>0.588643</td>\n",
       "      <td>-0.594137</td>\n",
       "      <td>0.182828</td>\n",
       "      <td>0.397090</td>\n",
       "      <td>-0.834364</td>\n",
       "    </tr>\n",
       "    <tr>\n",
       "      <th>2</th>\n",
       "      <td>2</td>\n",
       "      <td>-0.619619</td>\n",
       "      <td>-0.972960</td>\n",
       "      <td>-0.207360</td>\n",
       "      <td>-0.128861</td>\n",
       "      <td>0.044748</td>\n",
       "      <td>-0.387535</td>\n",
       "      <td>-0.730477</td>\n",
       "      <td>-0.066126</td>\n",
       "      <td>-0.754899</td>\n",
       "      <td>...</td>\n",
       "      <td>0.454756</td>\n",
       "      <td>0.473184</td>\n",
       "      <td>0.377866</td>\n",
       "      <td>-0.863887</td>\n",
       "      <td>-0.383365</td>\n",
       "      <td>0.137721</td>\n",
       "      <td>-0.810877</td>\n",
       "      <td>-0.447580</td>\n",
       "      <td>0.805932</td>\n",
       "      <td>-0.285284</td>\n",
       "    </tr>\n",
       "    <tr>\n",
       "      <th>3</th>\n",
       "      <td>3</td>\n",
       "      <td>-0.740843</td>\n",
       "      <td>-0.975749</td>\n",
       "      <td>0.391698</td>\n",
       "      <td>0.641738</td>\n",
       "      <td>-0.268645</td>\n",
       "      <td>0.191745</td>\n",
       "      <td>-0.825593</td>\n",
       "      <td>-0.710591</td>\n",
       "      <td>-0.040099</td>\n",
       "      <td>...</td>\n",
       "      <td>0.271535</td>\n",
       "      <td>0.036040</td>\n",
       "      <td>0.480029</td>\n",
       "      <td>-0.763173</td>\n",
       "      <td>0.022627</td>\n",
       "      <td>0.565165</td>\n",
       "      <td>-0.910286</td>\n",
       "      <td>-0.537838</td>\n",
       "      <td>0.243541</td>\n",
       "      <td>-0.885329</td>\n",
       "    </tr>\n",
       "    <tr>\n",
       "      <th>4</th>\n",
       "      <td>4</td>\n",
       "      <td>-0.279052</td>\n",
       "      <td>-0.972315</td>\n",
       "      <td>0.685374</td>\n",
       "      <td>0.113056</td>\n",
       "      <td>0.238315</td>\n",
       "      <td>0.271913</td>\n",
       "      <td>-0.568816</td>\n",
       "      <td>0.341194</td>\n",
       "      <td>-0.600554</td>\n",
       "      <td>...</td>\n",
       "      <td>0.238286</td>\n",
       "      <td>0.809268</td>\n",
       "      <td>0.427521</td>\n",
       "      <td>-0.615932</td>\n",
       "      <td>-0.503697</td>\n",
       "      <td>0.614450</td>\n",
       "      <td>-0.917760</td>\n",
       "      <td>-0.424061</td>\n",
       "      <td>0.185484</td>\n",
       "      <td>-0.580292</td>\n",
       "    </tr>\n",
       "    <tr>\n",
       "      <th>5</th>\n",
       "      <td>5</td>\n",
       "      <td>-0.724885</td>\n",
       "      <td>-0.974610</td>\n",
       "      <td>0.114743</td>\n",
       "      <td>0.135984</td>\n",
       "      <td>-0.059124</td>\n",
       "      <td>0.139286</td>\n",
       "      <td>-0.720786</td>\n",
       "      <td>-0.311302</td>\n",
       "      <td>-0.543600</td>\n",
       "      <td>...</td>\n",
       "      <td>0.430414</td>\n",
       "      <td>0.492010</td>\n",
       "      <td>0.650828</td>\n",
       "      <td>-0.627942</td>\n",
       "      <td>0.562439</td>\n",
       "      <td>0.792561</td>\n",
       "      <td>-0.877570</td>\n",
       "      <td>-0.002212</td>\n",
       "      <td>0.426586</td>\n",
       "      <td>-0.065801</td>\n",
       "    </tr>\n",
       "    <tr>\n",
       "      <th>6</th>\n",
       "      <td>6</td>\n",
       "      <td>-0.161707</td>\n",
       "      <td>-0.967413</td>\n",
       "      <td>0.637266</td>\n",
       "      <td>0.249817</td>\n",
       "      <td>0.471958</td>\n",
       "      <td>0.391854</td>\n",
       "      <td>-0.815684</td>\n",
       "      <td>-0.296389</td>\n",
       "      <td>-0.804284</td>\n",
       "      <td>...</td>\n",
       "      <td>0.020420</td>\n",
       "      <td>0.509749</td>\n",
       "      <td>0.559321</td>\n",
       "      <td>-0.794207</td>\n",
       "      <td>-0.366995</td>\n",
       "      <td>0.616669</td>\n",
       "      <td>-0.626267</td>\n",
       "      <td>-0.452933</td>\n",
       "      <td>0.166825</td>\n",
       "      <td>-0.728330</td>\n",
       "    </tr>\n",
       "    <tr>\n",
       "      <th>7</th>\n",
       "      <td>7</td>\n",
       "      <td>-0.104534</td>\n",
       "      <td>-0.965899</td>\n",
       "      <td>0.800449</td>\n",
       "      <td>0.351384</td>\n",
       "      <td>-0.389743</td>\n",
       "      <td>0.421198</td>\n",
       "      <td>-0.600862</td>\n",
       "      <td>-0.021568</td>\n",
       "      <td>-0.265164</td>\n",
       "      <td>...</td>\n",
       "      <td>0.124667</td>\n",
       "      <td>0.545793</td>\n",
       "      <td>0.372644</td>\n",
       "      <td>-0.510156</td>\n",
       "      <td>-0.217100</td>\n",
       "      <td>0.676449</td>\n",
       "      <td>-0.852480</td>\n",
       "      <td>0.198584</td>\n",
       "      <td>0.243181</td>\n",
       "      <td>-0.596663</td>\n",
       "    </tr>\n",
       "    <tr>\n",
       "      <th>8</th>\n",
       "      <td>8</td>\n",
       "      <td>-0.417274</td>\n",
       "      <td>-0.977311</td>\n",
       "      <td>0.054967</td>\n",
       "      <td>0.351192</td>\n",
       "      <td>0.049049</td>\n",
       "      <td>-0.460898</td>\n",
       "      <td>-0.443555</td>\n",
       "      <td>0.154505</td>\n",
       "      <td>0.018687</td>\n",
       "      <td>...</td>\n",
       "      <td>0.601953</td>\n",
       "      <td>0.756593</td>\n",
       "      <td>-0.257438</td>\n",
       "      <td>-0.130827</td>\n",
       "      <td>-0.061200</td>\n",
       "      <td>0.438138</td>\n",
       "      <td>-0.719562</td>\n",
       "      <td>-0.744506</td>\n",
       "      <td>0.163397</td>\n",
       "      <td>-0.499539</td>\n",
       "    </tr>\n",
       "    <tr>\n",
       "      <th>9</th>\n",
       "      <td>9</td>\n",
       "      <td>-0.348442</td>\n",
       "      <td>-0.966953</td>\n",
       "      <td>0.682574</td>\n",
       "      <td>-0.400164</td>\n",
       "      <td>0.646688</td>\n",
       "      <td>0.085186</td>\n",
       "      <td>-0.636333</td>\n",
       "      <td>-0.351318</td>\n",
       "      <td>-0.542529</td>\n",
       "      <td>...</td>\n",
       "      <td>0.220249</td>\n",
       "      <td>0.025085</td>\n",
       "      <td>0.510007</td>\n",
       "      <td>-0.832078</td>\n",
       "      <td>-0.555277</td>\n",
       "      <td>0.317832</td>\n",
       "      <td>-0.576926</td>\n",
       "      <td>-0.671720</td>\n",
       "      <td>0.304353</td>\n",
       "      <td>-0.721567</td>\n",
       "    </tr>\n",
       "  </tbody>\n",
       "</table>\n",
       "<p>10 rows × 251 columns</p>\n",
       "</div>"
      ],
      "text/plain": [
       "   article_id     emb_0     emb_1     emb_2     emb_3     emb_4     emb_5  \\\n",
       "0           0 -0.161183 -0.957233 -0.137944  0.050855  0.830055  0.901365   \n",
       "1           1 -0.523216 -0.974058  0.738608  0.155234  0.626294  0.485297   \n",
       "2           2 -0.619619 -0.972960 -0.207360 -0.128861  0.044748 -0.387535   \n",
       "3           3 -0.740843 -0.975749  0.391698  0.641738 -0.268645  0.191745   \n",
       "4           4 -0.279052 -0.972315  0.685374  0.113056  0.238315  0.271913   \n",
       "5           5 -0.724885 -0.974610  0.114743  0.135984 -0.059124  0.139286   \n",
       "6           6 -0.161707 -0.967413  0.637266  0.249817  0.471958  0.391854   \n",
       "7           7 -0.104534 -0.965899  0.800449  0.351384 -0.389743  0.421198   \n",
       "8           8 -0.417274 -0.977311  0.054967  0.351192  0.049049 -0.460898   \n",
       "9           9 -0.348442 -0.966953  0.682574 -0.400164  0.646688  0.085186   \n",
       "\n",
       "      emb_6     emb_7     emb_8  ...   emb_240   emb_241   emb_242   emb_243  \\\n",
       "0 -0.335148 -0.559561 -0.500603  ...  0.321248  0.313999  0.636412  0.169179   \n",
       "1 -0.715657 -0.897996 -0.359747  ... -0.487843  0.823124  0.412688 -0.338654   \n",
       "2 -0.730477 -0.066126 -0.754899  ...  0.454756  0.473184  0.377866 -0.863887   \n",
       "3 -0.825593 -0.710591 -0.040099  ...  0.271535  0.036040  0.480029 -0.763173   \n",
       "4 -0.568816  0.341194 -0.600554  ...  0.238286  0.809268  0.427521 -0.615932   \n",
       "5 -0.720786 -0.311302 -0.543600  ...  0.430414  0.492010  0.650828 -0.627942   \n",
       "6 -0.815684 -0.296389 -0.804284  ...  0.020420  0.509749  0.559321 -0.794207   \n",
       "7 -0.600862 -0.021568 -0.265164  ...  0.124667  0.545793  0.372644 -0.510156   \n",
       "8 -0.443555  0.154505  0.018687  ...  0.601953  0.756593 -0.257438 -0.130827   \n",
       "9 -0.636333 -0.351318 -0.542529  ...  0.220249  0.025085  0.510007 -0.832078   \n",
       "\n",
       "    emb_244   emb_245   emb_246   emb_247   emb_248   emb_249  \n",
       "0  0.540524 -0.813182  0.286870 -0.231686  0.597416  0.409623  \n",
       "1  0.320786  0.588643 -0.594137  0.182828  0.397090 -0.834364  \n",
       "2 -0.383365  0.137721 -0.810877 -0.447580  0.805932 -0.285284  \n",
       "3  0.022627  0.565165 -0.910286 -0.537838  0.243541 -0.885329  \n",
       "4 -0.503697  0.614450 -0.917760 -0.424061  0.185484 -0.580292  \n",
       "5  0.562439  0.792561 -0.877570 -0.002212  0.426586 -0.065801  \n",
       "6 -0.366995  0.616669 -0.626267 -0.452933  0.166825 -0.728330  \n",
       "7 -0.217100  0.676449 -0.852480  0.198584  0.243181 -0.596663  \n",
       "8 -0.061200  0.438138 -0.719562 -0.744506  0.163397 -0.499539  \n",
       "9 -0.555277  0.317832 -0.576926 -0.671720  0.304353 -0.721567  \n",
       "\n",
       "[10 rows x 251 columns]"
      ]
     },
     "execution_count": 22,
     "metadata": {},
     "output_type": "execute_result"
    }
   ],
   "source": [
    "a_emb = pd.read_csv(os.path.join(DATA_PATH, 'articles_emb.csv'), nrows=10)\n",
    "a_emb"
   ]
  },
  {
   "cell_type": "code",
   "execution_count": 23,
   "id": "6d5bc914-92a4-4497-b7fd-5ad16f456942",
   "metadata": {},
   "outputs": [
    {
     "data": {
      "text/html": [
       "<div>\n",
       "<style scoped>\n",
       "    .dataframe tbody tr th:only-of-type {\n",
       "        vertical-align: middle;\n",
       "    }\n",
       "\n",
       "    .dataframe tbody tr th {\n",
       "        vertical-align: top;\n",
       "    }\n",
       "\n",
       "    .dataframe thead th {\n",
       "        text-align: right;\n",
       "    }\n",
       "</style>\n",
       "<table border=\"1\" class=\"dataframe\">\n",
       "  <thead>\n",
       "    <tr style=\"text-align: right;\">\n",
       "      <th></th>\n",
       "      <th>user_id</th>\n",
       "      <th>click_article_id</th>\n",
       "      <th>click_timestamp</th>\n",
       "      <th>click_environment</th>\n",
       "      <th>click_deviceGroup</th>\n",
       "      <th>click_os</th>\n",
       "      <th>click_country</th>\n",
       "      <th>click_region</th>\n",
       "      <th>click_referrer_type</th>\n",
       "    </tr>\n",
       "  </thead>\n",
       "  <tbody>\n",
       "    <tr>\n",
       "      <th>0</th>\n",
       "      <td>199999</td>\n",
       "      <td>160417</td>\n",
       "      <td>1507029570190</td>\n",
       "      <td>4</td>\n",
       "      <td>1</td>\n",
       "      <td>17</td>\n",
       "      <td>1</td>\n",
       "      <td>13</td>\n",
       "      <td>1</td>\n",
       "    </tr>\n",
       "    <tr>\n",
       "      <th>1</th>\n",
       "      <td>199999</td>\n",
       "      <td>5408</td>\n",
       "      <td>1507029571478</td>\n",
       "      <td>4</td>\n",
       "      <td>1</td>\n",
       "      <td>17</td>\n",
       "      <td>1</td>\n",
       "      <td>13</td>\n",
       "      <td>1</td>\n",
       "    </tr>\n",
       "    <tr>\n",
       "      <th>2</th>\n",
       "      <td>199999</td>\n",
       "      <td>50823</td>\n",
       "      <td>1507029601478</td>\n",
       "      <td>4</td>\n",
       "      <td>1</td>\n",
       "      <td>17</td>\n",
       "      <td>1</td>\n",
       "      <td>13</td>\n",
       "      <td>1</td>\n",
       "    </tr>\n",
       "    <tr>\n",
       "      <th>3</th>\n",
       "      <td>199998</td>\n",
       "      <td>157770</td>\n",
       "      <td>1507029532200</td>\n",
       "      <td>4</td>\n",
       "      <td>1</td>\n",
       "      <td>17</td>\n",
       "      <td>1</td>\n",
       "      <td>25</td>\n",
       "      <td>5</td>\n",
       "    </tr>\n",
       "    <tr>\n",
       "      <th>4</th>\n",
       "      <td>199998</td>\n",
       "      <td>96613</td>\n",
       "      <td>1507029671831</td>\n",
       "      <td>4</td>\n",
       "      <td>1</td>\n",
       "      <td>17</td>\n",
       "      <td>1</td>\n",
       "      <td>25</td>\n",
       "      <td>5</td>\n",
       "    </tr>\n",
       "    <tr>\n",
       "      <th>5</th>\n",
       "      <td>199998</td>\n",
       "      <td>144978</td>\n",
       "      <td>1507029804858</td>\n",
       "      <td>4</td>\n",
       "      <td>1</td>\n",
       "      <td>17</td>\n",
       "      <td>1</td>\n",
       "      <td>25</td>\n",
       "      <td>5</td>\n",
       "    </tr>\n",
       "    <tr>\n",
       "      <th>6</th>\n",
       "      <td>199998</td>\n",
       "      <td>285371</td>\n",
       "      <td>1507029834858</td>\n",
       "      <td>4</td>\n",
       "      <td>1</td>\n",
       "      <td>17</td>\n",
       "      <td>1</td>\n",
       "      <td>25</td>\n",
       "      <td>5</td>\n",
       "    </tr>\n",
       "    <tr>\n",
       "      <th>7</th>\n",
       "      <td>199997</td>\n",
       "      <td>224171</td>\n",
       "      <td>1507029683061</td>\n",
       "      <td>4</td>\n",
       "      <td>1</td>\n",
       "      <td>17</td>\n",
       "      <td>1</td>\n",
       "      <td>16</td>\n",
       "      <td>1</td>\n",
       "    </tr>\n",
       "    <tr>\n",
       "      <th>8</th>\n",
       "      <td>199997</td>\n",
       "      <td>223931</td>\n",
       "      <td>1507029713061</td>\n",
       "      <td>4</td>\n",
       "      <td>1</td>\n",
       "      <td>17</td>\n",
       "      <td>1</td>\n",
       "      <td>16</td>\n",
       "      <td>1</td>\n",
       "    </tr>\n",
       "    <tr>\n",
       "      <th>9</th>\n",
       "      <td>199996</td>\n",
       "      <td>299697</td>\n",
       "      <td>1507029600494</td>\n",
       "      <td>4</td>\n",
       "      <td>1</td>\n",
       "      <td>17</td>\n",
       "      <td>1</td>\n",
       "      <td>25</td>\n",
       "      <td>2</td>\n",
       "    </tr>\n",
       "  </tbody>\n",
       "</table>\n",
       "</div>"
      ],
      "text/plain": [
       "   user_id  click_article_id  click_timestamp  click_environment  \\\n",
       "0   199999            160417    1507029570190                  4   \n",
       "1   199999              5408    1507029571478                  4   \n",
       "2   199999             50823    1507029601478                  4   \n",
       "3   199998            157770    1507029532200                  4   \n",
       "4   199998             96613    1507029671831                  4   \n",
       "5   199998            144978    1507029804858                  4   \n",
       "6   199998            285371    1507029834858                  4   \n",
       "7   199997            224171    1507029683061                  4   \n",
       "8   199997            223931    1507029713061                  4   \n",
       "9   199996            299697    1507029600494                  4   \n",
       "\n",
       "   click_deviceGroup  click_os  click_country  click_region  \\\n",
       "0                  1        17              1            13   \n",
       "1                  1        17              1            13   \n",
       "2                  1        17              1            13   \n",
       "3                  1        17              1            25   \n",
       "4                  1        17              1            25   \n",
       "5                  1        17              1            25   \n",
       "6                  1        17              1            25   \n",
       "7                  1        17              1            16   \n",
       "8                  1        17              1            16   \n",
       "9                  1        17              1            25   \n",
       "\n",
       "   click_referrer_type  \n",
       "0                    1  \n",
       "1                    1  \n",
       "2                    1  \n",
       "3                    5  \n",
       "4                    5  \n",
       "5                    5  \n",
       "6                    5  \n",
       "7                    1  \n",
       "8                    1  \n",
       "9                    2  "
      ]
     },
     "execution_count": 23,
     "metadata": {},
     "output_type": "execute_result"
    }
   ],
   "source": [
    "c = pd.read_csv(os.path.join(DATA_PATH, 'train_click_log.csv'), nrows=10)\n",
    "c"
   ]
  },
  {
   "cell_type": "code",
   "execution_count": null,
   "id": "aca883ee-4e91-4c9e-a657-def3ffdf08c3",
   "metadata": {},
   "outputs": [],
   "source": []
  },
  {
   "cell_type": "markdown",
   "id": "b6eadd02-68cf-4076-88ef-997fbd97af0c",
   "metadata": {},
   "source": [
    "# 读取采样或全量数据"
   ]
  },
  {
   "cell_type": "code",
   "execution_count": 7,
   "id": "58264b47-3a20-4b89-aa48-10c21cbcfc79",
   "metadata": {},
   "outputs": [],
   "source": [
    "# debug模式：从训练集中划出一部分数据来调试代码\n",
    "def get_all_click_sample(data_path, sample_nums=10000):\n",
    "    \"\"\"\n",
    "        训练集中采样一部分数据调试\n",
    "        data_path: 原数据的存储路径\n",
    "        sample_nums: 采样数目（这里由于机器的内存限制，可以采样用户做）\n",
    "    \"\"\"\n",
    "    all_click = pd.read_csv(data_path + 'train_click_log.csv')\n",
    "    all_user_ids = all_click.user_id.unique()\n",
    "\n",
    "    sample_user_ids = np.random.choice(all_user_ids, size=sample_nums, replace=False) \n",
    "    all_click = all_click[all_click['user_id'].isin(sample_user_ids)]\n",
    "    \n",
    "    all_click = all_click.drop_duplicates((['user_id', 'click_article_id', 'click_timestamp']))\n",
    "    return all_click\n",
    "\n",
    "# 读取点击数据，这里分成线上和线下，如果是为了获取线上提交结果应该讲测试集中的点击数据合并到总的数据中\n",
    "# 如果是为了线下验证模型的有效性或者特征的有效性，可以只使用训练集\n",
    "def get_all_click_df(data_path=DATA_PATH, offline=True):\n",
    "    if offline:\n",
    "        all_click = pd.read_csv(data_path + 'train_click_log.csv')\n",
    "    else:\n",
    "        trn_click = pd.read_csv(data_path + 'train_click_log.csv')\n",
    "        tst_click = pd.read_csv(data_path + 'testA_click_log.csv')\n",
    "\n",
    "        all_click = trn_click.append(tst_click)\n",
    "    \n",
    "    all_click = all_click.drop_duplicates((['user_id', 'click_article_id', 'click_timestamp']))\n",
    "    return all_click\n"
   ]
  },
  {
   "cell_type": "code",
   "execution_count": 8,
   "id": "144cc06c-a88a-4470-95ad-efa8a4a82b83",
   "metadata": {},
   "outputs": [],
   "source": [
    "# 全量训练集\n",
    "all_click_df = get_all_click_df(offline=False)"
   ]
  },
  {
   "cell_type": "code",
   "execution_count": 24,
   "id": "9707c4e1-d438-41bc-8a9e-de11ce4bedd8",
   "metadata": {},
   "outputs": [
    {
     "data": {
      "text/plain": [
       "(1630633, 9)"
      ]
     },
     "execution_count": 24,
     "metadata": {},
     "output_type": "execute_result"
    }
   ],
   "source": [
    "all_click_df.shape"
   ]
  },
  {
   "cell_type": "code",
   "execution_count": 25,
   "id": "bb0adb76-8d41-4e50-9fd5-d57f4fac8988",
   "metadata": {},
   "outputs": [
    {
     "data": {
      "text/html": [
       "<div>\n",
       "<style scoped>\n",
       "    .dataframe tbody tr th:only-of-type {\n",
       "        vertical-align: middle;\n",
       "    }\n",
       "\n",
       "    .dataframe tbody tr th {\n",
       "        vertical-align: top;\n",
       "    }\n",
       "\n",
       "    .dataframe thead th {\n",
       "        text-align: right;\n",
       "    }\n",
       "</style>\n",
       "<table border=\"1\" class=\"dataframe\">\n",
       "  <thead>\n",
       "    <tr style=\"text-align: right;\">\n",
       "      <th></th>\n",
       "      <th>user_id</th>\n",
       "      <th>click_article_id</th>\n",
       "      <th>click_timestamp</th>\n",
       "      <th>click_environment</th>\n",
       "      <th>click_deviceGroup</th>\n",
       "      <th>click_os</th>\n",
       "      <th>click_country</th>\n",
       "      <th>click_region</th>\n",
       "      <th>click_referrer_type</th>\n",
       "    </tr>\n",
       "  </thead>\n",
       "  <tbody>\n",
       "    <tr>\n",
       "      <th>0</th>\n",
       "      <td>199999</td>\n",
       "      <td>160417</td>\n",
       "      <td>1507029570190</td>\n",
       "      <td>4</td>\n",
       "      <td>1</td>\n",
       "      <td>17</td>\n",
       "      <td>1</td>\n",
       "      <td>13</td>\n",
       "      <td>1</td>\n",
       "    </tr>\n",
       "    <tr>\n",
       "      <th>1</th>\n",
       "      <td>199999</td>\n",
       "      <td>5408</td>\n",
       "      <td>1507029571478</td>\n",
       "      <td>4</td>\n",
       "      <td>1</td>\n",
       "      <td>17</td>\n",
       "      <td>1</td>\n",
       "      <td>13</td>\n",
       "      <td>1</td>\n",
       "    </tr>\n",
       "    <tr>\n",
       "      <th>2</th>\n",
       "      <td>199999</td>\n",
       "      <td>50823</td>\n",
       "      <td>1507029601478</td>\n",
       "      <td>4</td>\n",
       "      <td>1</td>\n",
       "      <td>17</td>\n",
       "      <td>1</td>\n",
       "      <td>13</td>\n",
       "      <td>1</td>\n",
       "    </tr>\n",
       "    <tr>\n",
       "      <th>3</th>\n",
       "      <td>199998</td>\n",
       "      <td>157770</td>\n",
       "      <td>1507029532200</td>\n",
       "      <td>4</td>\n",
       "      <td>1</td>\n",
       "      <td>17</td>\n",
       "      <td>1</td>\n",
       "      <td>25</td>\n",
       "      <td>5</td>\n",
       "    </tr>\n",
       "    <tr>\n",
       "      <th>4</th>\n",
       "      <td>199998</td>\n",
       "      <td>96613</td>\n",
       "      <td>1507029671831</td>\n",
       "      <td>4</td>\n",
       "      <td>1</td>\n",
       "      <td>17</td>\n",
       "      <td>1</td>\n",
       "      <td>25</td>\n",
       "      <td>5</td>\n",
       "    </tr>\n",
       "  </tbody>\n",
       "</table>\n",
       "</div>"
      ],
      "text/plain": [
       "   user_id  click_article_id  click_timestamp  click_environment  \\\n",
       "0   199999            160417    1507029570190                  4   \n",
       "1   199999              5408    1507029571478                  4   \n",
       "2   199999             50823    1507029601478                  4   \n",
       "3   199998            157770    1507029532200                  4   \n",
       "4   199998             96613    1507029671831                  4   \n",
       "\n",
       "   click_deviceGroup  click_os  click_country  click_region  \\\n",
       "0                  1        17              1            13   \n",
       "1                  1        17              1            13   \n",
       "2                  1        17              1            13   \n",
       "3                  1        17              1            25   \n",
       "4                  1        17              1            25   \n",
       "\n",
       "   click_referrer_type  \n",
       "0                    1  \n",
       "1                    1  \n",
       "2                    1  \n",
       "3                    5  \n",
       "4                    5  "
      ]
     },
     "execution_count": 25,
     "metadata": {},
     "output_type": "execute_result"
    }
   ],
   "source": [
    "all_click_df.head()"
   ]
  },
  {
   "cell_type": "code",
   "execution_count": 26,
   "id": "1e016218-ea5f-4d48-ad60-fa5b2c01e36e",
   "metadata": {},
   "outputs": [
    {
     "data": {
      "text/plain": [
       "(1112623, 9)"
      ]
     },
     "execution_count": 26,
     "metadata": {},
     "output_type": "execute_result"
    }
   ],
   "source": [
    "train = pd.read_csv(os.path.join(DATA_PATH, 'train_click_log.csv'))\n",
    "train.shape"
   ]
  },
  {
   "cell_type": "code",
   "execution_count": 222,
   "id": "3587c12f-436d-4ded-a94f-db5ce4abb5b3",
   "metadata": {},
   "outputs": [],
   "source": [
    "train = pd.read_csv(os.path.join(DATA_PATH, 'train_click_log.csv'))\n",
    "test = pd.read_csv(os.path.join(DATA_PATH, 'testA_click_log.csv'))\n",
    "total = train.append(test)"
   ]
  },
  {
   "cell_type": "code",
   "execution_count": 223,
   "id": "ae744251-08b6-4d08-82c8-e5f3dc655dbc",
   "metadata": {},
   "outputs": [
    {
     "data": {
      "text/plain": [
       "(1630633, 9)"
      ]
     },
     "execution_count": 223,
     "metadata": {},
     "output_type": "execute_result"
    }
   ],
   "source": [
    "total.shape"
   ]
  },
  {
   "cell_type": "code",
   "execution_count": 224,
   "id": "7f3974a1-900b-4c00-ac1a-25cc44ee4349",
   "metadata": {},
   "outputs": [
    {
     "data": {
      "text/plain": [
       "200000"
      ]
     },
     "execution_count": 224,
     "metadata": {},
     "output_type": "execute_result"
    }
   ],
   "source": [
    "train.user_id.nunique()"
   ]
  },
  {
   "cell_type": "code",
   "execution_count": 28,
   "id": "e64ea7d2-1d62-4ed9-b486-74211f0a4563",
   "metadata": {},
   "outputs": [
    {
     "data": {
      "text/plain": [
       "31116"
      ]
     },
     "execution_count": 28,
     "metadata": {},
     "output_type": "execute_result"
    }
   ],
   "source": [
    "train.click_article_id.nunique()"
   ]
  },
  {
   "cell_type": "code",
   "execution_count": 31,
   "id": "38ff2dd4-7257-4828-a371-56369533a76d",
   "metadata": {},
   "outputs": [
    {
     "data": {
      "text/html": [
       "<div>\n",
       "<style scoped>\n",
       "    .dataframe tbody tr th:only-of-type {\n",
       "        vertical-align: middle;\n",
       "    }\n",
       "\n",
       "    .dataframe tbody tr th {\n",
       "        vertical-align: top;\n",
       "    }\n",
       "\n",
       "    .dataframe thead th {\n",
       "        text-align: right;\n",
       "    }\n",
       "</style>\n",
       "<table border=\"1\" class=\"dataframe\">\n",
       "  <thead>\n",
       "    <tr style=\"text-align: right;\">\n",
       "      <th></th>\n",
       "      <th>user_id</th>\n",
       "      <th>click_article_id</th>\n",
       "      <th>click_timestamp</th>\n",
       "      <th>click_environment</th>\n",
       "      <th>click_deviceGroup</th>\n",
       "      <th>click_os</th>\n",
       "      <th>click_country</th>\n",
       "      <th>click_region</th>\n",
       "      <th>click_referrer_type</th>\n",
       "    </tr>\n",
       "  </thead>\n",
       "  <tbody>\n",
       "  </tbody>\n",
       "</table>\n",
       "</div>"
      ],
      "text/plain": [
       "Empty DataFrame\n",
       "Columns: [user_id, click_article_id, click_timestamp, click_environment, click_deviceGroup, click_os, click_country, click_region, click_referrer_type]\n",
       "Index: []"
      ]
     },
     "execution_count": 31,
     "metadata": {},
     "output_type": "execute_result"
    }
   ],
   "source": [
    "train[train.duplicated(['user_id', 'click_article_id', 'click_timestamp'], keep=False)].sort_values(['user_id', 'click_article_id'])"
   ]
  },
  {
   "cell_type": "code",
   "execution_count": 32,
   "id": "1aa5d656-7927-4392-a261-e3a4734b60ba",
   "metadata": {},
   "outputs": [
    {
     "data": {
      "text/html": [
       "<div>\n",
       "<style scoped>\n",
       "    .dataframe tbody tr th:only-of-type {\n",
       "        vertical-align: middle;\n",
       "    }\n",
       "\n",
       "    .dataframe tbody tr th {\n",
       "        vertical-align: top;\n",
       "    }\n",
       "\n",
       "    .dataframe thead th {\n",
       "        text-align: right;\n",
       "    }\n",
       "</style>\n",
       "<table border=\"1\" class=\"dataframe\">\n",
       "  <thead>\n",
       "    <tr style=\"text-align: right;\">\n",
       "      <th></th>\n",
       "      <th>user_id</th>\n",
       "      <th>click_article_id</th>\n",
       "      <th>click_timestamp</th>\n",
       "      <th>click_environment</th>\n",
       "      <th>click_deviceGroup</th>\n",
       "      <th>click_os</th>\n",
       "      <th>click_country</th>\n",
       "      <th>click_region</th>\n",
       "      <th>click_referrer_type</th>\n",
       "    </tr>\n",
       "  </thead>\n",
       "  <tbody>\n",
       "  </tbody>\n",
       "</table>\n",
       "</div>"
      ],
      "text/plain": [
       "Empty DataFrame\n",
       "Columns: [user_id, click_article_id, click_timestamp, click_environment, click_deviceGroup, click_os, click_country, click_region, click_referrer_type]\n",
       "Index: []"
      ]
     },
     "execution_count": 32,
     "metadata": {},
     "output_type": "execute_result"
    }
   ],
   "source": [
    "all_click_df[all_click_df.duplicated(['user_id', 'click_article_id', 'click_timestamp'], keep=False)]"
   ]
  },
  {
   "cell_type": "code",
   "execution_count": null,
   "id": "19211b12-a0c7-4ff4-b6a2-d66ebdecabe0",
   "metadata": {},
   "outputs": [],
   "source": []
  },
  {
   "cell_type": "code",
   "execution_count": null,
   "id": "eb32d757-79b7-4ae2-9097-413f8dd26f57",
   "metadata": {},
   "outputs": [],
   "source": []
  },
  {
   "cell_type": "markdown",
   "id": "bf8f3a43-fa80-487b-973d-ba086335fbd1",
   "metadata": {},
   "source": [
    "# 获取 用户 - 文章 - 点击时间字典"
   ]
  },
  {
   "cell_type": "code",
   "execution_count": 125,
   "id": "6937f51e-8d6e-4ac1-ae2c-70e3e60fd00d",
   "metadata": {},
   "outputs": [],
   "source": [
    "# 根据点击时间获取用户的点击文章序列   {user1: {item1: time1, item2: time2..}...}\n",
    "# @pysnooper.snoop()\n",
    "def make_item_time_pair(df):\n",
    "    return list(zip(df['click_article_id'], df['click_timestamp']))\n",
    "\n",
    "# @pysnooper.snoop()\n",
    "def get_user_item_time(click_df):\n",
    "    \n",
    "    click_df = click_df.sort_values('click_timestamp')\n",
    "    \n",
    "    \n",
    "    \n",
    "    user_item_time_df = click_df.groupby('user_id')['click_article_id', 'click_timestamp'].apply(lambda x: make_item_time_pair(x))\\\n",
    "                                                            .reset_index().rename(columns={0: 'item_time_list'})\n",
    "    user_item_time_dict = dict(zip(user_item_time_df['user_id'], user_item_time_df['item_time_list']))\n",
    "    \n",
    "    return user_item_time_dict\n"
   ]
  },
  {
   "cell_type": "code",
   "execution_count": 33,
   "id": "b989b4ee-a879-4729-878f-96fa3b355c0d",
   "metadata": {},
   "outputs": [],
   "source": [
    "u_i_t_dict = get_user_item_time(train)"
   ]
  },
  {
   "cell_type": "code",
   "execution_count": 34,
   "id": "c28f0d34-fe2a-4ee9-bbd9-7d9fa2555d20",
   "metadata": {},
   "outputs": [
    {
     "data": {
      "text/plain": [
       "200000"
      ]
     },
     "execution_count": 34,
     "metadata": {},
     "output_type": "execute_result"
    }
   ],
   "source": [
    "len(u_i_t_dict)"
   ]
  },
  {
   "cell_type": "code",
   "execution_count": 35,
   "id": "51396100-94d8-4af9-b3ed-9c7a4753a073",
   "metadata": {},
   "outputs": [
    {
     "data": {
      "text/plain": [
       "855947    79990\n",
       "Name: user_id, dtype: int64"
      ]
     },
     "execution_count": 35,
     "metadata": {},
     "output_type": "execute_result"
    }
   ],
   "source": [
    "train.user_id.sample(1)"
   ]
  },
  {
   "cell_type": "code",
   "execution_count": 37,
   "id": "4ebb66b7-5968-440c-8e9b-ab2b35a9752e",
   "metadata": {},
   "outputs": [],
   "source": [
    "# u_i_t_dict[79990]"
   ]
  },
  {
   "cell_type": "code",
   "execution_count": 225,
   "id": "4f7c739f-5cde-489a-8b4e-6b6e55895c19",
   "metadata": {},
   "outputs": [],
   "source": [
    "train.columns = ['u', 'a', 'ts', 'env', 'device', 'os', 'country', 'region', 'referrer']\n",
    "test.columns = ['u', 'a', 'ts', 'env', 'device', 'os', 'country', 'region', 'referrer']\n",
    "total.columns = ['u', 'a', 'ts', 'env', 'device', 'os', 'country', 'region', 'referrer']"
   ]
  },
  {
   "cell_type": "code",
   "execution_count": null,
   "id": "068925c2-ab64-4b29-aa52-0c15788eaa83",
   "metadata": {},
   "outputs": [],
   "source": []
  },
  {
   "cell_type": "markdown",
   "id": "d8c09544-291c-44da-bdc3-7559f4e768e5",
   "metadata": {},
   "source": [
    "# 获取点击最多的Topk个文章"
   ]
  },
  {
   "cell_type": "code",
   "execution_count": 10,
   "id": "b19b740e-30e4-4b61-b213-8604e2b42c48",
   "metadata": {},
   "outputs": [],
   "source": [
    "# 获取近期点击最多的文章\n",
    "def get_item_topk_click(click_df, k):\n",
    "    topk_click = click_df['click_article_id'].value_counts().index[:k]\n",
    "    return topk_click\n"
   ]
  },
  {
   "cell_type": "code",
   "execution_count": 55,
   "id": "1af9eef5-de93-4e2b-96d2-ec1974508e45",
   "metadata": {},
   "outputs": [
    {
     "data": {
      "text/plain": [
       "Int64Index([234698, 123909, 336221, 96210, 183176], dtype='int64')"
      ]
     },
     "execution_count": 55,
     "metadata": {},
     "output_type": "execute_result"
    }
   ],
   "source": [
    "train.a.value_counts().index[:5]"
   ]
  },
  {
   "cell_type": "code",
   "execution_count": 56,
   "id": "143195aa-578d-4dc0-95b2-7ee558160fcf",
   "metadata": {},
   "outputs": [
    {
     "data": {
      "text/plain": [
       "(11886, 9)"
      ]
     },
     "execution_count": 56,
     "metadata": {},
     "output_type": "execute_result"
    }
   ],
   "source": [
    "train[train.a == 234698].shape"
   ]
  },
  {
   "cell_type": "markdown",
   "id": "f0bb3ed3-f227-4993-a6b5-8d0d6065c09e",
   "metadata": {},
   "source": [
    "# itemCF的物品相似度计算"
   ]
  },
  {
   "cell_type": "code",
   "execution_count": 67,
   "id": "27ce13c5-bf76-4ca0-9bc1-a34ce1836bf3",
   "metadata": {},
   "outputs": [],
   "source": [
    "import pysnooper"
   ]
  },
  {
   "cell_type": "code",
   "execution_count": 76,
   "id": "79263321-3ff1-4834-a8ad-a4fdb875d3be",
   "metadata": {},
   "outputs": [],
   "source": [
    "# !mkdir log"
   ]
  },
  {
   "cell_type": "code",
   "execution_count": 118,
   "id": "c7bed3ef-9c4d-4ff4-bd3f-3308af85d817",
   "metadata": {},
   "outputs": [],
   "source": [
    "# pysnooper.snoop('log/itemcf_sim.log')\n",
    "def itemcf_sim(df):\n",
    "    \"\"\"\n",
    "        文章与文章之间的相似性矩阵计算\n",
    "        :param df: 数据表\n",
    "        :item_created_time_dict:  文章创建时间的字典\n",
    "        return : 文章与文章的相似性矩阵\n",
    "        思路: 基于物品的协同过滤(详细请参考上一期推荐系统基础的组队学习)， 在多路召回部分会加上关联规则的召回策略\n",
    "    \"\"\"\n",
    "    \n",
    "    # {u1: [(a1, ts1), (a2, ts2)]}\n",
    "    user_item_time_dict = get_user_item_time(df)\n",
    "    \n",
    "    # 计算物品相似度\n",
    "    i2i_sim = {}\n",
    "    item_cnt = defaultdict(int)\n",
    "    for user, item_time_list in tqdm(user_item_time_dict.items()):\n",
    "        # 在基于商品的协同过滤优化的时候可以考虑时间因素\n",
    "\n",
    "        for i, i_click_time in item_time_list:\n",
    "            item_cnt[i] += 1\n",
    "            i2i_sim.setdefault(i, {})\n",
    "            for j, j_click_time in item_time_list:\n",
    "                if(i == j):\n",
    "                    continue\n",
    "                i2i_sim[i].setdefault(j, 0)\n",
    "                \n",
    "                i2i_sim[i][j] += 1 / math.log(len(item_time_list) + 1)\n",
    "                \n",
    "    i2i_sim_ = i2i_sim.copy()\n",
    "    for i, related_items in i2i_sim.items():\n",
    "        for j, wij in related_items.items():\n",
    "            i2i_sim_[i][j] = wij / math.sqrt(item_cnt[i] * item_cnt[j])\n",
    "    \n",
    "    # 将得到的相似性矩阵保存到本地\n",
    "    pickle.dump(i2i_sim_, open(save_path + 'itemcf_i2i_sim.pkl', 'wb'))\n",
    "    \n",
    "    return i2i_sim_\n"
   ]
  },
  {
   "cell_type": "code",
   "execution_count": 83,
   "id": "042dd69b-c350-41ea-97ae-0ad287b6869a",
   "metadata": {},
   "outputs": [
    {
     "name": "stderr",
     "output_type": "stream",
     "text": [
      "100%|██████████████████████████████████████████████████████████| 250000/250000 [00:16<00:00, 15308.63it/s]\n"
     ]
    }
   ],
   "source": [
    "i2i_sim = itemcf_sim(all_click_df)"
   ]
  },
  {
   "cell_type": "code",
   "execution_count": 58,
   "id": "c02ce7bd-7a56-498a-ae4d-53e31596be81",
   "metadata": {},
   "outputs": [
    {
     "data": {
      "text/plain": [
       "dict"
      ]
     },
     "execution_count": 58,
     "metadata": {},
     "output_type": "execute_result"
    }
   ],
   "source": [
    "type(i2i_sim)"
   ]
  },
  {
   "cell_type": "code",
   "execution_count": 64,
   "id": "88012e03-1a70-4505-8b4a-d22603e29771",
   "metadata": {},
   "outputs": [
    {
     "data": {
      "text/plain": [
       "35380"
      ]
     },
     "execution_count": 64,
     "metadata": {},
     "output_type": "execute_result"
    }
   ],
   "source": [
    "all_click_df.click_article_id.nunique()"
   ]
  },
  {
   "cell_type": "code",
   "execution_count": 63,
   "id": "d0607965-7c20-4976-98e0-97dee259b2db",
   "metadata": {},
   "outputs": [
    {
     "data": {
      "text/plain": [
       "(dict, 35380, 35380)"
      ]
     },
     "execution_count": 63,
     "metadata": {},
     "output_type": "execute_result"
    }
   ],
   "source": [
    "type(i2i_sim), len(i2i_sim), len(i2i_sim.values())"
   ]
  },
  {
   "cell_type": "code",
   "execution_count": 61,
   "id": "2f2702ca-c00b-4da2-a38b-99e661a48d9c",
   "metadata": {},
   "outputs": [
    {
     "data": {
      "text/plain": [
       "1775"
      ]
     },
     "execution_count": 61,
     "metadata": {},
     "output_type": "execute_result"
    }
   ],
   "source": [
    "len(i2i_sim[30760])"
   ]
  },
  {
   "cell_type": "code",
   "execution_count": 66,
   "id": "87a34d01-f871-4b22-9766-30ceb48ffa1e",
   "metadata": {},
   "outputs": [
    {
     "data": {
      "text/plain": [
       "0.008340645572844295"
      ]
     },
     "execution_count": 66,
     "metadata": {},
     "output_type": "execute_result"
    }
   ],
   "source": [
    "i2i_sim[30760][157507]"
   ]
  },
  {
   "cell_type": "code",
   "execution_count": 90,
   "id": "cf70dcec-fcc3-4dd2-8017-3e18d69f9bcd",
   "metadata": {},
   "outputs": [],
   "source": [
    "# import logging\n",
    "\n",
    "# logger = logging.getLogger()\n",
    "\n",
    "# logger.setLevel(logging.ERROR)"
   ]
  },
  {
   "cell_type": "code",
   "execution_count": 240,
   "id": "a37154b5-8ad3-4d53-a73a-e1149ff30379",
   "metadata": {},
   "outputs": [],
   "source": [
    "def itemcf_sim1(df):\n",
    "    # {u1: [(a1, ts1), (a2, ts2)]}\n",
    "    user_item_time_dict = get_user_item_time(df)\n",
    "    \n",
    "    # with pysnooper.snoop(depth=4):\n",
    "    # 计算物品相似度\n",
    "    i2i_sim = {}\n",
    "    item_cnt = defaultdict(int)\n",
    "\n",
    "    for user, item_time_list in tqdm(user_item_time_dict.items()):\n",
    "        # 在基于商品的协同过滤优化的时候可以考虑时间因素\n",
    "\n",
    "        for i, i_click_time in item_time_list:\n",
    "            item_cnt[i] += 1\n",
    "            i2i_sim.setdefault(i, {})\n",
    "            for j, j_click_time in item_time_list:\n",
    "                if(i == j):\n",
    "                    continue\n",
    "                i2i_sim[i].setdefault(j, 0)\n",
    "\n",
    "                # 你可以看一下项亮老师的推荐系统实践，里面有详细的说明，这里主要是引入逆用户频率(IUF, Inverse User Frequence)，\n",
    "                # 认为活跃用户对物品相似度的贡献应该小于不活跃用户，所以这个IUF是用来修正物品相似度的\n",
    "\n",
    "                # https://www.jianshu.com/p/f306a37a7374\n",
    "                i2i_sim[i][j] += 1 / math.log(len(item_time_list) + 1)\n",
    "\n",
    "    i2i_sim_ = i2i_sim.copy()\n",
    "    for i, related_items in i2i_sim.items():\n",
    "        for j, wij in related_items.items():\n",
    "            i2i_sim_[i][j] = wij / math.sqrt(item_cnt[i] * item_cnt[j])\n",
    "    \n",
    "    # 将得到的相似性矩阵保存到本地\n",
    "    pickle.dump(i2i_sim_, open(save_path + 'itemcf_i2i_sim1.pkl', 'wb'))\n",
    "    \n",
    "    return i2i_sim_\n"
   ]
  },
  {
   "cell_type": "code",
   "execution_count": 169,
   "id": "39f4b316-cab6-4edd-b19b-b3d2544a120b",
   "metadata": {},
   "outputs": [
    {
     "data": {
      "text/html": [
       "<div>\n",
       "<style scoped>\n",
       "    .dataframe tbody tr th:only-of-type {\n",
       "        vertical-align: middle;\n",
       "    }\n",
       "\n",
       "    .dataframe tbody tr th {\n",
       "        vertical-align: top;\n",
       "    }\n",
       "\n",
       "    .dataframe thead th {\n",
       "        text-align: right;\n",
       "    }\n",
       "</style>\n",
       "<table border=\"1\" class=\"dataframe\">\n",
       "  <thead>\n",
       "    <tr style=\"text-align: right;\">\n",
       "      <th></th>\n",
       "      <th>user_id</th>\n",
       "      <th>click_article_id</th>\n",
       "      <th>click_timestamp</th>\n",
       "      <th>click_environment</th>\n",
       "      <th>click_deviceGroup</th>\n",
       "      <th>click_os</th>\n",
       "      <th>click_country</th>\n",
       "      <th>click_region</th>\n",
       "      <th>click_referrer_type</th>\n",
       "    </tr>\n",
       "  </thead>\n",
       "  <tbody>\n",
       "    <tr>\n",
       "      <th>0</th>\n",
       "      <td>199999</td>\n",
       "      <td>160417</td>\n",
       "      <td>1507029570190</td>\n",
       "      <td>4</td>\n",
       "      <td>1</td>\n",
       "      <td>17</td>\n",
       "      <td>1</td>\n",
       "      <td>13</td>\n",
       "      <td>1</td>\n",
       "    </tr>\n",
       "    <tr>\n",
       "      <th>1</th>\n",
       "      <td>199999</td>\n",
       "      <td>5408</td>\n",
       "      <td>1507029571478</td>\n",
       "      <td>4</td>\n",
       "      <td>1</td>\n",
       "      <td>17</td>\n",
       "      <td>1</td>\n",
       "      <td>13</td>\n",
       "      <td>1</td>\n",
       "    </tr>\n",
       "    <tr>\n",
       "      <th>2</th>\n",
       "      <td>199999</td>\n",
       "      <td>50823</td>\n",
       "      <td>1507029601478</td>\n",
       "      <td>4</td>\n",
       "      <td>1</td>\n",
       "      <td>17</td>\n",
       "      <td>1</td>\n",
       "      <td>13</td>\n",
       "      <td>1</td>\n",
       "    </tr>\n",
       "    <tr>\n",
       "      <th>3</th>\n",
       "      <td>199998</td>\n",
       "      <td>157770</td>\n",
       "      <td>1507029532200</td>\n",
       "      <td>4</td>\n",
       "      <td>1</td>\n",
       "      <td>17</td>\n",
       "      <td>1</td>\n",
       "      <td>25</td>\n",
       "      <td>5</td>\n",
       "    </tr>\n",
       "    <tr>\n",
       "      <th>4</th>\n",
       "      <td>199998</td>\n",
       "      <td>96613</td>\n",
       "      <td>1507029671831</td>\n",
       "      <td>4</td>\n",
       "      <td>1</td>\n",
       "      <td>17</td>\n",
       "      <td>1</td>\n",
       "      <td>25</td>\n",
       "      <td>5</td>\n",
       "    </tr>\n",
       "  </tbody>\n",
       "</table>\n",
       "</div>"
      ],
      "text/plain": [
       "   user_id  click_article_id  click_timestamp  click_environment  \\\n",
       "0   199999            160417    1507029570190                  4   \n",
       "1   199999              5408    1507029571478                  4   \n",
       "2   199999             50823    1507029601478                  4   \n",
       "3   199998            157770    1507029532200                  4   \n",
       "4   199998             96613    1507029671831                  4   \n",
       "\n",
       "   click_deviceGroup  click_os  click_country  click_region  \\\n",
       "0                  1        17              1            13   \n",
       "1                  1        17              1            13   \n",
       "2                  1        17              1            13   \n",
       "3                  1        17              1            25   \n",
       "4                  1        17              1            25   \n",
       "\n",
       "   click_referrer_type  \n",
       "0                    1  \n",
       "1                    1  \n",
       "2                    1  \n",
       "3                    5  \n",
       "4                    5  "
      ]
     },
     "execution_count": 169,
     "metadata": {},
     "output_type": "execute_result"
    }
   ],
   "source": [
    "d = all_click_df.head(5)\n",
    "d"
   ]
  },
  {
   "cell_type": "code",
   "execution_count": 170,
   "id": "a39cb55f-641b-4f4b-9cee-7c3b998c7e8b",
   "metadata": {},
   "outputs": [
    {
     "data": {
      "text/plain": [
       "{157770: {96613: 0.9102392266268373},\n",
       " 96613: {157770: 0.9102392266268373},\n",
       " 160417: {5408: 0.7213475204444817, 50823: 0.7213475204444817},\n",
       " 5408: {160417: 0.7213475204444817, 50823: 0.7213475204444817},\n",
       " 50823: {160417: 0.7213475204444817, 5408: 0.7213475204444817}}"
      ]
     },
     "execution_count": 170,
     "metadata": {},
     "output_type": "execute_result"
    }
   ],
   "source": [
    "itemcf_sim1(d)"
   ]
  },
  {
   "cell_type": "code",
   "execution_count": 177,
   "id": "b64ef29e-5954-48f2-8816-1dc88e2e63ee",
   "metadata": {},
   "outputs": [
    {
     "data": {
      "text/html": [
       "<div>\n",
       "<style scoped>\n",
       "    .dataframe tbody tr th:only-of-type {\n",
       "        vertical-align: middle;\n",
       "    }\n",
       "\n",
       "    .dataframe tbody tr th {\n",
       "        vertical-align: top;\n",
       "    }\n",
       "\n",
       "    .dataframe thead th {\n",
       "        text-align: right;\n",
       "    }\n",
       "</style>\n",
       "<table border=\"1\" class=\"dataframe\">\n",
       "  <thead>\n",
       "    <tr style=\"text-align: right;\">\n",
       "      <th></th>\n",
       "      <th>u</th>\n",
       "      <th>a</th>\n",
       "      <th>ts</th>\n",
       "      <th>env</th>\n",
       "      <th>device</th>\n",
       "      <th>os</th>\n",
       "      <th>country</th>\n",
       "      <th>region</th>\n",
       "      <th>referrer</th>\n",
       "    </tr>\n",
       "  </thead>\n",
       "  <tbody>\n",
       "    <tr>\n",
       "      <th>0</th>\n",
       "      <td>199999</td>\n",
       "      <td>160417</td>\n",
       "      <td>1507029570190</td>\n",
       "      <td>4</td>\n",
       "      <td>1</td>\n",
       "      <td>17</td>\n",
       "      <td>1</td>\n",
       "      <td>13</td>\n",
       "      <td>1</td>\n",
       "    </tr>\n",
       "    <tr>\n",
       "      <th>1</th>\n",
       "      <td>199999</td>\n",
       "      <td>5408</td>\n",
       "      <td>1507029571478</td>\n",
       "      <td>4</td>\n",
       "      <td>1</td>\n",
       "      <td>17</td>\n",
       "      <td>1</td>\n",
       "      <td>13</td>\n",
       "      <td>1</td>\n",
       "    </tr>\n",
       "    <tr>\n",
       "      <th>2</th>\n",
       "      <td>199999</td>\n",
       "      <td>50823</td>\n",
       "      <td>1507029601478</td>\n",
       "      <td>4</td>\n",
       "      <td>1</td>\n",
       "      <td>17</td>\n",
       "      <td>1</td>\n",
       "      <td>13</td>\n",
       "      <td>1</td>\n",
       "    </tr>\n",
       "    <tr>\n",
       "      <th>3</th>\n",
       "      <td>199998</td>\n",
       "      <td>157770</td>\n",
       "      <td>1507029532200</td>\n",
       "      <td>4</td>\n",
       "      <td>1</td>\n",
       "      <td>17</td>\n",
       "      <td>1</td>\n",
       "      <td>25</td>\n",
       "      <td>5</td>\n",
       "    </tr>\n",
       "    <tr>\n",
       "      <th>4</th>\n",
       "      <td>199998</td>\n",
       "      <td>96613</td>\n",
       "      <td>1507029671831</td>\n",
       "      <td>4</td>\n",
       "      <td>1</td>\n",
       "      <td>17</td>\n",
       "      <td>1</td>\n",
       "      <td>25</td>\n",
       "      <td>5</td>\n",
       "    </tr>\n",
       "  </tbody>\n",
       "</table>\n",
       "</div>"
      ],
      "text/plain": [
       "        u       a             ts  env  device  os  country  region  referrer\n",
       "0  199999  160417  1507029570190    4       1  17        1      13         1\n",
       "1  199999    5408  1507029571478    4       1  17        1      13         1\n",
       "2  199999   50823  1507029601478    4       1  17        1      13         1\n",
       "3  199998  157770  1507029532200    4       1  17        1      25         5\n",
       "4  199998   96613  1507029671831    4       1  17        1      25         5"
      ]
     },
     "execution_count": 177,
     "metadata": {},
     "output_type": "execute_result"
    }
   ],
   "source": [
    "d = train.head()\n",
    "d"
   ]
  },
  {
   "cell_type": "code",
   "execution_count": 265,
   "id": "2b1aa57b-a3af-4af2-99f4-b610feb4e9b2",
   "metadata": {},
   "outputs": [],
   "source": [
    "def self_itemcf_sim(d):    \n",
    "    u2items = {}\n",
    "    d = d.sort_values(\"ts\")\n",
    "    u2items = d.groupby('u')['a'].apply(lambda x: x.values.tolist()).to_dict()\n",
    "    # print('u2items:')\n",
    "    # print(u2items)\n",
    "    # print('-'*30)\n",
    "    \n",
    "    i2i_sim = defaultdict(dict)\n",
    "    i_cnt = defaultdict(int)\n",
    "    for u, items in tqdm(u2items.items()):\n",
    "        for i in items:\n",
    "            i2i_sim.setdefault(i, {})\n",
    "            i_cnt[i] += 1\n",
    "            for j in items:\n",
    "                if i == j:\n",
    "                    continue\n",
    "                \n",
    "                i2i_sim[i].setdefault(j, 0)\n",
    "                i2i_sim[i][j] += 1 / np.log(len(items) + 1) # IUF\n",
    "    \n",
    "    i2i_sim_ = i2i_sim.copy()\n",
    "    for i, related_items in i2i_sim.items():\n",
    "        for j, wij in related_items.items():\n",
    "            i2i_sim_[i][j] = wij / np.sqrt(i_cnt[i] * i_cnt[j])\n",
    "    \n",
    "    \n",
    "    # print('i2i_sim:')\n",
    "    # print(i2i_sim_)\n",
    "    # print('-'*30)\n",
    "    # print('i_cnt:')\n",
    "    # print(i_cnt)\n",
    "    \n",
    "    return i2i_sim_, i_cnt"
   ]
  },
  {
   "cell_type": "code",
   "execution_count": 210,
   "id": "5d9569a3-5a26-418d-a9b1-ea7f620da9a9",
   "metadata": {},
   "outputs": [
    {
     "name": "stderr",
     "output_type": "stream",
     "text": [
      "100%|██████████████████████████████████████████████████████████| 250000/250000 [00:15<00:00, 15673.57it/s]\n"
     ]
    }
   ],
   "source": [
    "offical_i2i_sim = itemcf_sim(all_click_df)"
   ]
  },
  {
   "cell_type": "code",
   "execution_count": 266,
   "id": "f44a0bd6-c44c-4e3d-9a7f-c1094fa0e88b",
   "metadata": {},
   "outputs": [
    {
     "name": "stderr",
     "output_type": "stream",
     "text": [
      "100%|███████████████████████████████████████████████████████████| 250000/250000 [00:40<00:00, 6121.54it/s]\n"
     ]
    }
   ],
   "source": [
    "self_i2i_sim, i_cnt = self_itemcf_sim(total)"
   ]
  },
  {
   "cell_type": "code",
   "execution_count": 267,
   "id": "dde608fc-7ef4-4162-ac6d-f0e779596c4d",
   "metadata": {},
   "outputs": [],
   "source": [
    "assert len(offical_i2i_sim) == len(self_i2i_sim)"
   ]
  },
  {
   "cell_type": "code",
   "execution_count": 268,
   "id": "a1841e08-ad85-4c59-b84f-2a0ca98f5c20",
   "metadata": {},
   "outputs": [],
   "source": [
    "assert offical_i2i_sim == self_i2i_sim"
   ]
  },
  {
   "cell_type": "code",
   "execution_count": 262,
   "id": "bb3a4c0d-c8b0-45f9-9f73-52d9121f50f6",
   "metadata": {},
   "outputs": [
    {
     "data": {
      "text/plain": [
       "0.008340645572844295"
      ]
     },
     "execution_count": 262,
     "metadata": {},
     "output_type": "execute_result"
    }
   ],
   "source": [
    "offical_i2i_sim[30760][157507]"
   ]
  },
  {
   "cell_type": "code",
   "execution_count": 263,
   "id": "507b8aa8-41e1-42ed-ab25-d6ed8e331310",
   "metadata": {},
   "outputs": [
    {
     "data": {
      "text/plain": [
       "0.008340645572844295"
      ]
     },
     "execution_count": 263,
     "metadata": {},
     "output_type": "execute_result"
    }
   ],
   "source": [
    "offical_i2i_sim[157507][30760]"
   ]
  },
  {
   "cell_type": "markdown",
   "id": "d435d1ff-ff00-408c-96ff-f051f2f48a5e",
   "metadata": {},
   "source": [
    "```text\n",
    "  a b c\n",
    "a   1 1\n",
    "b 1   1\n",
    "c 1 1\n",
    "```"
   ]
  },
  {
   "cell_type": "code",
   "execution_count": 277,
   "id": "8031ea30-159f-4e0d-9166-43e3acee81c8",
   "metadata": {},
   "outputs": [
    {
     "data": {
      "text/plain": [
       "[(272143, 15935),\n",
       " (234698, 15666),\n",
       " (123909, 15383),\n",
       " (336221, 15170),\n",
       " (96210, 14009)]"
      ]
     },
     "execution_count": 277,
     "metadata": {},
     "output_type": "execute_result"
    }
   ],
   "source": [
    "sorted([(k, v) for k, v in i_cnt.items()], key=lambda x: -x[1])[:5]"
   ]
  },
  {
   "cell_type": "code",
   "execution_count": 283,
   "id": "adf26c18-3753-4e4d-9d83-344d990988a1",
   "metadata": {},
   "outputs": [
    {
     "data": {
      "text/plain": [
       "True"
      ]
     },
     "execution_count": 283,
     "metadata": {},
     "output_type": "execute_result"
    }
   ],
   "source": [
    "total[total.a == 272143].shape[0] == 15935"
   ]
  },
  {
   "cell_type": "code",
   "execution_count": 290,
   "id": "8a4cd51b-8905-4c19-af0a-0ac1d42df231",
   "metadata": {},
   "outputs": [
    {
     "data": {
      "text/plain": [
       "0.5773502691896258"
      ]
     },
     "execution_count": 290,
     "metadata": {},
     "output_type": "execute_result"
    }
   ],
   "source": [
    "2 / np.sqrt(12)"
   ]
  },
  {
   "cell_type": "code",
   "execution_count": null,
   "id": "9d2d4a9f-845c-4f3c-b86c-001623bb69cb",
   "metadata": {},
   "outputs": [],
   "source": []
  },
  {
   "cell_type": "markdown",
   "id": "0a574d95-8fe0-47b2-8234-a72af795f432",
   "metadata": {},
   "source": [
    "# itemCF 的文章推荐"
   ]
  },
  {
   "cell_type": "code",
   "execution_count": 16,
   "id": "39f3ac03-81c6-41d0-90e3-4bc7d2c6bf5d",
   "metadata": {},
   "outputs": [],
   "source": [
    "# 基于商品的召回i2i\n",
    "def item_based_recommend(user_id, user_item_time_dict, i2i_sim, sim_item_topk, recall_item_num, item_topk_click):\n",
    "    \"\"\"\n",
    "        基于文章协同过滤的召回\n",
    "        :param user_id: 用户id\n",
    "        :param user_item_time_dict: 字典, 根据点击时间获取用户的点击文章序列   {user1: {item1: time1, item2: time2..}...}\n",
    "        :param i2i_sim: 字典，文章相似性矩阵\n",
    "        :param sim_item_topk: 整数， 选择与当前文章最相似的前k篇文章\n",
    "        :param recall_item_num: 整数， 最后的召回文章数量\n",
    "        :param item_topk_click: 列表，点击次数最多的文章列表，用户召回补全        \n",
    "        return: 召回的文章列表 {item1:score1, item2: score2...}\n",
    "        注意: 基于物品的协同过滤(详细请参考上一期推荐系统基础的组队学习)， 在多路召回部分会加上关联规则的召回策略\n",
    "    \"\"\"\n",
    "    \n",
    "    # 获取用户历史交互的文章\n",
    "    user_hist_items = user_item_time_dict[user_id]\n",
    "    \n",
    "    item_rank = {}\n",
    "    for loc, (i, click_time) in enumerate(user_hist_items):\n",
    "        for j, wij in sorted(i2i_sim[i].items(), key=lambda x: x[1], reverse=True)[:sim_item_topk]:\n",
    "            if j in user_hist_items:\n",
    "                continue\n",
    "                \n",
    "            item_rank.setdefault(j, 0)\n",
    "            item_rank[j] +=  wij\n",
    "    \n",
    "    # 不足10个，用热门商品补全\n",
    "    if len(item_rank) < recall_item_num:\n",
    "        for i, item in enumerate(item_topk_click):\n",
    "            if item in item_rank.items(): # 填充的item应该不在原来的列表中\n",
    "                continue\n",
    "            item_rank[item] = - i - 100 # 随便给个负数就行\n",
    "            if len(item_rank) == recall_item_num:\n",
    "                break\n",
    "    \n",
    "    item_rank = sorted(item_rank.items(), key=lambda x: x[1], reverse=True)[:recall_item_num]\n",
    "        \n",
    "    return item_rank\n"
   ]
  },
  {
   "cell_type": "markdown",
   "id": "9f6b95c8-3498-4078-a306-d1215d087408",
   "metadata": {},
   "source": [
    "# 给每个用户根据物品的协同过滤推荐文章"
   ]
  },
  {
   "cell_type": "code",
   "execution_count": 17,
   "id": "6c0b6931-09b0-4d82-a17f-c03988f06a23",
   "metadata": {},
   "outputs": [
    {
     "name": "stderr",
     "output_type": "stream",
     "text": [
      "100%|████████████████████████████████████████████████████████████| 250000/250000 [24:33<00:00, 169.71it/s]\n"
     ]
    }
   ],
   "source": [
    "# 定义\n",
    "user_recall_items_dict = defaultdict(dict)\n",
    "\n",
    "# 获取 用户 - 文章 - 点击时间的字典\n",
    "user_item_time_dict = get_user_item_time(all_click_df)\n",
    "\n",
    "# 去取文章相似度\n",
    "i2i_sim = pickle.load(open(save_path + 'itemcf_i2i_sim.pkl', 'rb'))\n",
    "\n",
    "# 相似文章的数量\n",
    "sim_item_topk = 10\n",
    "\n",
    "# 召回文章数量\n",
    "recall_item_num = 10\n",
    "\n",
    "# 用户热度补全\n",
    "item_topk_click = get_item_topk_click(all_click_df, k=50)\n",
    "\n",
    "for user in tqdm(all_click_df['user_id'].unique()):\n",
    "    user_recall_items_dict[user] = item_based_recommend(user, user_item_time_dict, i2i_sim, \n",
    "                                                        sim_item_topk, recall_item_num, item_topk_click)\n"
   ]
  },
  {
   "cell_type": "code",
   "execution_count": 292,
   "id": "08ce831b-bb39-40de-be5e-660f2964b68d",
   "metadata": {},
   "outputs": [
    {
     "data": {
      "text/plain": [
       "250000"
      ]
     },
     "execution_count": 292,
     "metadata": {},
     "output_type": "execute_result"
    }
   ],
   "source": [
    "len(user_recall_items_dict)"
   ]
  },
  {
   "cell_type": "code",
   "execution_count": 295,
   "id": "f68175fb-7c81-4677-bab4-f3faacea976d",
   "metadata": {},
   "outputs": [
    {
     "data": {
      "text/plain": [
       "user_id\n",
       "216228      1\n",
       "228152      1\n",
       "228159      1\n",
       "228160      1\n",
       "228162      1\n",
       "         ... \n",
       "249586    241\n",
       "240519    251\n",
       "239302    265\n",
       "242546    759\n",
       "249322    923\n",
       "Name: click_article_id, Length: 250000, dtype: int64"
      ]
     },
     "execution_count": 295,
     "metadata": {},
     "output_type": "execute_result"
    }
   ],
   "source": [
    "all_click_df.groupby('user_id')['click_article_id'].nunique().sort_values()"
   ]
  },
  {
   "cell_type": "code",
   "execution_count": 303,
   "id": "28c90ce9-6b86-4fb9-be9e-9b69467166c3",
   "metadata": {},
   "outputs": [
    {
     "name": "stdout",
     "output_type": "stream",
     "text": [
      "198986\n",
      "[(282732, 0.9102392266268373), (286386, 0.9102392266268373), (272143, -100), (234698, -101), (123909, -102), (336221, -103), (96210, -104), (336223, -105), (183176, -106), (168623, -107)]\n"
     ]
    }
   ],
   "source": [
    "for u, i_and_score in user_recall_items_dict.items():\n",
    "    if any([e[1] < 0 for e in i_and_score]):\n",
    "        print(u)\n",
    "        print(i_and_score)\n",
    "        break"
   ]
  },
  {
   "cell_type": "code",
   "execution_count": 304,
   "id": "0c158f13-c055-445e-8944-f9228492aefb",
   "metadata": {},
   "outputs": [
    {
     "data": {
      "text/plain": [
       "{286386: 0.9102392266268373}"
      ]
     },
     "execution_count": 304,
     "metadata": {},
     "output_type": "execute_result"
    }
   ],
   "source": [
    "offical_i2i_sim[282732]"
   ]
  },
  {
   "cell_type": "code",
   "execution_count": 306,
   "id": "82a8ffbf-7daa-4990-b0e9-04f91d81ee93",
   "metadata": {},
   "outputs": [
    {
     "data": {
      "text/html": [
       "<div>\n",
       "<style scoped>\n",
       "    .dataframe tbody tr th:only-of-type {\n",
       "        vertical-align: middle;\n",
       "    }\n",
       "\n",
       "    .dataframe tbody tr th {\n",
       "        vertical-align: top;\n",
       "    }\n",
       "\n",
       "    .dataframe thead th {\n",
       "        text-align: right;\n",
       "    }\n",
       "</style>\n",
       "<table border=\"1\" class=\"dataframe\">\n",
       "  <thead>\n",
       "    <tr style=\"text-align: right;\">\n",
       "      <th></th>\n",
       "      <th>u</th>\n",
       "      <th>a</th>\n",
       "      <th>ts</th>\n",
       "      <th>env</th>\n",
       "      <th>device</th>\n",
       "      <th>os</th>\n",
       "      <th>country</th>\n",
       "      <th>region</th>\n",
       "      <th>referrer</th>\n",
       "    </tr>\n",
       "  </thead>\n",
       "  <tbody>\n",
       "    <tr>\n",
       "      <th>2837</th>\n",
       "      <td>198986</td>\n",
       "      <td>286386</td>\n",
       "      <td>1507031156410</td>\n",
       "      <td>4</td>\n",
       "      <td>1</td>\n",
       "      <td>17</td>\n",
       "      <td>1</td>\n",
       "      <td>25</td>\n",
       "      <td>5</td>\n",
       "    </tr>\n",
       "    <tr>\n",
       "      <th>2838</th>\n",
       "      <td>198986</td>\n",
       "      <td>282732</td>\n",
       "      <td>1507031186410</td>\n",
       "      <td>4</td>\n",
       "      <td>1</td>\n",
       "      <td>17</td>\n",
       "      <td>1</td>\n",
       "      <td>25</td>\n",
       "      <td>5</td>\n",
       "    </tr>\n",
       "  </tbody>\n",
       "</table>\n",
       "</div>"
      ],
      "text/plain": [
       "           u       a             ts  env  device  os  country  region  \\\n",
       "2837  198986  286386  1507031156410    4       1  17        1      25   \n",
       "2838  198986  282732  1507031186410    4       1  17        1      25   \n",
       "\n",
       "      referrer  \n",
       "2837         5  \n",
       "2838         5  "
      ]
     },
     "execution_count": 306,
     "metadata": {},
     "output_type": "execute_result"
    }
   ],
   "source": [
    "total[total.a.isin([282732, 286386])]"
   ]
  },
  {
   "cell_type": "code",
   "execution_count": 314,
   "id": "3360355f-e5d7-4ed0-8969-e9a0f382f2cd",
   "metadata": {},
   "outputs": [
    {
     "data": {
      "text/plain": [
       "True"
      ]
     },
     "execution_count": 314,
     "metadata": {},
     "output_type": "execute_result"
    }
   ],
   "source": [
    "(1 / np.log(1 + 2)) / np.sqrt(1) == offical_i2i_sim[282732][286386]"
   ]
  },
  {
   "cell_type": "code",
   "execution_count": null,
   "id": "29ae6573-72a2-4a12-8a10-08bc8fd166ce",
   "metadata": {},
   "outputs": [],
   "source": []
  },
  {
   "cell_type": "markdown",
   "id": "76a543b3-6cc3-40ff-a89f-5dbea83acc53",
   "metadata": {},
   "source": [
    "# 召回字典转换成df"
   ]
  },
  {
   "cell_type": "code",
   "execution_count": 18,
   "id": "f44619e0-056e-4905-972d-0c1cde097cd3",
   "metadata": {},
   "outputs": [
    {
     "name": "stderr",
     "output_type": "stream",
     "text": [
      "100%|██████████████████████████████████████████████████████████| 250000/250000 [00:03<00:00, 81784.31it/s]\n"
     ]
    }
   ],
   "source": [
    "# 将字典的形式转换成df\n",
    "user_item_score_list = []\n",
    "\n",
    "for user, items in tqdm(user_recall_items_dict.items()):\n",
    "    for item, score in items:\n",
    "        user_item_score_list.append([user, item, score])\n",
    "\n",
    "recall_df = pd.DataFrame(user_item_score_list, columns=['user_id', 'click_article_id', 'pred_score'])\n"
   ]
  },
  {
   "cell_type": "code",
   "execution_count": 315,
   "id": "af5fe290-3cc2-405e-963a-105bafcfa644",
   "metadata": {},
   "outputs": [
    {
     "data": {
      "text/html": [
       "<div>\n",
       "<style scoped>\n",
       "    .dataframe tbody tr th:only-of-type {\n",
       "        vertical-align: middle;\n",
       "    }\n",
       "\n",
       "    .dataframe tbody tr th {\n",
       "        vertical-align: top;\n",
       "    }\n",
       "\n",
       "    .dataframe thead th {\n",
       "        text-align: right;\n",
       "    }\n",
       "</style>\n",
       "<table border=\"1\" class=\"dataframe\">\n",
       "  <thead>\n",
       "    <tr style=\"text-align: right;\">\n",
       "      <th></th>\n",
       "      <th>user_id</th>\n",
       "      <th>click_article_id</th>\n",
       "      <th>pred_score</th>\n",
       "    </tr>\n",
       "  </thead>\n",
       "  <tbody>\n",
       "    <tr>\n",
       "      <th>0</th>\n",
       "      <td>199999</td>\n",
       "      <td>276970</td>\n",
       "      <td>0.172377</td>\n",
       "    </tr>\n",
       "    <tr>\n",
       "      <th>1</th>\n",
       "      <td>199999</td>\n",
       "      <td>158536</td>\n",
       "      <td>0.106969</td>\n",
       "    </tr>\n",
       "    <tr>\n",
       "      <th>2</th>\n",
       "      <td>199999</td>\n",
       "      <td>168623</td>\n",
       "      <td>0.103572</td>\n",
       "    </tr>\n",
       "    <tr>\n",
       "      <th>3</th>\n",
       "      <td>199999</td>\n",
       "      <td>123909</td>\n",
       "      <td>0.103572</td>\n",
       "    </tr>\n",
       "    <tr>\n",
       "      <th>4</th>\n",
       "      <td>199999</td>\n",
       "      <td>286321</td>\n",
       "      <td>0.097774</td>\n",
       "    </tr>\n",
       "  </tbody>\n",
       "</table>\n",
       "</div>"
      ],
      "text/plain": [
       "   user_id  click_article_id  pred_score\n",
       "0   199999            276970    0.172377\n",
       "1   199999            158536    0.106969\n",
       "2   199999            168623    0.103572\n",
       "3   199999            123909    0.103572\n",
       "4   199999            286321    0.097774"
      ]
     },
     "execution_count": 315,
     "metadata": {},
     "output_type": "execute_result"
    }
   ],
   "source": [
    "recall_df.head()"
   ]
  },
  {
   "cell_type": "code",
   "execution_count": 316,
   "id": "5988b249-7093-400f-9906-a7bff14fd590",
   "metadata": {},
   "outputs": [
    {
     "data": {
      "text/plain": [
       "(2500000, 3)"
      ]
     },
     "execution_count": 316,
     "metadata": {},
     "output_type": "execute_result"
    }
   ],
   "source": [
    "recall_df.shape"
   ]
  },
  {
   "cell_type": "code",
   "execution_count": 322,
   "id": "62dd7c27-525b-42d6-85e2-8a4601d56541",
   "metadata": {},
   "outputs": [
    {
     "data": {
      "text/plain": [
       "[160417,\n",
       " 5408,\n",
       " 50823,\n",
       " 123909,\n",
       " 168623,\n",
       " 161191,\n",
       " 42223,\n",
       " 70214,\n",
       " 156843,\n",
       " 159019,\n",
       " 218355]"
      ]
     },
     "execution_count": 322,
     "metadata": {},
     "output_type": "execute_result"
    }
   ],
   "source": [
    "clicked_articles = total[total.u == 199999].a.values.tolist()\n",
    "clicked_articles"
   ]
  },
  {
   "cell_type": "code",
   "execution_count": 321,
   "id": "acd1693d-3c10-45e2-91db-1c198dfe0485",
   "metadata": {},
   "outputs": [
    {
     "data": {
      "text/plain": [
       "[276970, 158536, 168623, 123909, 286321, 108855, 162655, 50864, 123818, 156625]"
      ]
     },
     "execution_count": 321,
     "metadata": {},
     "output_type": "execute_result"
    }
   ],
   "source": [
    "recall_df[recall_df.user_id == 199999].click_article_id.values.tolist()"
   ]
  },
  {
   "cell_type": "code",
   "execution_count": null,
   "id": "55a3b128-4d9c-4084-8bcf-2348dc0b489d",
   "metadata": {},
   "outputs": [],
   "source": []
  },
  {
   "cell_type": "markdown",
   "id": "bae4a33d-2383-4961-ac6e-eb8111d3991d",
   "metadata": {},
   "source": [
    "# 生成提交文件"
   ]
  },
  {
   "cell_type": "code",
   "execution_count": 19,
   "id": "a2fc9c85-9733-4112-a127-a032c86a8de1",
   "metadata": {},
   "outputs": [],
   "source": [
    "# 生成提交文件\n",
    "def submit(recall_df, topk=5, model_name=None):\n",
    "    recall_df = recall_df.sort_values(by=['user_id', 'pred_score'])\n",
    "    recall_df['rank'] = recall_df.groupby(['user_id'])['pred_score'].rank(ascending=False, method='first')\n",
    "    \n",
    "    # 判断是不是每个用户都有5篇文章及以上\n",
    "    tmp = recall_df.groupby('user_id').apply(lambda x: x['rank'].max())\n",
    "    assert tmp.min() >= topk\n",
    "    \n",
    "    del recall_df['pred_score']\n",
    "    submit = recall_df[recall_df['rank'] <= topk].set_index(['user_id', 'rank']).unstack(-1).reset_index()\n",
    "    \n",
    "    submit.columns = [int(col) if isinstance(col, int) else col for col in submit.columns.droplevel(0)]\n",
    "    # 按照提交格式定义列名\n",
    "    submit = submit.rename(columns={'': 'user_id', 1: 'article_1', 2: 'article_2', \n",
    "                                                  3: 'article_3', 4: 'article_4', 5: 'article_5'})\n",
    "    \n",
    "    save_name = save_path + model_name + '_' + datetime.today().strftime('%m-%d') + '.csv'\n",
    "    submit.to_csv(save_name, index=False, header=True)\n"
   ]
  },
  {
   "cell_type": "code",
   "execution_count": 20,
   "id": "5133e704-c3aa-4a58-bac4-32820fdc3b44",
   "metadata": {},
   "outputs": [],
   "source": [
    "# 获取测试集\n",
    "tst_click = pd.read_csv(data_path + 'testA_click_log.csv')\n",
    "tst_users = tst_click['user_id'].unique()\n",
    "\n",
    "# 从所有的召回数据中将测试集中的用户选出来\n",
    "tst_recall = recall_df[recall_df['user_id'].isin(tst_users)]\n",
    "\n",
    "# 生成提交文件\n",
    "submit(tst_recall, topk=5, model_name='itemcf_baseline')\n"
   ]
  },
  {
   "cell_type": "code",
   "execution_count": 323,
   "id": "7a9cd4c1-2ea6-408c-af19-5af4b8062953",
   "metadata": {},
   "outputs": [
    {
     "data": {
      "text/html": [
       "<div>\n",
       "<style scoped>\n",
       "    .dataframe tbody tr th:only-of-type {\n",
       "        vertical-align: middle;\n",
       "    }\n",
       "\n",
       "    .dataframe tbody tr th {\n",
       "        vertical-align: top;\n",
       "    }\n",
       "\n",
       "    .dataframe thead th {\n",
       "        text-align: right;\n",
       "    }\n",
       "</style>\n",
       "<table border=\"1\" class=\"dataframe\">\n",
       "  <thead>\n",
       "    <tr style=\"text-align: right;\">\n",
       "      <th></th>\n",
       "      <th>u</th>\n",
       "      <th>a_x</th>\n",
       "      <th>ts_x</th>\n",
       "      <th>env_x</th>\n",
       "      <th>device_x</th>\n",
       "      <th>os_x</th>\n",
       "      <th>country_x</th>\n",
       "      <th>region_x</th>\n",
       "      <th>referrer_x</th>\n",
       "      <th>a_y</th>\n",
       "      <th>ts_y</th>\n",
       "      <th>env_y</th>\n",
       "      <th>device_y</th>\n",
       "      <th>os_y</th>\n",
       "      <th>country_y</th>\n",
       "      <th>region_y</th>\n",
       "      <th>referrer_y</th>\n",
       "    </tr>\n",
       "  </thead>\n",
       "  <tbody>\n",
       "  </tbody>\n",
       "</table>\n",
       "</div>"
      ],
      "text/plain": [
       "Empty DataFrame\n",
       "Columns: [u, a_x, ts_x, env_x, device_x, os_x, country_x, region_x, referrer_x, a_y, ts_y, env_y, device_y, os_y, country_y, region_y, referrer_y]\n",
       "Index: []"
      ]
     },
     "execution_count": 323,
     "metadata": {},
     "output_type": "execute_result"
    }
   ],
   "source": [
    "pd.merge(train, test, how='inner', on='u')"
   ]
  },
  {
   "cell_type": "code",
   "execution_count": null,
   "id": "5fd5f176-d07c-41ab-a37b-8736c7cf649d",
   "metadata": {},
   "outputs": [],
   "source": []
  }
 ],
 "metadata": {
  "kernelspec": {
   "display_name": "Python 3 (ipykernel)",
   "language": "python",
   "name": "python3"
  },
  "language_info": {
   "codemirror_mode": {
    "name": "ipython",
    "version": 3
   },
   "file_extension": ".py",
   "mimetype": "text/x-python",
   "name": "python",
   "nbconvert_exporter": "python",
   "pygments_lexer": "ipython3",
   "version": "3.9.12"
  }
 },
 "nbformat": 4,
 "nbformat_minor": 5
}
