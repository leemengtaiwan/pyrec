{
 "cells": [
  {
   "cell_type": "markdown",
   "id": "3c374ea7-1c2f-4339-8e28-8aabad06621c",
   "metadata": {},
   "source": [
    "# Goal\n",
    "\n",
    "- https://datawhalechina.github.io/fun-rec/#/ch03/ch3.1/markdown/ch3.1.2\n",
    "- https://tianchi.aliyun.com/notebook-ai/detail?spm=5176.12586969.1002.51.410521d8PSk1rU&postId=144451"
   ]
  },
  {
   "cell_type": "markdown",
   "id": "a47772cd-20e2-4548-8d24-a6b762b20a61",
   "metadata": {},
   "source": [
    "# 导入相关包"
   ]
  },
  {
   "cell_type": "code",
   "execution_count": 85,
   "id": "432a4168-90db-4f52-b287-811c1d1b1de8",
   "metadata": {},
   "outputs": [],
   "source": [
    "%matplotlib inline\n",
    "import pandas as pd\n",
    "import numpy as np\n",
    "\n",
    "import matplotlib.pyplot as plt\n",
    "import seaborn as sns\n",
    "plt.rc('font', family='SimHei', size=13)\n",
    "\n",
    "import os,gc,re,warnings,sys\n",
    "warnings.filterwarnings(\"ignore\")"
   ]
  },
  {
   "cell_type": "code",
   "execution_count": 140,
   "id": "bf97eb21-8194-4eb8-b1a3-36a73fff72d3",
   "metadata": {},
   "outputs": [],
   "source": [
    "import altair as alt"
   ]
  },
  {
   "cell_type": "markdown",
   "id": "79affbd3-b171-4d29-b712-44908b227c34",
   "metadata": {},
   "source": [
    "# 读取数据"
   ]
  },
  {
   "cell_type": "code",
   "execution_count": 113,
   "id": "15e3246c-324a-4e97-9e4b-ea023948b431",
   "metadata": {},
   "outputs": [],
   "source": [
    "path = './data/'\n",
    "\n",
    "#####train\n",
    "trn_click = pd.read_csv(path+'train_click_log.csv')\n",
    "item_df = pd.read_csv(path+'articles.csv')\n",
    "item_df = item_df.rename(columns={'article_id': 'click_article_id'})  #重命名，方便后续match\n",
    "item_emb_df = pd.read_csv(path+'articles_emb.csv')\n",
    "\n",
    "#####test\n",
    "tst_click = pd.read_csv(path+'testA_click_log.csv')"
   ]
  },
  {
   "cell_type": "code",
   "execution_count": 114,
   "id": "e226c558-9a87-4b90-b706-260413c124d0",
   "metadata": {},
   "outputs": [
    {
     "data": {
      "text/plain": [
       "((1112623, 9), (518010, 9))"
      ]
     },
     "execution_count": 114,
     "metadata": {},
     "output_type": "execute_result"
    }
   ],
   "source": [
    "trn_click.shape, tst_click.shape"
   ]
  },
  {
   "cell_type": "code",
   "execution_count": 115,
   "id": "1f361002-6a50-4822-baab-6bf2f6e2fcc0",
   "metadata": {},
   "outputs": [
    {
     "data": {
      "text/html": [
       "<div>\n",
       "<style scoped>\n",
       "    .dataframe tbody tr th:only-of-type {\n",
       "        vertical-align: middle;\n",
       "    }\n",
       "\n",
       "    .dataframe tbody tr th {\n",
       "        vertical-align: top;\n",
       "    }\n",
       "\n",
       "    .dataframe thead th {\n",
       "        text-align: right;\n",
       "    }\n",
       "</style>\n",
       "<table border=\"1\" class=\"dataframe\">\n",
       "  <thead>\n",
       "    <tr style=\"text-align: right;\">\n",
       "      <th></th>\n",
       "      <th>click_article_id</th>\n",
       "      <th>category_id</th>\n",
       "      <th>created_at_ts</th>\n",
       "      <th>words_count</th>\n",
       "    </tr>\n",
       "  </thead>\n",
       "  <tbody>\n",
       "    <tr>\n",
       "      <th>0</th>\n",
       "      <td>0</td>\n",
       "      <td>0</td>\n",
       "      <td>1513144419000</td>\n",
       "      <td>168</td>\n",
       "    </tr>\n",
       "    <tr>\n",
       "      <th>1</th>\n",
       "      <td>1</td>\n",
       "      <td>1</td>\n",
       "      <td>1405341936000</td>\n",
       "      <td>189</td>\n",
       "    </tr>\n",
       "    <tr>\n",
       "      <th>2</th>\n",
       "      <td>2</td>\n",
       "      <td>1</td>\n",
       "      <td>1408667706000</td>\n",
       "      <td>250</td>\n",
       "    </tr>\n",
       "    <tr>\n",
       "      <th>3</th>\n",
       "      <td>3</td>\n",
       "      <td>1</td>\n",
       "      <td>1408468313000</td>\n",
       "      <td>230</td>\n",
       "    </tr>\n",
       "    <tr>\n",
       "      <th>4</th>\n",
       "      <td>4</td>\n",
       "      <td>1</td>\n",
       "      <td>1407071171000</td>\n",
       "      <td>162</td>\n",
       "    </tr>\n",
       "  </tbody>\n",
       "</table>\n",
       "</div>"
      ],
      "text/plain": [
       "   click_article_id  category_id  created_at_ts  words_count\n",
       "0                 0            0  1513144419000          168\n",
       "1                 1            1  1405341936000          189\n",
       "2                 2            1  1408667706000          250\n",
       "3                 3            1  1408468313000          230\n",
       "4                 4            1  1407071171000          162"
      ]
     },
     "execution_count": 115,
     "metadata": {},
     "output_type": "execute_result"
    }
   ],
   "source": [
    "item_df.head()"
   ]
  },
  {
   "cell_type": "code",
   "execution_count": 116,
   "id": "000af2b5-d51b-4565-bbfe-9384b2d27eaa",
   "metadata": {},
   "outputs": [
    {
     "data": {
      "text/plain": [
       "(364047, 4)"
      ]
     },
     "execution_count": 116,
     "metadata": {},
     "output_type": "execute_result"
    }
   ],
   "source": [
    "item_df.shape"
   ]
  },
  {
   "cell_type": "code",
   "execution_count": 117,
   "id": "8e958d82-49eb-40aa-98af-ce28d494e105",
   "metadata": {},
   "outputs": [
    {
     "data": {
      "text/html": [
       "<div>\n",
       "<style scoped>\n",
       "    .dataframe tbody tr th:only-of-type {\n",
       "        vertical-align: middle;\n",
       "    }\n",
       "\n",
       "    .dataframe tbody tr th {\n",
       "        vertical-align: top;\n",
       "    }\n",
       "\n",
       "    .dataframe thead th {\n",
       "        text-align: right;\n",
       "    }\n",
       "</style>\n",
       "<table border=\"1\" class=\"dataframe\">\n",
       "  <thead>\n",
       "    <tr style=\"text-align: right;\">\n",
       "      <th></th>\n",
       "      <th>a</th>\n",
       "      <th>c</th>\n",
       "      <th>ts_created</th>\n",
       "      <th>w_cnt</th>\n",
       "    </tr>\n",
       "  </thead>\n",
       "  <tbody>\n",
       "    <tr>\n",
       "      <th>0</th>\n",
       "      <td>0</td>\n",
       "      <td>0</td>\n",
       "      <td>1513144419000</td>\n",
       "      <td>168</td>\n",
       "    </tr>\n",
       "    <tr>\n",
       "      <th>1</th>\n",
       "      <td>1</td>\n",
       "      <td>1</td>\n",
       "      <td>1405341936000</td>\n",
       "      <td>189</td>\n",
       "    </tr>\n",
       "    <tr>\n",
       "      <th>2</th>\n",
       "      <td>2</td>\n",
       "      <td>1</td>\n",
       "      <td>1408667706000</td>\n",
       "      <td>250</td>\n",
       "    </tr>\n",
       "    <tr>\n",
       "      <th>3</th>\n",
       "      <td>3</td>\n",
       "      <td>1</td>\n",
       "      <td>1408468313000</td>\n",
       "      <td>230</td>\n",
       "    </tr>\n",
       "    <tr>\n",
       "      <th>4</th>\n",
       "      <td>4</td>\n",
       "      <td>1</td>\n",
       "      <td>1407071171000</td>\n",
       "      <td>162</td>\n",
       "    </tr>\n",
       "    <tr>\n",
       "      <th>...</th>\n",
       "      <td>...</td>\n",
       "      <td>...</td>\n",
       "      <td>...</td>\n",
       "      <td>...</td>\n",
       "    </tr>\n",
       "    <tr>\n",
       "      <th>364042</th>\n",
       "      <td>364042</td>\n",
       "      <td>460</td>\n",
       "      <td>1434034118000</td>\n",
       "      <td>144</td>\n",
       "    </tr>\n",
       "    <tr>\n",
       "      <th>364043</th>\n",
       "      <td>364043</td>\n",
       "      <td>460</td>\n",
       "      <td>1434148472000</td>\n",
       "      <td>463</td>\n",
       "    </tr>\n",
       "    <tr>\n",
       "      <th>364044</th>\n",
       "      <td>364044</td>\n",
       "      <td>460</td>\n",
       "      <td>1457974279000</td>\n",
       "      <td>177</td>\n",
       "    </tr>\n",
       "    <tr>\n",
       "      <th>364045</th>\n",
       "      <td>364045</td>\n",
       "      <td>460</td>\n",
       "      <td>1515964737000</td>\n",
       "      <td>126</td>\n",
       "    </tr>\n",
       "    <tr>\n",
       "      <th>364046</th>\n",
       "      <td>364046</td>\n",
       "      <td>460</td>\n",
       "      <td>1505811330000</td>\n",
       "      <td>479</td>\n",
       "    </tr>\n",
       "  </tbody>\n",
       "</table>\n",
       "<p>364047 rows × 4 columns</p>\n",
       "</div>"
      ],
      "text/plain": [
       "             a    c     ts_created  w_cnt\n",
       "0            0    0  1513144419000    168\n",
       "1            1    1  1405341936000    189\n",
       "2            2    1  1408667706000    250\n",
       "3            3    1  1408468313000    230\n",
       "4            4    1  1407071171000    162\n",
       "...        ...  ...            ...    ...\n",
       "364042  364042  460  1434034118000    144\n",
       "364043  364043  460  1434148472000    463\n",
       "364044  364044  460  1457974279000    177\n",
       "364045  364045  460  1515964737000    126\n",
       "364046  364046  460  1505811330000    479\n",
       "\n",
       "[364047 rows x 4 columns]"
      ]
     },
     "execution_count": 117,
     "metadata": {},
     "output_type": "execute_result"
    }
   ],
   "source": [
    "a = item_df.copy()\n",
    "a.columns = ['a', 'c', 'ts_created', 'w_cnt']\n",
    "a"
   ]
  },
  {
   "cell_type": "code",
   "execution_count": 118,
   "id": "b4a3a045-ca87-4d2e-89d6-5f11ddc9269c",
   "metadata": {},
   "outputs": [],
   "source": [
    "train = trn_click.copy()\n",
    "train.columns = ['u', 'a', 'ts', 'env', 'device', 'os', 'country', 'region', 'referrer']\n",
    "\n",
    "test = tst_click.copy()\n",
    "test.columns = ['u', 'a', 'ts', 'env', 'device', 'os', 'country', 'region', 'referrer']"
   ]
  },
  {
   "cell_type": "code",
   "execution_count": 119,
   "id": "a0b30a0e-ab0c-442d-a57c-92195ee20c22",
   "metadata": {},
   "outputs": [
    {
     "data": {
      "text/html": [
       "<div>\n",
       "<style scoped>\n",
       "    .dataframe tbody tr th:only-of-type {\n",
       "        vertical-align: middle;\n",
       "    }\n",
       "\n",
       "    .dataframe tbody tr th {\n",
       "        vertical-align: top;\n",
       "    }\n",
       "\n",
       "    .dataframe thead th {\n",
       "        text-align: right;\n",
       "    }\n",
       "</style>\n",
       "<table border=\"1\" class=\"dataframe\">\n",
       "  <thead>\n",
       "    <tr style=\"text-align: right;\">\n",
       "      <th></th>\n",
       "      <th>u</th>\n",
       "      <th>a</th>\n",
       "      <th>ts</th>\n",
       "      <th>env</th>\n",
       "      <th>device</th>\n",
       "      <th>os</th>\n",
       "      <th>country</th>\n",
       "      <th>region</th>\n",
       "      <th>referrer</th>\n",
       "    </tr>\n",
       "  </thead>\n",
       "  <tbody>\n",
       "    <tr>\n",
       "      <th>0</th>\n",
       "      <td>199999</td>\n",
       "      <td>160417</td>\n",
       "      <td>1507029570190</td>\n",
       "      <td>4</td>\n",
       "      <td>1</td>\n",
       "      <td>17</td>\n",
       "      <td>1</td>\n",
       "      <td>13</td>\n",
       "      <td>1</td>\n",
       "    </tr>\n",
       "    <tr>\n",
       "      <th>1</th>\n",
       "      <td>199999</td>\n",
       "      <td>5408</td>\n",
       "      <td>1507029571478</td>\n",
       "      <td>4</td>\n",
       "      <td>1</td>\n",
       "      <td>17</td>\n",
       "      <td>1</td>\n",
       "      <td>13</td>\n",
       "      <td>1</td>\n",
       "    </tr>\n",
       "    <tr>\n",
       "      <th>2</th>\n",
       "      <td>199999</td>\n",
       "      <td>50823</td>\n",
       "      <td>1507029601478</td>\n",
       "      <td>4</td>\n",
       "      <td>1</td>\n",
       "      <td>17</td>\n",
       "      <td>1</td>\n",
       "      <td>13</td>\n",
       "      <td>1</td>\n",
       "    </tr>\n",
       "    <tr>\n",
       "      <th>3</th>\n",
       "      <td>199998</td>\n",
       "      <td>157770</td>\n",
       "      <td>1507029532200</td>\n",
       "      <td>4</td>\n",
       "      <td>1</td>\n",
       "      <td>17</td>\n",
       "      <td>1</td>\n",
       "      <td>25</td>\n",
       "      <td>5</td>\n",
       "    </tr>\n",
       "    <tr>\n",
       "      <th>4</th>\n",
       "      <td>199998</td>\n",
       "      <td>96613</td>\n",
       "      <td>1507029671831</td>\n",
       "      <td>4</td>\n",
       "      <td>1</td>\n",
       "      <td>17</td>\n",
       "      <td>1</td>\n",
       "      <td>25</td>\n",
       "      <td>5</td>\n",
       "    </tr>\n",
       "  </tbody>\n",
       "</table>\n",
       "</div>"
      ],
      "text/plain": [
       "        u       a             ts  env  device  os  country  region  referrer\n",
       "0  199999  160417  1507029570190    4       1  17        1      13         1\n",
       "1  199999    5408  1507029571478    4       1  17        1      13         1\n",
       "2  199999   50823  1507029601478    4       1  17        1      13         1\n",
       "3  199998  157770  1507029532200    4       1  17        1      25         5\n",
       "4  199998   96613  1507029671831    4       1  17        1      25         5"
      ]
     },
     "execution_count": 119,
     "metadata": {},
     "output_type": "execute_result"
    }
   ],
   "source": [
    "train.head()"
   ]
  },
  {
   "cell_type": "code",
   "execution_count": 120,
   "id": "56e99aae-12c4-458b-b50c-6b27180c5985",
   "metadata": {},
   "outputs": [
    {
     "data": {
      "text/html": [
       "<div>\n",
       "<style scoped>\n",
       "    .dataframe tbody tr th:only-of-type {\n",
       "        vertical-align: middle;\n",
       "    }\n",
       "\n",
       "    .dataframe tbody tr th {\n",
       "        vertical-align: top;\n",
       "    }\n",
       "\n",
       "    .dataframe thead th {\n",
       "        text-align: right;\n",
       "    }\n",
       "</style>\n",
       "<table border=\"1\" class=\"dataframe\">\n",
       "  <thead>\n",
       "    <tr style=\"text-align: right;\">\n",
       "      <th></th>\n",
       "      <th>u</th>\n",
       "      <th>a</th>\n",
       "      <th>ts</th>\n",
       "      <th>env</th>\n",
       "      <th>device</th>\n",
       "      <th>os</th>\n",
       "      <th>country</th>\n",
       "      <th>region</th>\n",
       "      <th>referrer</th>\n",
       "    </tr>\n",
       "  </thead>\n",
       "  <tbody>\n",
       "    <tr>\n",
       "      <th>0</th>\n",
       "      <td>249999</td>\n",
       "      <td>160974</td>\n",
       "      <td>1506959142820</td>\n",
       "      <td>4</td>\n",
       "      <td>1</td>\n",
       "      <td>17</td>\n",
       "      <td>1</td>\n",
       "      <td>13</td>\n",
       "      <td>2</td>\n",
       "    </tr>\n",
       "    <tr>\n",
       "      <th>1</th>\n",
       "      <td>249999</td>\n",
       "      <td>160417</td>\n",
       "      <td>1506959172820</td>\n",
       "      <td>4</td>\n",
       "      <td>1</td>\n",
       "      <td>17</td>\n",
       "      <td>1</td>\n",
       "      <td>13</td>\n",
       "      <td>2</td>\n",
       "    </tr>\n",
       "    <tr>\n",
       "      <th>2</th>\n",
       "      <td>249998</td>\n",
       "      <td>160974</td>\n",
       "      <td>1506959056066</td>\n",
       "      <td>4</td>\n",
       "      <td>1</td>\n",
       "      <td>12</td>\n",
       "      <td>1</td>\n",
       "      <td>13</td>\n",
       "      <td>2</td>\n",
       "    </tr>\n",
       "    <tr>\n",
       "      <th>3</th>\n",
       "      <td>249998</td>\n",
       "      <td>202557</td>\n",
       "      <td>1506959086066</td>\n",
       "      <td>4</td>\n",
       "      <td>1</td>\n",
       "      <td>12</td>\n",
       "      <td>1</td>\n",
       "      <td>13</td>\n",
       "      <td>2</td>\n",
       "    </tr>\n",
       "    <tr>\n",
       "      <th>4</th>\n",
       "      <td>249997</td>\n",
       "      <td>183665</td>\n",
       "      <td>1506959088613</td>\n",
       "      <td>4</td>\n",
       "      <td>1</td>\n",
       "      <td>17</td>\n",
       "      <td>1</td>\n",
       "      <td>15</td>\n",
       "      <td>5</td>\n",
       "    </tr>\n",
       "  </tbody>\n",
       "</table>\n",
       "</div>"
      ],
      "text/plain": [
       "        u       a             ts  env  device  os  country  region  referrer\n",
       "0  249999  160974  1506959142820    4       1  17        1      13         2\n",
       "1  249999  160417  1506959172820    4       1  17        1      13         2\n",
       "2  249998  160974  1506959056066    4       1  12        1      13         2\n",
       "3  249998  202557  1506959086066    4       1  12        1      13         2\n",
       "4  249997  183665  1506959088613    4       1  17        1      15         5"
      ]
     },
     "execution_count": 120,
     "metadata": {},
     "output_type": "execute_result"
    }
   ],
   "source": [
    "test.head()"
   ]
  },
  {
   "cell_type": "code",
   "execution_count": 121,
   "id": "33947f4a-9ee0-4bc7-a4cd-32356993e411",
   "metadata": {},
   "outputs": [
    {
     "data": {
      "text/plain": [
       "(0, 199999)"
      ]
     },
     "execution_count": 121,
     "metadata": {},
     "output_type": "execute_result"
    }
   ],
   "source": [
    "train.u.min(), train.u.max()"
   ]
  },
  {
   "cell_type": "code",
   "execution_count": 122,
   "id": "eb30b841-6eb4-4eaa-99af-e97433cb84a7",
   "metadata": {},
   "outputs": [
    {
     "data": {
      "text/plain": [
       "(200000, 249999)"
      ]
     },
     "execution_count": 122,
     "metadata": {},
     "output_type": "execute_result"
    }
   ],
   "source": [
    "test.u.min(), test.u.max()"
   ]
  },
  {
   "cell_type": "markdown",
   "id": "364ce77e-1f21-4fa8-a227-b180aeea9be3",
   "metadata": {},
   "source": [
    "# 数据预处理\n",
    "计算用户点击rank和点击次数"
   ]
  },
  {
   "cell_type": "code",
   "execution_count": 123,
   "id": "07151c51-e069-4306-ba17-cf5a50b27004",
   "metadata": {},
   "outputs": [],
   "source": [
    "# 对每个用户的点击时间戳进行排序\n",
    "trn_click['rank'] = trn_click.groupby(['user_id'])['click_timestamp'].rank(ascending=False).astype(int)\n",
    "tst_click['rank'] = tst_click.groupby(['user_id'])['click_timestamp'].rank(ascending=False).astype(int)\n"
   ]
  },
  {
   "cell_type": "code",
   "execution_count": 124,
   "id": "a68ab062-e43d-4099-95a7-a111f6be338a",
   "metadata": {},
   "outputs": [],
   "source": [
    "#计算用户点击文章的次数，并添加新的一列count\n",
    "trn_click['click_cnts'] = trn_click.groupby(['user_id'])['click_timestamp'].transform('count')\n",
    "tst_click['click_cnts'] = tst_click.groupby(['user_id'])['click_timestamp'].transform('count')\n"
   ]
  },
  {
   "cell_type": "markdown",
   "id": "c06ce489-1430-4c33-a587-9bf472be33d8",
   "metadata": {},
   "source": [
    "self"
   ]
  },
  {
   "cell_type": "code",
   "execution_count": 125,
   "id": "69c1dba0-155f-4239-a8a9-514650fa8061",
   "metadata": {},
   "outputs": [
    {
     "data": {
      "text/html": [
       "<div>\n",
       "<style scoped>\n",
       "    .dataframe tbody tr th:only-of-type {\n",
       "        vertical-align: middle;\n",
       "    }\n",
       "\n",
       "    .dataframe tbody tr th {\n",
       "        vertical-align: top;\n",
       "    }\n",
       "\n",
       "    .dataframe thead th {\n",
       "        text-align: right;\n",
       "    }\n",
       "</style>\n",
       "<table border=\"1\" class=\"dataframe\">\n",
       "  <thead>\n",
       "    <tr style=\"text-align: right;\">\n",
       "      <th></th>\n",
       "      <th>u</th>\n",
       "      <th>a</th>\n",
       "      <th>ts</th>\n",
       "      <th>env</th>\n",
       "      <th>device</th>\n",
       "      <th>os</th>\n",
       "      <th>country</th>\n",
       "      <th>region</th>\n",
       "      <th>referrer</th>\n",
       "      <th>rank</th>\n",
       "    </tr>\n",
       "  </thead>\n",
       "  <tbody>\n",
       "    <tr>\n",
       "      <th>0</th>\n",
       "      <td>199999</td>\n",
       "      <td>160417</td>\n",
       "      <td>1507029570190</td>\n",
       "      <td>4</td>\n",
       "      <td>1</td>\n",
       "      <td>17</td>\n",
       "      <td>1</td>\n",
       "      <td>13</td>\n",
       "      <td>1</td>\n",
       "      <td>11</td>\n",
       "    </tr>\n",
       "    <tr>\n",
       "      <th>1</th>\n",
       "      <td>199999</td>\n",
       "      <td>5408</td>\n",
       "      <td>1507029571478</td>\n",
       "      <td>4</td>\n",
       "      <td>1</td>\n",
       "      <td>17</td>\n",
       "      <td>1</td>\n",
       "      <td>13</td>\n",
       "      <td>1</td>\n",
       "      <td>10</td>\n",
       "    </tr>\n",
       "    <tr>\n",
       "      <th>2</th>\n",
       "      <td>199999</td>\n",
       "      <td>50823</td>\n",
       "      <td>1507029601478</td>\n",
       "      <td>4</td>\n",
       "      <td>1</td>\n",
       "      <td>17</td>\n",
       "      <td>1</td>\n",
       "      <td>13</td>\n",
       "      <td>1</td>\n",
       "      <td>9</td>\n",
       "    </tr>\n",
       "    <tr>\n",
       "      <th>3</th>\n",
       "      <td>199998</td>\n",
       "      <td>157770</td>\n",
       "      <td>1507029532200</td>\n",
       "      <td>4</td>\n",
       "      <td>1</td>\n",
       "      <td>17</td>\n",
       "      <td>1</td>\n",
       "      <td>25</td>\n",
       "      <td>5</td>\n",
       "      <td>40</td>\n",
       "    </tr>\n",
       "    <tr>\n",
       "      <th>4</th>\n",
       "      <td>199998</td>\n",
       "      <td>96613</td>\n",
       "      <td>1507029671831</td>\n",
       "      <td>4</td>\n",
       "      <td>1</td>\n",
       "      <td>17</td>\n",
       "      <td>1</td>\n",
       "      <td>25</td>\n",
       "      <td>5</td>\n",
       "      <td>39</td>\n",
       "    </tr>\n",
       "    <tr>\n",
       "      <th>...</th>\n",
       "      <td>...</td>\n",
       "      <td>...</td>\n",
       "      <td>...</td>\n",
       "      <td>...</td>\n",
       "      <td>...</td>\n",
       "      <td>...</td>\n",
       "      <td>...</td>\n",
       "      <td>...</td>\n",
       "      <td>...</td>\n",
       "      <td>...</td>\n",
       "    </tr>\n",
       "    <tr>\n",
       "      <th>1112618</th>\n",
       "      <td>33446</td>\n",
       "      <td>16346</td>\n",
       "      <td>1508212054157</td>\n",
       "      <td>4</td>\n",
       "      <td>3</td>\n",
       "      <td>2</td>\n",
       "      <td>1</td>\n",
       "      <td>25</td>\n",
       "      <td>1</td>\n",
       "      <td>1</td>\n",
       "    </tr>\n",
       "    <tr>\n",
       "      <th>1112619</th>\n",
       "      <td>0</td>\n",
       "      <td>30760</td>\n",
       "      <td>1508211672520</td>\n",
       "      <td>4</td>\n",
       "      <td>1</td>\n",
       "      <td>17</td>\n",
       "      <td>1</td>\n",
       "      <td>25</td>\n",
       "      <td>2</td>\n",
       "      <td>2</td>\n",
       "    </tr>\n",
       "    <tr>\n",
       "      <th>1112620</th>\n",
       "      <td>0</td>\n",
       "      <td>157507</td>\n",
       "      <td>1508211702520</td>\n",
       "      <td>4</td>\n",
       "      <td>1</td>\n",
       "      <td>17</td>\n",
       "      <td>1</td>\n",
       "      <td>25</td>\n",
       "      <td>2</td>\n",
       "      <td>1</td>\n",
       "    </tr>\n",
       "    <tr>\n",
       "      <th>1112621</th>\n",
       "      <td>199178</td>\n",
       "      <td>234481</td>\n",
       "      <td>1508211513583</td>\n",
       "      <td>4</td>\n",
       "      <td>3</td>\n",
       "      <td>2</td>\n",
       "      <td>1</td>\n",
       "      <td>25</td>\n",
       "      <td>2</td>\n",
       "      <td>2</td>\n",
       "    </tr>\n",
       "    <tr>\n",
       "      <th>1112622</th>\n",
       "      <td>199178</td>\n",
       "      <td>233578</td>\n",
       "      <td>1508211543583</td>\n",
       "      <td>4</td>\n",
       "      <td>3</td>\n",
       "      <td>2</td>\n",
       "      <td>1</td>\n",
       "      <td>25</td>\n",
       "      <td>2</td>\n",
       "      <td>1</td>\n",
       "    </tr>\n",
       "  </tbody>\n",
       "</table>\n",
       "<p>1112623 rows × 10 columns</p>\n",
       "</div>"
      ],
      "text/plain": [
       "              u       a             ts  env  device  os  country  region  \\\n",
       "0        199999  160417  1507029570190    4       1  17        1      13   \n",
       "1        199999    5408  1507029571478    4       1  17        1      13   \n",
       "2        199999   50823  1507029601478    4       1  17        1      13   \n",
       "3        199998  157770  1507029532200    4       1  17        1      25   \n",
       "4        199998   96613  1507029671831    4       1  17        1      25   \n",
       "...         ...     ...            ...  ...     ...  ..      ...     ...   \n",
       "1112618   33446   16346  1508212054157    4       3   2        1      25   \n",
       "1112619       0   30760  1508211672520    4       1  17        1      25   \n",
       "1112620       0  157507  1508211702520    4       1  17        1      25   \n",
       "1112621  199178  234481  1508211513583    4       3   2        1      25   \n",
       "1112622  199178  233578  1508211543583    4       3   2        1      25   \n",
       "\n",
       "         referrer  rank  \n",
       "0               1    11  \n",
       "1               1    10  \n",
       "2               1     9  \n",
       "3               5    40  \n",
       "4               5    39  \n",
       "...           ...   ...  \n",
       "1112618         1     1  \n",
       "1112619         2     2  \n",
       "1112620         2     1  \n",
       "1112621         2     2  \n",
       "1112622         2     1  \n",
       "\n",
       "[1112623 rows x 10 columns]"
      ]
     },
     "execution_count": 125,
     "metadata": {},
     "output_type": "execute_result"
    }
   ],
   "source": [
    "train['rank'] = train.groupby('u')['ts'].rank(ascending=False).astype(int)\n",
    "test['rank'] = test.groupby('u')['ts'].rank(ascending=False).astype(int)\n",
    "train"
   ]
  },
  {
   "cell_type": "code",
   "execution_count": 126,
   "id": "64fd8e88-37d5-4f8c-a57b-5e32e62cdeef",
   "metadata": {},
   "outputs": [
    {
     "data": {
      "text/html": [
       "<div>\n",
       "<style scoped>\n",
       "    .dataframe tbody tr th:only-of-type {\n",
       "        vertical-align: middle;\n",
       "    }\n",
       "\n",
       "    .dataframe tbody tr th {\n",
       "        vertical-align: top;\n",
       "    }\n",
       "\n",
       "    .dataframe thead th {\n",
       "        text-align: right;\n",
       "    }\n",
       "</style>\n",
       "<table border=\"1\" class=\"dataframe\">\n",
       "  <thead>\n",
       "    <tr style=\"text-align: right;\">\n",
       "      <th></th>\n",
       "      <th>u</th>\n",
       "      <th>a</th>\n",
       "      <th>ts</th>\n",
       "      <th>env</th>\n",
       "      <th>device</th>\n",
       "      <th>os</th>\n",
       "      <th>country</th>\n",
       "      <th>region</th>\n",
       "      <th>referrer</th>\n",
       "      <th>rank</th>\n",
       "    </tr>\n",
       "  </thead>\n",
       "  <tbody>\n",
       "    <tr>\n",
       "      <th>0</th>\n",
       "      <td>199999</td>\n",
       "      <td>160417</td>\n",
       "      <td>1507029570190</td>\n",
       "      <td>4</td>\n",
       "      <td>1</td>\n",
       "      <td>17</td>\n",
       "      <td>1</td>\n",
       "      <td>13</td>\n",
       "      <td>1</td>\n",
       "      <td>11</td>\n",
       "    </tr>\n",
       "    <tr>\n",
       "      <th>1</th>\n",
       "      <td>199999</td>\n",
       "      <td>5408</td>\n",
       "      <td>1507029571478</td>\n",
       "      <td>4</td>\n",
       "      <td>1</td>\n",
       "      <td>17</td>\n",
       "      <td>1</td>\n",
       "      <td>13</td>\n",
       "      <td>1</td>\n",
       "      <td>10</td>\n",
       "    </tr>\n",
       "    <tr>\n",
       "      <th>2</th>\n",
       "      <td>199999</td>\n",
       "      <td>50823</td>\n",
       "      <td>1507029601478</td>\n",
       "      <td>4</td>\n",
       "      <td>1</td>\n",
       "      <td>17</td>\n",
       "      <td>1</td>\n",
       "      <td>13</td>\n",
       "      <td>1</td>\n",
       "      <td>9</td>\n",
       "    </tr>\n",
       "    <tr>\n",
       "      <th>211041</th>\n",
       "      <td>199999</td>\n",
       "      <td>123909</td>\n",
       "      <td>1507226987864</td>\n",
       "      <td>4</td>\n",
       "      <td>1</td>\n",
       "      <td>17</td>\n",
       "      <td>1</td>\n",
       "      <td>13</td>\n",
       "      <td>1</td>\n",
       "      <td>8</td>\n",
       "    </tr>\n",
       "    <tr>\n",
       "      <th>211042</th>\n",
       "      <td>199999</td>\n",
       "      <td>168623</td>\n",
       "      <td>1507227017864</td>\n",
       "      <td>4</td>\n",
       "      <td>1</td>\n",
       "      <td>17</td>\n",
       "      <td>1</td>\n",
       "      <td>13</td>\n",
       "      <td>1</td>\n",
       "      <td>7</td>\n",
       "    </tr>\n",
       "    <tr>\n",
       "      <th>660731</th>\n",
       "      <td>199999</td>\n",
       "      <td>161191</td>\n",
       "      <td>1507665351186</td>\n",
       "      <td>4</td>\n",
       "      <td>1</td>\n",
       "      <td>17</td>\n",
       "      <td>1</td>\n",
       "      <td>13</td>\n",
       "      <td>1</td>\n",
       "      <td>6</td>\n",
       "    </tr>\n",
       "    <tr>\n",
       "      <th>660732</th>\n",
       "      <td>199999</td>\n",
       "      <td>42223</td>\n",
       "      <td>1507665381186</td>\n",
       "      <td>4</td>\n",
       "      <td>1</td>\n",
       "      <td>17</td>\n",
       "      <td>1</td>\n",
       "      <td>13</td>\n",
       "      <td>1</td>\n",
       "      <td>5</td>\n",
       "    </tr>\n",
       "    <tr>\n",
       "      <th>709171</th>\n",
       "      <td>199999</td>\n",
       "      <td>70214</td>\n",
       "      <td>1507721405411</td>\n",
       "      <td>4</td>\n",
       "      <td>1</td>\n",
       "      <td>17</td>\n",
       "      <td>1</td>\n",
       "      <td>13</td>\n",
       "      <td>1</td>\n",
       "      <td>4</td>\n",
       "    </tr>\n",
       "    <tr>\n",
       "      <th>709172</th>\n",
       "      <td>199999</td>\n",
       "      <td>156843</td>\n",
       "      <td>1507721435411</td>\n",
       "      <td>4</td>\n",
       "      <td>1</td>\n",
       "      <td>17</td>\n",
       "      <td>1</td>\n",
       "      <td>13</td>\n",
       "      <td>1</td>\n",
       "      <td>3</td>\n",
       "    </tr>\n",
       "    <tr>\n",
       "      <th>1081894</th>\n",
       "      <td>199999</td>\n",
       "      <td>159019</td>\n",
       "      <td>1508176837088</td>\n",
       "      <td>4</td>\n",
       "      <td>1</td>\n",
       "      <td>17</td>\n",
       "      <td>1</td>\n",
       "      <td>13</td>\n",
       "      <td>1</td>\n",
       "      <td>2</td>\n",
       "    </tr>\n",
       "    <tr>\n",
       "      <th>1081895</th>\n",
       "      <td>199999</td>\n",
       "      <td>218355</td>\n",
       "      <td>1508176867088</td>\n",
       "      <td>4</td>\n",
       "      <td>1</td>\n",
       "      <td>17</td>\n",
       "      <td>1</td>\n",
       "      <td>13</td>\n",
       "      <td>1</td>\n",
       "      <td>1</td>\n",
       "    </tr>\n",
       "  </tbody>\n",
       "</table>\n",
       "</div>"
      ],
      "text/plain": [
       "              u       a             ts  env  device  os  country  region  \\\n",
       "0        199999  160417  1507029570190    4       1  17        1      13   \n",
       "1        199999    5408  1507029571478    4       1  17        1      13   \n",
       "2        199999   50823  1507029601478    4       1  17        1      13   \n",
       "211041   199999  123909  1507226987864    4       1  17        1      13   \n",
       "211042   199999  168623  1507227017864    4       1  17        1      13   \n",
       "660731   199999  161191  1507665351186    4       1  17        1      13   \n",
       "660732   199999   42223  1507665381186    4       1  17        1      13   \n",
       "709171   199999   70214  1507721405411    4       1  17        1      13   \n",
       "709172   199999  156843  1507721435411    4       1  17        1      13   \n",
       "1081894  199999  159019  1508176837088    4       1  17        1      13   \n",
       "1081895  199999  218355  1508176867088    4       1  17        1      13   \n",
       "\n",
       "         referrer  rank  \n",
       "0               1    11  \n",
       "1               1    10  \n",
       "2               1     9  \n",
       "211041          1     8  \n",
       "211042          1     7  \n",
       "660731          1     6  \n",
       "660732          1     5  \n",
       "709171          1     4  \n",
       "709172          1     3  \n",
       "1081894         1     2  \n",
       "1081895         1     1  "
      ]
     },
     "execution_count": 126,
     "metadata": {},
     "output_type": "execute_result"
    }
   ],
   "source": [
    "train[train.u == 199999]"
   ]
  },
  {
   "cell_type": "code",
   "execution_count": 127,
   "id": "edc01a50-698b-45c4-b890-5fb5935b2c0d",
   "metadata": {},
   "outputs": [
    {
     "data": {
      "text/html": [
       "<div>\n",
       "<style scoped>\n",
       "    .dataframe tbody tr th:only-of-type {\n",
       "        vertical-align: middle;\n",
       "    }\n",
       "\n",
       "    .dataframe tbody tr th {\n",
       "        vertical-align: top;\n",
       "    }\n",
       "\n",
       "    .dataframe thead th {\n",
       "        text-align: right;\n",
       "    }\n",
       "</style>\n",
       "<table border=\"1\" class=\"dataframe\">\n",
       "  <thead>\n",
       "    <tr style=\"text-align: right;\">\n",
       "      <th></th>\n",
       "      <th>u</th>\n",
       "      <th>a</th>\n",
       "      <th>ts</th>\n",
       "      <th>env</th>\n",
       "      <th>device</th>\n",
       "      <th>os</th>\n",
       "      <th>country</th>\n",
       "      <th>region</th>\n",
       "      <th>referrer</th>\n",
       "      <th>rank</th>\n",
       "      <th>nc</th>\n",
       "    </tr>\n",
       "  </thead>\n",
       "  <tbody>\n",
       "    <tr>\n",
       "      <th>0</th>\n",
       "      <td>199999</td>\n",
       "      <td>160417</td>\n",
       "      <td>1507029570190</td>\n",
       "      <td>4</td>\n",
       "      <td>1</td>\n",
       "      <td>17</td>\n",
       "      <td>1</td>\n",
       "      <td>13</td>\n",
       "      <td>1</td>\n",
       "      <td>11</td>\n",
       "      <td>11</td>\n",
       "    </tr>\n",
       "    <tr>\n",
       "      <th>1</th>\n",
       "      <td>199999</td>\n",
       "      <td>5408</td>\n",
       "      <td>1507029571478</td>\n",
       "      <td>4</td>\n",
       "      <td>1</td>\n",
       "      <td>17</td>\n",
       "      <td>1</td>\n",
       "      <td>13</td>\n",
       "      <td>1</td>\n",
       "      <td>10</td>\n",
       "      <td>11</td>\n",
       "    </tr>\n",
       "    <tr>\n",
       "      <th>2</th>\n",
       "      <td>199999</td>\n",
       "      <td>50823</td>\n",
       "      <td>1507029601478</td>\n",
       "      <td>4</td>\n",
       "      <td>1</td>\n",
       "      <td>17</td>\n",
       "      <td>1</td>\n",
       "      <td>13</td>\n",
       "      <td>1</td>\n",
       "      <td>9</td>\n",
       "      <td>11</td>\n",
       "    </tr>\n",
       "    <tr>\n",
       "      <th>3</th>\n",
       "      <td>199998</td>\n",
       "      <td>157770</td>\n",
       "      <td>1507029532200</td>\n",
       "      <td>4</td>\n",
       "      <td>1</td>\n",
       "      <td>17</td>\n",
       "      <td>1</td>\n",
       "      <td>25</td>\n",
       "      <td>5</td>\n",
       "      <td>40</td>\n",
       "      <td>40</td>\n",
       "    </tr>\n",
       "    <tr>\n",
       "      <th>4</th>\n",
       "      <td>199998</td>\n",
       "      <td>96613</td>\n",
       "      <td>1507029671831</td>\n",
       "      <td>4</td>\n",
       "      <td>1</td>\n",
       "      <td>17</td>\n",
       "      <td>1</td>\n",
       "      <td>25</td>\n",
       "      <td>5</td>\n",
       "      <td>39</td>\n",
       "      <td>40</td>\n",
       "    </tr>\n",
       "    <tr>\n",
       "      <th>...</th>\n",
       "      <td>...</td>\n",
       "      <td>...</td>\n",
       "      <td>...</td>\n",
       "      <td>...</td>\n",
       "      <td>...</td>\n",
       "      <td>...</td>\n",
       "      <td>...</td>\n",
       "      <td>...</td>\n",
       "      <td>...</td>\n",
       "      <td>...</td>\n",
       "      <td>...</td>\n",
       "    </tr>\n",
       "    <tr>\n",
       "      <th>1112618</th>\n",
       "      <td>33446</td>\n",
       "      <td>16346</td>\n",
       "      <td>1508212054157</td>\n",
       "      <td>4</td>\n",
       "      <td>3</td>\n",
       "      <td>2</td>\n",
       "      <td>1</td>\n",
       "      <td>25</td>\n",
       "      <td>1</td>\n",
       "      <td>1</td>\n",
       "      <td>4</td>\n",
       "    </tr>\n",
       "    <tr>\n",
       "      <th>1112619</th>\n",
       "      <td>0</td>\n",
       "      <td>30760</td>\n",
       "      <td>1508211672520</td>\n",
       "      <td>4</td>\n",
       "      <td>1</td>\n",
       "      <td>17</td>\n",
       "      <td>1</td>\n",
       "      <td>25</td>\n",
       "      <td>2</td>\n",
       "      <td>2</td>\n",
       "      <td>2</td>\n",
       "    </tr>\n",
       "    <tr>\n",
       "      <th>1112620</th>\n",
       "      <td>0</td>\n",
       "      <td>157507</td>\n",
       "      <td>1508211702520</td>\n",
       "      <td>4</td>\n",
       "      <td>1</td>\n",
       "      <td>17</td>\n",
       "      <td>1</td>\n",
       "      <td>25</td>\n",
       "      <td>2</td>\n",
       "      <td>1</td>\n",
       "      <td>2</td>\n",
       "    </tr>\n",
       "    <tr>\n",
       "      <th>1112621</th>\n",
       "      <td>199178</td>\n",
       "      <td>234481</td>\n",
       "      <td>1508211513583</td>\n",
       "      <td>4</td>\n",
       "      <td>3</td>\n",
       "      <td>2</td>\n",
       "      <td>1</td>\n",
       "      <td>25</td>\n",
       "      <td>2</td>\n",
       "      <td>2</td>\n",
       "      <td>14</td>\n",
       "    </tr>\n",
       "    <tr>\n",
       "      <th>1112622</th>\n",
       "      <td>199178</td>\n",
       "      <td>233578</td>\n",
       "      <td>1508211543583</td>\n",
       "      <td>4</td>\n",
       "      <td>3</td>\n",
       "      <td>2</td>\n",
       "      <td>1</td>\n",
       "      <td>25</td>\n",
       "      <td>2</td>\n",
       "      <td>1</td>\n",
       "      <td>14</td>\n",
       "    </tr>\n",
       "  </tbody>\n",
       "</table>\n",
       "<p>1112623 rows × 11 columns</p>\n",
       "</div>"
      ],
      "text/plain": [
       "              u       a             ts  env  device  os  country  region  \\\n",
       "0        199999  160417  1507029570190    4       1  17        1      13   \n",
       "1        199999    5408  1507029571478    4       1  17        1      13   \n",
       "2        199999   50823  1507029601478    4       1  17        1      13   \n",
       "3        199998  157770  1507029532200    4       1  17        1      25   \n",
       "4        199998   96613  1507029671831    4       1  17        1      25   \n",
       "...         ...     ...            ...  ...     ...  ..      ...     ...   \n",
       "1112618   33446   16346  1508212054157    4       3   2        1      25   \n",
       "1112619       0   30760  1508211672520    4       1  17        1      25   \n",
       "1112620       0  157507  1508211702520    4       1  17        1      25   \n",
       "1112621  199178  234481  1508211513583    4       3   2        1      25   \n",
       "1112622  199178  233578  1508211543583    4       3   2        1      25   \n",
       "\n",
       "         referrer  rank  nc  \n",
       "0               1    11  11  \n",
       "1               1    10  11  \n",
       "2               1     9  11  \n",
       "3               5    40  40  \n",
       "4               5    39  40  \n",
       "...           ...   ...  ..  \n",
       "1112618         1     1   4  \n",
       "1112619         2     2   2  \n",
       "1112620         2     1   2  \n",
       "1112621         2     2  14  \n",
       "1112622         2     1  14  \n",
       "\n",
       "[1112623 rows x 11 columns]"
      ]
     },
     "execution_count": 127,
     "metadata": {},
     "output_type": "execute_result"
    }
   ],
   "source": [
    "train['nc'] = train.groupby('u')['ts'].transform('count')\n",
    "test['nc'] = test.groupby('u')['ts'].transform('count')\n",
    "train"
   ]
  },
  {
   "cell_type": "code",
   "execution_count": 128,
   "id": "48815baf-60be-44bc-a7bd-6e8dc72ce0a3",
   "metadata": {},
   "outputs": [],
   "source": [
    "def assert_equal(df1, df2):\n",
    "    for c1, c2 in zip(df1.columns, df2.columns):\n",
    "        assert all(df1[c1] == df2[c2]), f'c1: {c1}, c2: {c2}'"
   ]
  },
  {
   "cell_type": "code",
   "execution_count": 129,
   "id": "a9e58a51-b8fc-44e8-8951-71a6dfddb3c7",
   "metadata": {},
   "outputs": [],
   "source": [
    "assert_equal(trn_click, train)"
   ]
  },
  {
   "cell_type": "code",
   "execution_count": 130,
   "id": "6dee27e4-a94c-4a8c-830b-9317f7719ff7",
   "metadata": {},
   "outputs": [],
   "source": [
    "assert_equal(tst_click, test)"
   ]
  },
  {
   "cell_type": "code",
   "execution_count": null,
   "id": "6d8c7fef-fe10-4973-8abb-f8fac978eda5",
   "metadata": {},
   "outputs": [],
   "source": []
  },
  {
   "cell_type": "markdown",
   "id": "c56f0ef1-534c-4921-946c-8aac97fb2c5f",
   "metadata": {},
   "source": [
    "# 数据浏览"
   ]
  },
  {
   "cell_type": "markdown",
   "id": "33d1987c-e71d-4d95-9f14-ccdc0d59d9c5",
   "metadata": {},
   "source": [
    "## 用户点击日志文件_训练集"
   ]
  },
  {
   "cell_type": "code",
   "execution_count": 5,
   "id": "390fb326-5023-419d-97dc-e3c6afe70a1c",
   "metadata": {},
   "outputs": [
    {
     "data": {
      "text/html": [
       "<div>\n",
       "<style scoped>\n",
       "    .dataframe tbody tr th:only-of-type {\n",
       "        vertical-align: middle;\n",
       "    }\n",
       "\n",
       "    .dataframe tbody tr th {\n",
       "        vertical-align: top;\n",
       "    }\n",
       "\n",
       "    .dataframe thead th {\n",
       "        text-align: right;\n",
       "    }\n",
       "</style>\n",
       "<table border=\"1\" class=\"dataframe\">\n",
       "  <thead>\n",
       "    <tr style=\"text-align: right;\">\n",
       "      <th></th>\n",
       "      <th>user_id</th>\n",
       "      <th>click_article_id</th>\n",
       "      <th>click_timestamp</th>\n",
       "      <th>click_environment</th>\n",
       "      <th>click_deviceGroup</th>\n",
       "      <th>click_os</th>\n",
       "      <th>click_country</th>\n",
       "      <th>click_region</th>\n",
       "      <th>click_referrer_type</th>\n",
       "      <th>rank</th>\n",
       "      <th>click_cnts</th>\n",
       "      <th>category_id</th>\n",
       "      <th>created_at_ts</th>\n",
       "      <th>words_count</th>\n",
       "    </tr>\n",
       "  </thead>\n",
       "  <tbody>\n",
       "    <tr>\n",
       "      <th>0</th>\n",
       "      <td>199999</td>\n",
       "      <td>160417</td>\n",
       "      <td>1507029570190</td>\n",
       "      <td>4</td>\n",
       "      <td>1</td>\n",
       "      <td>17</td>\n",
       "      <td>1</td>\n",
       "      <td>13</td>\n",
       "      <td>1</td>\n",
       "      <td>11</td>\n",
       "      <td>11</td>\n",
       "      <td>281</td>\n",
       "      <td>1506942089000</td>\n",
       "      <td>173</td>\n",
       "    </tr>\n",
       "    <tr>\n",
       "      <th>1</th>\n",
       "      <td>199999</td>\n",
       "      <td>5408</td>\n",
       "      <td>1507029571478</td>\n",
       "      <td>4</td>\n",
       "      <td>1</td>\n",
       "      <td>17</td>\n",
       "      <td>1</td>\n",
       "      <td>13</td>\n",
       "      <td>1</td>\n",
       "      <td>10</td>\n",
       "      <td>11</td>\n",
       "      <td>4</td>\n",
       "      <td>1506994257000</td>\n",
       "      <td>118</td>\n",
       "    </tr>\n",
       "    <tr>\n",
       "      <th>2</th>\n",
       "      <td>199999</td>\n",
       "      <td>50823</td>\n",
       "      <td>1507029601478</td>\n",
       "      <td>4</td>\n",
       "      <td>1</td>\n",
       "      <td>17</td>\n",
       "      <td>1</td>\n",
       "      <td>13</td>\n",
       "      <td>1</td>\n",
       "      <td>9</td>\n",
       "      <td>11</td>\n",
       "      <td>99</td>\n",
       "      <td>1507013614000</td>\n",
       "      <td>213</td>\n",
       "    </tr>\n",
       "    <tr>\n",
       "      <th>3</th>\n",
       "      <td>199998</td>\n",
       "      <td>157770</td>\n",
       "      <td>1507029532200</td>\n",
       "      <td>4</td>\n",
       "      <td>1</td>\n",
       "      <td>17</td>\n",
       "      <td>1</td>\n",
       "      <td>25</td>\n",
       "      <td>5</td>\n",
       "      <td>40</td>\n",
       "      <td>40</td>\n",
       "      <td>281</td>\n",
       "      <td>1506983935000</td>\n",
       "      <td>201</td>\n",
       "    </tr>\n",
       "    <tr>\n",
       "      <th>4</th>\n",
       "      <td>199998</td>\n",
       "      <td>96613</td>\n",
       "      <td>1507029671831</td>\n",
       "      <td>4</td>\n",
       "      <td>1</td>\n",
       "      <td>17</td>\n",
       "      <td>1</td>\n",
       "      <td>25</td>\n",
       "      <td>5</td>\n",
       "      <td>39</td>\n",
       "      <td>40</td>\n",
       "      <td>209</td>\n",
       "      <td>1506938444000</td>\n",
       "      <td>185</td>\n",
       "    </tr>\n",
       "  </tbody>\n",
       "</table>\n",
       "</div>"
      ],
      "text/plain": [
       "   user_id  click_article_id  click_timestamp  click_environment  \\\n",
       "0   199999            160417    1507029570190                  4   \n",
       "1   199999              5408    1507029571478                  4   \n",
       "2   199999             50823    1507029601478                  4   \n",
       "3   199998            157770    1507029532200                  4   \n",
       "4   199998             96613    1507029671831                  4   \n",
       "\n",
       "   click_deviceGroup  click_os  click_country  click_region  \\\n",
       "0                  1        17              1            13   \n",
       "1                  1        17              1            13   \n",
       "2                  1        17              1            13   \n",
       "3                  1        17              1            25   \n",
       "4                  1        17              1            25   \n",
       "\n",
       "   click_referrer_type  rank  click_cnts  category_id  created_at_ts  \\\n",
       "0                    1    11          11          281  1506942089000   \n",
       "1                    1    10          11            4  1506994257000   \n",
       "2                    1     9          11           99  1507013614000   \n",
       "3                    5    40          40          281  1506983935000   \n",
       "4                    5    39          40          209  1506938444000   \n",
       "\n",
       "   words_count  \n",
       "0          173  \n",
       "1          118  \n",
       "2          213  \n",
       "3          201  \n",
       "4          185  "
      ]
     },
     "execution_count": 5,
     "metadata": {},
     "output_type": "execute_result"
    }
   ],
   "source": [
    "trn_click = trn_click.merge(item_df, how='left', on=['click_article_id'])\n",
    "trn_click.head()\n"
   ]
  },
  {
   "cell_type": "code",
   "execution_count": 133,
   "id": "c5e38efc-2246-453f-a0ad-56c830bd2c89",
   "metadata": {},
   "outputs": [],
   "source": [
    "assert_equal(trn_click, train.merge(a, how='left', on='a'))"
   ]
  },
  {
   "cell_type": "code",
   "execution_count": 134,
   "id": "619050ac-a4f5-4291-9827-0a775d11c14c",
   "metadata": {},
   "outputs": [
    {
     "data": {
      "text/html": [
       "<div>\n",
       "<style scoped>\n",
       "    .dataframe tbody tr th:only-of-type {\n",
       "        vertical-align: middle;\n",
       "    }\n",
       "\n",
       "    .dataframe tbody tr th {\n",
       "        vertical-align: top;\n",
       "    }\n",
       "\n",
       "    .dataframe thead th {\n",
       "        text-align: right;\n",
       "    }\n",
       "</style>\n",
       "<table border=\"1\" class=\"dataframe\">\n",
       "  <thead>\n",
       "    <tr style=\"text-align: right;\">\n",
       "      <th></th>\n",
       "      <th>u</th>\n",
       "      <th>a</th>\n",
       "      <th>ts</th>\n",
       "      <th>env</th>\n",
       "      <th>device</th>\n",
       "      <th>os</th>\n",
       "      <th>country</th>\n",
       "      <th>region</th>\n",
       "      <th>referrer</th>\n",
       "      <th>rank</th>\n",
       "      <th>nc</th>\n",
       "      <th>c</th>\n",
       "      <th>ts_created</th>\n",
       "      <th>w_cnt</th>\n",
       "    </tr>\n",
       "  </thead>\n",
       "  <tbody>\n",
       "    <tr>\n",
       "      <th>0</th>\n",
       "      <td>199999</td>\n",
       "      <td>160417</td>\n",
       "      <td>1507029570190</td>\n",
       "      <td>4</td>\n",
       "      <td>1</td>\n",
       "      <td>17</td>\n",
       "      <td>1</td>\n",
       "      <td>13</td>\n",
       "      <td>1</td>\n",
       "      <td>11</td>\n",
       "      <td>11</td>\n",
       "      <td>281</td>\n",
       "      <td>1506942089000</td>\n",
       "      <td>173</td>\n",
       "    </tr>\n",
       "    <tr>\n",
       "      <th>1</th>\n",
       "      <td>199999</td>\n",
       "      <td>5408</td>\n",
       "      <td>1507029571478</td>\n",
       "      <td>4</td>\n",
       "      <td>1</td>\n",
       "      <td>17</td>\n",
       "      <td>1</td>\n",
       "      <td>13</td>\n",
       "      <td>1</td>\n",
       "      <td>10</td>\n",
       "      <td>11</td>\n",
       "      <td>4</td>\n",
       "      <td>1506994257000</td>\n",
       "      <td>118</td>\n",
       "    </tr>\n",
       "    <tr>\n",
       "      <th>2</th>\n",
       "      <td>199999</td>\n",
       "      <td>50823</td>\n",
       "      <td>1507029601478</td>\n",
       "      <td>4</td>\n",
       "      <td>1</td>\n",
       "      <td>17</td>\n",
       "      <td>1</td>\n",
       "      <td>13</td>\n",
       "      <td>1</td>\n",
       "      <td>9</td>\n",
       "      <td>11</td>\n",
       "      <td>99</td>\n",
       "      <td>1507013614000</td>\n",
       "      <td>213</td>\n",
       "    </tr>\n",
       "    <tr>\n",
       "      <th>3</th>\n",
       "      <td>199998</td>\n",
       "      <td>157770</td>\n",
       "      <td>1507029532200</td>\n",
       "      <td>4</td>\n",
       "      <td>1</td>\n",
       "      <td>17</td>\n",
       "      <td>1</td>\n",
       "      <td>25</td>\n",
       "      <td>5</td>\n",
       "      <td>40</td>\n",
       "      <td>40</td>\n",
       "      <td>281</td>\n",
       "      <td>1506983935000</td>\n",
       "      <td>201</td>\n",
       "    </tr>\n",
       "    <tr>\n",
       "      <th>4</th>\n",
       "      <td>199998</td>\n",
       "      <td>96613</td>\n",
       "      <td>1507029671831</td>\n",
       "      <td>4</td>\n",
       "      <td>1</td>\n",
       "      <td>17</td>\n",
       "      <td>1</td>\n",
       "      <td>25</td>\n",
       "      <td>5</td>\n",
       "      <td>39</td>\n",
       "      <td>40</td>\n",
       "      <td>209</td>\n",
       "      <td>1506938444000</td>\n",
       "      <td>185</td>\n",
       "    </tr>\n",
       "    <tr>\n",
       "      <th>...</th>\n",
       "      <td>...</td>\n",
       "      <td>...</td>\n",
       "      <td>...</td>\n",
       "      <td>...</td>\n",
       "      <td>...</td>\n",
       "      <td>...</td>\n",
       "      <td>...</td>\n",
       "      <td>...</td>\n",
       "      <td>...</td>\n",
       "      <td>...</td>\n",
       "      <td>...</td>\n",
       "      <td>...</td>\n",
       "      <td>...</td>\n",
       "      <td>...</td>\n",
       "    </tr>\n",
       "    <tr>\n",
       "      <th>1112618</th>\n",
       "      <td>33446</td>\n",
       "      <td>16346</td>\n",
       "      <td>1508212054157</td>\n",
       "      <td>4</td>\n",
       "      <td>3</td>\n",
       "      <td>2</td>\n",
       "      <td>1</td>\n",
       "      <td>25</td>\n",
       "      <td>1</td>\n",
       "      <td>1</td>\n",
       "      <td>4</td>\n",
       "      <td>7</td>\n",
       "      <td>1508181832000</td>\n",
       "      <td>215</td>\n",
       "    </tr>\n",
       "    <tr>\n",
       "      <th>1112619</th>\n",
       "      <td>0</td>\n",
       "      <td>30760</td>\n",
       "      <td>1508211672520</td>\n",
       "      <td>4</td>\n",
       "      <td>1</td>\n",
       "      <td>17</td>\n",
       "      <td>1</td>\n",
       "      <td>25</td>\n",
       "      <td>2</td>\n",
       "      <td>2</td>\n",
       "      <td>2</td>\n",
       "      <td>26</td>\n",
       "      <td>1508185091000</td>\n",
       "      <td>162</td>\n",
       "    </tr>\n",
       "    <tr>\n",
       "      <th>1112620</th>\n",
       "      <td>0</td>\n",
       "      <td>157507</td>\n",
       "      <td>1508211702520</td>\n",
       "      <td>4</td>\n",
       "      <td>1</td>\n",
       "      <td>17</td>\n",
       "      <td>1</td>\n",
       "      <td>25</td>\n",
       "      <td>2</td>\n",
       "      <td>1</td>\n",
       "      <td>2</td>\n",
       "      <td>281</td>\n",
       "      <td>1508236945000</td>\n",
       "      <td>370</td>\n",
       "    </tr>\n",
       "    <tr>\n",
       "      <th>1112621</th>\n",
       "      <td>199178</td>\n",
       "      <td>234481</td>\n",
       "      <td>1508211513583</td>\n",
       "      <td>4</td>\n",
       "      <td>3</td>\n",
       "      <td>2</td>\n",
       "      <td>1</td>\n",
       "      <td>25</td>\n",
       "      <td>2</td>\n",
       "      <td>2</td>\n",
       "      <td>14</td>\n",
       "      <td>375</td>\n",
       "      <td>1508181572000</td>\n",
       "      <td>212</td>\n",
       "    </tr>\n",
       "    <tr>\n",
       "      <th>1112622</th>\n",
       "      <td>199178</td>\n",
       "      <td>233578</td>\n",
       "      <td>1508211543583</td>\n",
       "      <td>4</td>\n",
       "      <td>3</td>\n",
       "      <td>2</td>\n",
       "      <td>1</td>\n",
       "      <td>25</td>\n",
       "      <td>2</td>\n",
       "      <td>1</td>\n",
       "      <td>14</td>\n",
       "      <td>375</td>\n",
       "      <td>1508176010000</td>\n",
       "      <td>174</td>\n",
       "    </tr>\n",
       "  </tbody>\n",
       "</table>\n",
       "<p>1112623 rows × 14 columns</p>\n",
       "</div>"
      ],
      "text/plain": [
       "              u       a             ts  env  device  os  country  region  \\\n",
       "0        199999  160417  1507029570190    4       1  17        1      13   \n",
       "1        199999    5408  1507029571478    4       1  17        1      13   \n",
       "2        199999   50823  1507029601478    4       1  17        1      13   \n",
       "3        199998  157770  1507029532200    4       1  17        1      25   \n",
       "4        199998   96613  1507029671831    4       1  17        1      25   \n",
       "...         ...     ...            ...  ...     ...  ..      ...     ...   \n",
       "1112618   33446   16346  1508212054157    4       3   2        1      25   \n",
       "1112619       0   30760  1508211672520    4       1  17        1      25   \n",
       "1112620       0  157507  1508211702520    4       1  17        1      25   \n",
       "1112621  199178  234481  1508211513583    4       3   2        1      25   \n",
       "1112622  199178  233578  1508211543583    4       3   2        1      25   \n",
       "\n",
       "         referrer  rank  nc    c     ts_created  w_cnt  \n",
       "0               1    11  11  281  1506942089000    173  \n",
       "1               1    10  11    4  1506994257000    118  \n",
       "2               1     9  11   99  1507013614000    213  \n",
       "3               5    40  40  281  1506983935000    201  \n",
       "4               5    39  40  209  1506938444000    185  \n",
       "...           ...   ...  ..  ...            ...    ...  \n",
       "1112618         1     1   4    7  1508181832000    215  \n",
       "1112619         2     2   2   26  1508185091000    162  \n",
       "1112620         2     1   2  281  1508236945000    370  \n",
       "1112621         2     2  14  375  1508181572000    212  \n",
       "1112622         2     1  14  375  1508176010000    174  \n",
       "\n",
       "[1112623 rows x 14 columns]"
      ]
     },
     "execution_count": 134,
     "metadata": {},
     "output_type": "execute_result"
    }
   ],
   "source": [
    "train = train.merge(a, how='left', on='a')\n",
    "train"
   ]
  },
  {
   "cell_type": "code",
   "execution_count": 136,
   "id": "1c3278a7-ea40-4618-999d-a6b3b294c8cf",
   "metadata": {},
   "outputs": [
    {
     "name": "stdout",
     "output_type": "stream",
     "text": [
      "<class 'pandas.core.frame.DataFrame'>\n",
      "RangeIndex: 1112623 entries, 0 to 1112622\n",
      "Data columns (total 11 columns):\n",
      " #   Column               Non-Null Count    Dtype\n",
      "---  ------               --------------    -----\n",
      " 0   user_id              1112623 non-null  int64\n",
      " 1   click_article_id     1112623 non-null  int64\n",
      " 2   click_timestamp      1112623 non-null  int64\n",
      " 3   click_environment    1112623 non-null  int64\n",
      " 4   click_deviceGroup    1112623 non-null  int64\n",
      " 5   click_os             1112623 non-null  int64\n",
      " 6   click_country        1112623 non-null  int64\n",
      " 7   click_region         1112623 non-null  int64\n",
      " 8   click_referrer_type  1112623 non-null  int64\n",
      " 9   rank                 1112623 non-null  int64\n",
      " 10  click_cnts           1112623 non-null  int64\n",
      "dtypes: int64(11)\n",
      "memory usage: 93.4 MB\n"
     ]
    }
   ],
   "source": [
    "#用户点击日志信息\n",
    "trn_click.info()\n"
   ]
  },
  {
   "cell_type": "code",
   "execution_count": 7,
   "id": "52704068-4132-4299-a224-d7908a81ee3f",
   "metadata": {},
   "outputs": [
    {
     "data": {
      "text/html": [
       "<div>\n",
       "<style scoped>\n",
       "    .dataframe tbody tr th:only-of-type {\n",
       "        vertical-align: middle;\n",
       "    }\n",
       "\n",
       "    .dataframe tbody tr th {\n",
       "        vertical-align: top;\n",
       "    }\n",
       "\n",
       "    .dataframe thead th {\n",
       "        text-align: right;\n",
       "    }\n",
       "</style>\n",
       "<table border=\"1\" class=\"dataframe\">\n",
       "  <thead>\n",
       "    <tr style=\"text-align: right;\">\n",
       "      <th></th>\n",
       "      <th>user_id</th>\n",
       "      <th>click_article_id</th>\n",
       "      <th>click_timestamp</th>\n",
       "      <th>click_environment</th>\n",
       "      <th>click_deviceGroup</th>\n",
       "      <th>click_os</th>\n",
       "      <th>click_country</th>\n",
       "      <th>click_region</th>\n",
       "      <th>click_referrer_type</th>\n",
       "      <th>rank</th>\n",
       "      <th>click_cnts</th>\n",
       "      <th>category_id</th>\n",
       "      <th>created_at_ts</th>\n",
       "      <th>words_count</th>\n",
       "    </tr>\n",
       "  </thead>\n",
       "  <tbody>\n",
       "    <tr>\n",
       "      <th>count</th>\n",
       "      <td>1.112623e+06</td>\n",
       "      <td>1.112623e+06</td>\n",
       "      <td>1.112623e+06</td>\n",
       "      <td>1.112623e+06</td>\n",
       "      <td>1.112623e+06</td>\n",
       "      <td>1.112623e+06</td>\n",
       "      <td>1.112623e+06</td>\n",
       "      <td>1.112623e+06</td>\n",
       "      <td>1.112623e+06</td>\n",
       "      <td>1.112623e+06</td>\n",
       "      <td>1.112623e+06</td>\n",
       "      <td>1.112623e+06</td>\n",
       "      <td>1.112623e+06</td>\n",
       "      <td>1.112623e+06</td>\n",
       "    </tr>\n",
       "    <tr>\n",
       "      <th>mean</th>\n",
       "      <td>1.221198e+05</td>\n",
       "      <td>1.951541e+05</td>\n",
       "      <td>1.507588e+12</td>\n",
       "      <td>3.947786e+00</td>\n",
       "      <td>1.815981e+00</td>\n",
       "      <td>1.301976e+01</td>\n",
       "      <td>1.310776e+00</td>\n",
       "      <td>1.813587e+01</td>\n",
       "      <td>1.910063e+00</td>\n",
       "      <td>7.118518e+00</td>\n",
       "      <td>1.323704e+01</td>\n",
       "      <td>3.056176e+02</td>\n",
       "      <td>1.506598e+12</td>\n",
       "      <td>2.011981e+02</td>\n",
       "    </tr>\n",
       "    <tr>\n",
       "      <th>std</th>\n",
       "      <td>5.540349e+04</td>\n",
       "      <td>9.292286e+04</td>\n",
       "      <td>3.363466e+08</td>\n",
       "      <td>3.276715e-01</td>\n",
       "      <td>1.035170e+00</td>\n",
       "      <td>6.967844e+00</td>\n",
       "      <td>1.618264e+00</td>\n",
       "      <td>7.105832e+00</td>\n",
       "      <td>1.220012e+00</td>\n",
       "      <td>1.016095e+01</td>\n",
       "      <td>1.631503e+01</td>\n",
       "      <td>1.155791e+02</td>\n",
       "      <td>8.343066e+09</td>\n",
       "      <td>5.223881e+01</td>\n",
       "    </tr>\n",
       "    <tr>\n",
       "      <th>min</th>\n",
       "      <td>0.000000e+00</td>\n",
       "      <td>3.000000e+00</td>\n",
       "      <td>1.507030e+12</td>\n",
       "      <td>1.000000e+00</td>\n",
       "      <td>1.000000e+00</td>\n",
       "      <td>2.000000e+00</td>\n",
       "      <td>1.000000e+00</td>\n",
       "      <td>1.000000e+00</td>\n",
       "      <td>1.000000e+00</td>\n",
       "      <td>1.000000e+00</td>\n",
       "      <td>2.000000e+00</td>\n",
       "      <td>1.000000e+00</td>\n",
       "      <td>1.166573e+12</td>\n",
       "      <td>0.000000e+00</td>\n",
       "    </tr>\n",
       "    <tr>\n",
       "      <th>25%</th>\n",
       "      <td>7.934700e+04</td>\n",
       "      <td>1.239090e+05</td>\n",
       "      <td>1.507297e+12</td>\n",
       "      <td>4.000000e+00</td>\n",
       "      <td>1.000000e+00</td>\n",
       "      <td>2.000000e+00</td>\n",
       "      <td>1.000000e+00</td>\n",
       "      <td>1.300000e+01</td>\n",
       "      <td>1.000000e+00</td>\n",
       "      <td>2.000000e+00</td>\n",
       "      <td>4.000000e+00</td>\n",
       "      <td>2.500000e+02</td>\n",
       "      <td>1.507220e+12</td>\n",
       "      <td>1.700000e+02</td>\n",
       "    </tr>\n",
       "    <tr>\n",
       "      <th>50%</th>\n",
       "      <td>1.309670e+05</td>\n",
       "      <td>2.038900e+05</td>\n",
       "      <td>1.507596e+12</td>\n",
       "      <td>4.000000e+00</td>\n",
       "      <td>1.000000e+00</td>\n",
       "      <td>1.700000e+01</td>\n",
       "      <td>1.000000e+00</td>\n",
       "      <td>2.100000e+01</td>\n",
       "      <td>2.000000e+00</td>\n",
       "      <td>4.000000e+00</td>\n",
       "      <td>8.000000e+00</td>\n",
       "      <td>3.280000e+02</td>\n",
       "      <td>1.507553e+12</td>\n",
       "      <td>1.970000e+02</td>\n",
       "    </tr>\n",
       "    <tr>\n",
       "      <th>75%</th>\n",
       "      <td>1.704010e+05</td>\n",
       "      <td>2.777120e+05</td>\n",
       "      <td>1.507841e+12</td>\n",
       "      <td>4.000000e+00</td>\n",
       "      <td>3.000000e+00</td>\n",
       "      <td>1.700000e+01</td>\n",
       "      <td>1.000000e+00</td>\n",
       "      <td>2.500000e+01</td>\n",
       "      <td>2.000000e+00</td>\n",
       "      <td>8.000000e+00</td>\n",
       "      <td>1.600000e+01</td>\n",
       "      <td>4.100000e+02</td>\n",
       "      <td>1.507756e+12</td>\n",
       "      <td>2.280000e+02</td>\n",
       "    </tr>\n",
       "    <tr>\n",
       "      <th>max</th>\n",
       "      <td>1.999990e+05</td>\n",
       "      <td>3.640460e+05</td>\n",
       "      <td>1.510603e+12</td>\n",
       "      <td>4.000000e+00</td>\n",
       "      <td>5.000000e+00</td>\n",
       "      <td>2.000000e+01</td>\n",
       "      <td>1.100000e+01</td>\n",
       "      <td>2.800000e+01</td>\n",
       "      <td>7.000000e+00</td>\n",
       "      <td>2.410000e+02</td>\n",
       "      <td>2.410000e+02</td>\n",
       "      <td>4.600000e+02</td>\n",
       "      <td>1.510666e+12</td>\n",
       "      <td>6.690000e+03</td>\n",
       "    </tr>\n",
       "  </tbody>\n",
       "</table>\n",
       "</div>"
      ],
      "text/plain": [
       "            user_id  click_article_id  click_timestamp  click_environment  \\\n",
       "count  1.112623e+06      1.112623e+06     1.112623e+06       1.112623e+06   \n",
       "mean   1.221198e+05      1.951541e+05     1.507588e+12       3.947786e+00   \n",
       "std    5.540349e+04      9.292286e+04     3.363466e+08       3.276715e-01   \n",
       "min    0.000000e+00      3.000000e+00     1.507030e+12       1.000000e+00   \n",
       "25%    7.934700e+04      1.239090e+05     1.507297e+12       4.000000e+00   \n",
       "50%    1.309670e+05      2.038900e+05     1.507596e+12       4.000000e+00   \n",
       "75%    1.704010e+05      2.777120e+05     1.507841e+12       4.000000e+00   \n",
       "max    1.999990e+05      3.640460e+05     1.510603e+12       4.000000e+00   \n",
       "\n",
       "       click_deviceGroup      click_os  click_country  click_region  \\\n",
       "count       1.112623e+06  1.112623e+06   1.112623e+06  1.112623e+06   \n",
       "mean        1.815981e+00  1.301976e+01   1.310776e+00  1.813587e+01   \n",
       "std         1.035170e+00  6.967844e+00   1.618264e+00  7.105832e+00   \n",
       "min         1.000000e+00  2.000000e+00   1.000000e+00  1.000000e+00   \n",
       "25%         1.000000e+00  2.000000e+00   1.000000e+00  1.300000e+01   \n",
       "50%         1.000000e+00  1.700000e+01   1.000000e+00  2.100000e+01   \n",
       "75%         3.000000e+00  1.700000e+01   1.000000e+00  2.500000e+01   \n",
       "max         5.000000e+00  2.000000e+01   1.100000e+01  2.800000e+01   \n",
       "\n",
       "       click_referrer_type          rank    click_cnts   category_id  \\\n",
       "count         1.112623e+06  1.112623e+06  1.112623e+06  1.112623e+06   \n",
       "mean          1.910063e+00  7.118518e+00  1.323704e+01  3.056176e+02   \n",
       "std           1.220012e+00  1.016095e+01  1.631503e+01  1.155791e+02   \n",
       "min           1.000000e+00  1.000000e+00  2.000000e+00  1.000000e+00   \n",
       "25%           1.000000e+00  2.000000e+00  4.000000e+00  2.500000e+02   \n",
       "50%           2.000000e+00  4.000000e+00  8.000000e+00  3.280000e+02   \n",
       "75%           2.000000e+00  8.000000e+00  1.600000e+01  4.100000e+02   \n",
       "max           7.000000e+00  2.410000e+02  2.410000e+02  4.600000e+02   \n",
       "\n",
       "       created_at_ts   words_count  \n",
       "count   1.112623e+06  1.112623e+06  \n",
       "mean    1.506598e+12  2.011981e+02  \n",
       "std     8.343066e+09  5.223881e+01  \n",
       "min     1.166573e+12  0.000000e+00  \n",
       "25%     1.507220e+12  1.700000e+02  \n",
       "50%     1.507553e+12  1.970000e+02  \n",
       "75%     1.507756e+12  2.280000e+02  \n",
       "max     1.510666e+12  6.690000e+03  "
      ]
     },
     "execution_count": 7,
     "metadata": {},
     "output_type": "execute_result"
    }
   ],
   "source": [
    "trn_click.describe()\n"
   ]
  },
  {
   "cell_type": "code",
   "execution_count": 137,
   "id": "571df080-363f-423e-b4e1-d8e3673796fb",
   "metadata": {},
   "outputs": [
    {
     "data": {
      "text/plain": [
       "200000"
      ]
     },
     "execution_count": 137,
     "metadata": {},
     "output_type": "execute_result"
    }
   ],
   "source": [
    "#训练集中的用户数量为20w\n",
    "trn_click.user_id.nunique()\n"
   ]
  },
  {
   "cell_type": "code",
   "execution_count": 138,
   "id": "0db52be3-c9ac-4810-a39a-f7adf7e97340",
   "metadata": {},
   "outputs": [
    {
     "data": {
      "text/plain": [
       "2"
      ]
     },
     "execution_count": 138,
     "metadata": {},
     "output_type": "execute_result"
    }
   ],
   "source": [
    "trn_click.groupby('user_id')['click_article_id'].count().min()  # 训练集里面每个用户至少点击了两篇文章\n"
   ]
  },
  {
   "cell_type": "markdown",
   "id": "aab7eed4-737f-4718-b221-673b80c91ec6",
   "metadata": {},
   "source": [
    "self"
   ]
  },
  {
   "cell_type": "code",
   "execution_count": 141,
   "id": "13efd98a-8beb-4385-93bf-70732d760744",
   "metadata": {},
   "outputs": [
    {
     "data": {
      "text/html": [
       "<div>\n",
       "<style scoped>\n",
       "    .dataframe tbody tr th:only-of-type {\n",
       "        vertical-align: middle;\n",
       "    }\n",
       "\n",
       "    .dataframe tbody tr th {\n",
       "        vertical-align: top;\n",
       "    }\n",
       "\n",
       "    .dataframe thead th {\n",
       "        text-align: right;\n",
       "    }\n",
       "</style>\n",
       "<table border=\"1\" class=\"dataframe\">\n",
       "  <thead>\n",
       "    <tr style=\"text-align: right;\">\n",
       "      <th></th>\n",
       "      <th>index</th>\n",
       "      <th>a</th>\n",
       "    </tr>\n",
       "  </thead>\n",
       "  <tbody>\n",
       "    <tr>\n",
       "      <th>0</th>\n",
       "      <td>234698</td>\n",
       "      <td>11886</td>\n",
       "    </tr>\n",
       "    <tr>\n",
       "      <th>1</th>\n",
       "      <td>123909</td>\n",
       "      <td>11438</td>\n",
       "    </tr>\n",
       "    <tr>\n",
       "      <th>2</th>\n",
       "      <td>336221</td>\n",
       "      <td>11290</td>\n",
       "    </tr>\n",
       "    <tr>\n",
       "      <th>3</th>\n",
       "      <td>96210</td>\n",
       "      <td>11146</td>\n",
       "    </tr>\n",
       "    <tr>\n",
       "      <th>4</th>\n",
       "      <td>183176</td>\n",
       "      <td>10487</td>\n",
       "    </tr>\n",
       "    <tr>\n",
       "      <th>5</th>\n",
       "      <td>336223</td>\n",
       "      <td>10186</td>\n",
       "    </tr>\n",
       "    <tr>\n",
       "      <th>6</th>\n",
       "      <td>168623</td>\n",
       "      <td>9882</td>\n",
       "    </tr>\n",
       "    <tr>\n",
       "      <th>7</th>\n",
       "      <td>331116</td>\n",
       "      <td>9369</td>\n",
       "    </tr>\n",
       "    <tr>\n",
       "      <th>8</th>\n",
       "      <td>336245</td>\n",
       "      <td>7851</td>\n",
       "    </tr>\n",
       "    <tr>\n",
       "      <th>9</th>\n",
       "      <td>124749</td>\n",
       "      <td>7264</td>\n",
       "    </tr>\n",
       "  </tbody>\n",
       "</table>\n",
       "</div>"
      ],
      "text/plain": [
       "    index      a\n",
       "0  234698  11886\n",
       "1  123909  11438\n",
       "2  336221  11290\n",
       "3   96210  11146\n",
       "4  183176  10487\n",
       "5  336223  10186\n",
       "6  168623   9882\n",
       "7  331116   9369\n",
       "8  336245   7851\n",
       "9  124749   7264"
      ]
     },
     "execution_count": 141,
     "metadata": {},
     "output_type": "execute_result"
    }
   ],
   "source": []
  },
  {
   "cell_type": "code",
   "execution_count": 144,
   "id": "38b05f01-f3dd-4439-a82b-c415dae9ba84",
   "metadata": {},
   "outputs": [
    {
     "data": {
      "text/html": [
       "\n",
       "<div id=\"altair-viz-545e103041044dce9a6e2937aeb39d85\"></div>\n",
       "<script type=\"text/javascript\">\n",
       "  var VEGA_DEBUG = (typeof VEGA_DEBUG == \"undefined\") ? {} : VEGA_DEBUG;\n",
       "  (function(spec, embedOpt){\n",
       "    let outputDiv = document.currentScript.previousElementSibling;\n",
       "    if (outputDiv.id !== \"altair-viz-545e103041044dce9a6e2937aeb39d85\") {\n",
       "      outputDiv = document.getElementById(\"altair-viz-545e103041044dce9a6e2937aeb39d85\");\n",
       "    }\n",
       "    const paths = {\n",
       "      \"vega\": \"https://cdn.jsdelivr.net/npm//vega@5?noext\",\n",
       "      \"vega-lib\": \"https://cdn.jsdelivr.net/npm//vega-lib?noext\",\n",
       "      \"vega-lite\": \"https://cdn.jsdelivr.net/npm//vega-lite@4.17.0?noext\",\n",
       "      \"vega-embed\": \"https://cdn.jsdelivr.net/npm//vega-embed@6?noext\",\n",
       "    };\n",
       "\n",
       "    function maybeLoadScript(lib, version) {\n",
       "      var key = `${lib.replace(\"-\", \"\")}_version`;\n",
       "      return (VEGA_DEBUG[key] == version) ?\n",
       "        Promise.resolve(paths[lib]) :\n",
       "        new Promise(function(resolve, reject) {\n",
       "          var s = document.createElement('script');\n",
       "          document.getElementsByTagName(\"head\")[0].appendChild(s);\n",
       "          s.async = true;\n",
       "          s.onload = () => {\n",
       "            VEGA_DEBUG[key] = version;\n",
       "            return resolve(paths[lib]);\n",
       "          };\n",
       "          s.onerror = () => reject(`Error loading script: ${paths[lib]}`);\n",
       "          s.src = paths[lib];\n",
       "        });\n",
       "    }\n",
       "\n",
       "    function showError(err) {\n",
       "      outputDiv.innerHTML = `<div class=\"error\" style=\"color:red;\">${err}</div>`;\n",
       "      throw err;\n",
       "    }\n",
       "\n",
       "    function displayChart(vegaEmbed) {\n",
       "      vegaEmbed(outputDiv, spec, embedOpt)\n",
       "        .catch(err => showError(`Javascript Error: ${err.message}<br>This usually means there's a typo in your chart specification. See the javascript console for the full traceback.`));\n",
       "    }\n",
       "\n",
       "    if(typeof define === \"function\" && define.amd) {\n",
       "      requirejs.config({paths});\n",
       "      require([\"vega-embed\"], displayChart, err => showError(`Error loading script: ${err.message}`));\n",
       "    } else {\n",
       "      maybeLoadScript(\"vega\", \"5\")\n",
       "        .then(() => maybeLoadScript(\"vega-lite\", \"4.17.0\"))\n",
       "        .then(() => maybeLoadScript(\"vega-embed\", \"6\"))\n",
       "        .catch(showError)\n",
       "        .then(() => displayChart(vegaEmbed));\n",
       "    }\n",
       "  })({\"config\": {\"view\": {\"continuousWidth\": 400, \"continuousHeight\": 300}}, \"data\": {\"name\": \"data-7bd875e46c83818da31bca0b51d6bda7\"}, \"mark\": \"bar\", \"encoding\": {\"x\": {\"field\": \"index\", \"type\": \"ordinal\"}, \"y\": {\"field\": \"a\", \"type\": \"quantitative\"}}, \"$schema\": \"https://vega.github.io/schema/vega-lite/v4.17.0.json\", \"datasets\": {\"data-7bd875e46c83818da31bca0b51d6bda7\": [{\"index\": 234698, \"a\": 11886}, {\"index\": 123909, \"a\": 11438}, {\"index\": 336221, \"a\": 11290}, {\"index\": 96210, \"a\": 11146}, {\"index\": 183176, \"a\": 10487}, {\"index\": 336223, \"a\": 10186}, {\"index\": 168623, \"a\": 9882}, {\"index\": 331116, \"a\": 9369}, {\"index\": 336245, \"a\": 7851}, {\"index\": 124749, \"a\": 7264}]}}, {\"mode\": \"vega-lite\"});\n",
       "</script>"
      ],
      "text/plain": [
       "alt.Chart(...)"
      ]
     },
     "execution_count": 144,
     "metadata": {},
     "output_type": "execute_result"
    }
   ],
   "source": [
    "d = train.a.value_counts()[:10].reset_index()\n",
    "\n",
    "alt.Chart(d).mark_bar().encode(\n",
    "    x='index:O',\n",
    "    y='a:Q'\n",
    ")"
   ]
  },
  {
   "cell_type": "code",
   "execution_count": 10,
   "id": "51626e81-aa38-4f2d-b237-ebf0ed1fd44b",
   "metadata": {},
   "outputs": [
    {
     "name": "stderr",
     "output_type": "stream",
     "text": [
      "findfont: Font family ['SimHei'] not found. Falling back to DejaVu Sans.\n",
      "findfont: Font family ['SimHei'] not found. Falling back to DejaVu Sans.\n"
     ]
    },
    {
     "data": {
      "text/plain": [
       "<Figure size 432x288 with 0 Axes>"
      ]
     },
     "metadata": {},
     "output_type": "display_data"
    },
    {
     "data": {
      "image/png": "[encoded data removed]",
      "text/plain": [
       "<Figure size 1080x1440 with 10 Axes>"
      ]
     },
     "metadata": {
      "needs_background": "light"
     },
     "output_type": "display_data"
    }
   ],
   "source": [
    "plt.figure()\n",
    "plt.figure(figsize=(15, 20))\n",
    "i = 1\n",
    "for col in ['click_article_id', 'click_timestamp', 'click_environment', \n",
    "            'click_deviceGroup', 'click_os', 'click_country', \n",
    "            'click_region', 'click_referrer_type', 'rank', 'click_cnts']:\n",
    "    plot_envs = plt.subplot(5, 2, i)\n",
    "    i += 1\n",
    "    v = trn_click[col].value_counts().reset_index()[:10]\n",
    "    fig = sns.barplot(x=v['index'], y=v[col])\n",
    "    for item in fig.get_xticklabels():\n",
    "        item.set_rotation(90)\n",
    "    plt.title(col)\n",
    "plt.tight_layout()\n",
    "plt.show()\n"
   ]
  },
  {
   "cell_type": "markdown",
   "id": "74fd29bc-190f-4803-8206-32a1a1718580",
   "metadata": {},
   "source": [
    "## 测试集用户点击日志"
   ]
  },
  {
   "cell_type": "code",
   "execution_count": 145,
   "id": "39a7c8d5-26ba-4d4a-80a2-8ac6560b1565",
   "metadata": {},
   "outputs": [
    {
     "data": {
      "text/html": [
       "<div>\n",
       "<style scoped>\n",
       "    .dataframe tbody tr th:only-of-type {\n",
       "        vertical-align: middle;\n",
       "    }\n",
       "\n",
       "    .dataframe tbody tr th {\n",
       "        vertical-align: top;\n",
       "    }\n",
       "\n",
       "    .dataframe thead th {\n",
       "        text-align: right;\n",
       "    }\n",
       "</style>\n",
       "<table border=\"1\" class=\"dataframe\">\n",
       "  <thead>\n",
       "    <tr style=\"text-align: right;\">\n",
       "      <th></th>\n",
       "      <th>user_id</th>\n",
       "      <th>click_article_id</th>\n",
       "      <th>click_timestamp</th>\n",
       "      <th>click_environment</th>\n",
       "      <th>click_deviceGroup</th>\n",
       "      <th>click_os</th>\n",
       "      <th>click_country</th>\n",
       "      <th>click_region</th>\n",
       "      <th>click_referrer_type</th>\n",
       "      <th>rank</th>\n",
       "      <th>click_cnts</th>\n",
       "      <th>category_id</th>\n",
       "      <th>created_at_ts</th>\n",
       "      <th>words_count</th>\n",
       "    </tr>\n",
       "  </thead>\n",
       "  <tbody>\n",
       "    <tr>\n",
       "      <th>0</th>\n",
       "      <td>249999</td>\n",
       "      <td>160974</td>\n",
       "      <td>1506959142820</td>\n",
       "      <td>4</td>\n",
       "      <td>1</td>\n",
       "      <td>17</td>\n",
       "      <td>1</td>\n",
       "      <td>13</td>\n",
       "      <td>2</td>\n",
       "      <td>19</td>\n",
       "      <td>19</td>\n",
       "      <td>281</td>\n",
       "      <td>1506912747000</td>\n",
       "      <td>259</td>\n",
       "    </tr>\n",
       "    <tr>\n",
       "      <th>1</th>\n",
       "      <td>249999</td>\n",
       "      <td>160417</td>\n",
       "      <td>1506959172820</td>\n",
       "      <td>4</td>\n",
       "      <td>1</td>\n",
       "      <td>17</td>\n",
       "      <td>1</td>\n",
       "      <td>13</td>\n",
       "      <td>2</td>\n",
       "      <td>18</td>\n",
       "      <td>19</td>\n",
       "      <td>281</td>\n",
       "      <td>1506942089000</td>\n",
       "      <td>173</td>\n",
       "    </tr>\n",
       "    <tr>\n",
       "      <th>2</th>\n",
       "      <td>249998</td>\n",
       "      <td>160974</td>\n",
       "      <td>1506959056066</td>\n",
       "      <td>4</td>\n",
       "      <td>1</td>\n",
       "      <td>12</td>\n",
       "      <td>1</td>\n",
       "      <td>13</td>\n",
       "      <td>2</td>\n",
       "      <td>5</td>\n",
       "      <td>5</td>\n",
       "      <td>281</td>\n",
       "      <td>1506912747000</td>\n",
       "      <td>259</td>\n",
       "    </tr>\n",
       "    <tr>\n",
       "      <th>3</th>\n",
       "      <td>249998</td>\n",
       "      <td>202557</td>\n",
       "      <td>1506959086066</td>\n",
       "      <td>4</td>\n",
       "      <td>1</td>\n",
       "      <td>12</td>\n",
       "      <td>1</td>\n",
       "      <td>13</td>\n",
       "      <td>2</td>\n",
       "      <td>4</td>\n",
       "      <td>5</td>\n",
       "      <td>327</td>\n",
       "      <td>1506938401000</td>\n",
       "      <td>219</td>\n",
       "    </tr>\n",
       "    <tr>\n",
       "      <th>4</th>\n",
       "      <td>249997</td>\n",
       "      <td>183665</td>\n",
       "      <td>1506959088613</td>\n",
       "      <td>4</td>\n",
       "      <td>1</td>\n",
       "      <td>17</td>\n",
       "      <td>1</td>\n",
       "      <td>15</td>\n",
       "      <td>5</td>\n",
       "      <td>7</td>\n",
       "      <td>7</td>\n",
       "      <td>301</td>\n",
       "      <td>1500895686000</td>\n",
       "      <td>256</td>\n",
       "    </tr>\n",
       "  </tbody>\n",
       "</table>\n",
       "</div>"
      ],
      "text/plain": [
       "   user_id  click_article_id  click_timestamp  click_environment  \\\n",
       "0   249999            160974    1506959142820                  4   \n",
       "1   249999            160417    1506959172820                  4   \n",
       "2   249998            160974    1506959056066                  4   \n",
       "3   249998            202557    1506959086066                  4   \n",
       "4   249997            183665    1506959088613                  4   \n",
       "\n",
       "   click_deviceGroup  click_os  click_country  click_region  \\\n",
       "0                  1        17              1            13   \n",
       "1                  1        17              1            13   \n",
       "2                  1        12              1            13   \n",
       "3                  1        12              1            13   \n",
       "4                  1        17              1            15   \n",
       "\n",
       "   click_referrer_type  rank  click_cnts  category_id  created_at_ts  \\\n",
       "0                    2    19          19          281  1506912747000   \n",
       "1                    2    18          19          281  1506942089000   \n",
       "2                    2     5           5          281  1506912747000   \n",
       "3                    2     4           5          327  1506938401000   \n",
       "4                    5     7           7          301  1500895686000   \n",
       "\n",
       "   words_count  \n",
       "0          259  \n",
       "1          173  \n",
       "2          259  \n",
       "3          219  \n",
       "4          256  "
      ]
     },
     "execution_count": 145,
     "metadata": {},
     "output_type": "execute_result"
    }
   ],
   "source": [
    "tst_click = tst_click.merge(item_df, how='left', on=['click_article_id'])\n",
    "tst_click.head()\n"
   ]
  },
  {
   "cell_type": "code",
   "execution_count": 146,
   "id": "fb363f74-3ee5-4919-b5b2-d44f59f1ba6b",
   "metadata": {},
   "outputs": [],
   "source": [
    "assert_equal(tst_click, test.merge(a, how='left', on='a'))"
   ]
  },
  {
   "cell_type": "code",
   "execution_count": 147,
   "id": "0a8b68d7-d610-4efe-b0de-78fbab212c49",
   "metadata": {},
   "outputs": [
    {
     "data": {
      "text/html": [
       "<div>\n",
       "<style scoped>\n",
       "    .dataframe tbody tr th:only-of-type {\n",
       "        vertical-align: middle;\n",
       "    }\n",
       "\n",
       "    .dataframe tbody tr th {\n",
       "        vertical-align: top;\n",
       "    }\n",
       "\n",
       "    .dataframe thead th {\n",
       "        text-align: right;\n",
       "    }\n",
       "</style>\n",
       "<table border=\"1\" class=\"dataframe\">\n",
       "  <thead>\n",
       "    <tr style=\"text-align: right;\">\n",
       "      <th></th>\n",
       "      <th>user_id</th>\n",
       "      <th>click_article_id</th>\n",
       "      <th>click_timestamp</th>\n",
       "      <th>click_environment</th>\n",
       "      <th>click_deviceGroup</th>\n",
       "      <th>click_os</th>\n",
       "      <th>click_country</th>\n",
       "      <th>click_region</th>\n",
       "      <th>click_referrer_type</th>\n",
       "      <th>rank</th>\n",
       "      <th>click_cnts</th>\n",
       "      <th>category_id</th>\n",
       "      <th>created_at_ts</th>\n",
       "      <th>words_count</th>\n",
       "    </tr>\n",
       "  </thead>\n",
       "  <tbody>\n",
       "    <tr>\n",
       "      <th>count</th>\n",
       "      <td>518010.000000</td>\n",
       "      <td>518010.000000</td>\n",
       "      <td>5.180100e+05</td>\n",
       "      <td>518010.000000</td>\n",
       "      <td>518010.000000</td>\n",
       "      <td>518010.000000</td>\n",
       "      <td>518010.000000</td>\n",
       "      <td>518010.000000</td>\n",
       "      <td>518010.000000</td>\n",
       "      <td>518010.000000</td>\n",
       "      <td>518010.000000</td>\n",
       "      <td>518010.000000</td>\n",
       "      <td>5.180100e+05</td>\n",
       "      <td>518010.000000</td>\n",
       "    </tr>\n",
       "    <tr>\n",
       "      <th>mean</th>\n",
       "      <td>227342.428169</td>\n",
       "      <td>193803.792550</td>\n",
       "      <td>1.507387e+12</td>\n",
       "      <td>3.947300</td>\n",
       "      <td>1.738285</td>\n",
       "      <td>13.628467</td>\n",
       "      <td>1.348209</td>\n",
       "      <td>18.250250</td>\n",
       "      <td>1.819614</td>\n",
       "      <td>15.521785</td>\n",
       "      <td>30.043586</td>\n",
       "      <td>305.324961</td>\n",
       "      <td>1.506883e+12</td>\n",
       "      <td>210.966331</td>\n",
       "    </tr>\n",
       "    <tr>\n",
       "      <th>std</th>\n",
       "      <td>14613.907188</td>\n",
       "      <td>88279.388177</td>\n",
       "      <td>3.706127e+08</td>\n",
       "      <td>0.323916</td>\n",
       "      <td>1.020858</td>\n",
       "      <td>6.625564</td>\n",
       "      <td>1.703524</td>\n",
       "      <td>7.060798</td>\n",
       "      <td>1.082657</td>\n",
       "      <td>33.957702</td>\n",
       "      <td>56.868021</td>\n",
       "      <td>110.411513</td>\n",
       "      <td>5.816668e+09</td>\n",
       "      <td>83.040065</td>\n",
       "    </tr>\n",
       "    <tr>\n",
       "      <th>min</th>\n",
       "      <td>200000.000000</td>\n",
       "      <td>137.000000</td>\n",
       "      <td>1.506959e+12</td>\n",
       "      <td>1.000000</td>\n",
       "      <td>1.000000</td>\n",
       "      <td>2.000000</td>\n",
       "      <td>1.000000</td>\n",
       "      <td>1.000000</td>\n",
       "      <td>1.000000</td>\n",
       "      <td>1.000000</td>\n",
       "      <td>1.000000</td>\n",
       "      <td>1.000000</td>\n",
       "      <td>1.265812e+12</td>\n",
       "      <td>0.000000</td>\n",
       "    </tr>\n",
       "    <tr>\n",
       "      <th>25%</th>\n",
       "      <td>214926.000000</td>\n",
       "      <td>128551.000000</td>\n",
       "      <td>1.507026e+12</td>\n",
       "      <td>4.000000</td>\n",
       "      <td>1.000000</td>\n",
       "      <td>12.000000</td>\n",
       "      <td>1.000000</td>\n",
       "      <td>13.000000</td>\n",
       "      <td>1.000000</td>\n",
       "      <td>4.000000</td>\n",
       "      <td>10.000000</td>\n",
       "      <td>252.000000</td>\n",
       "      <td>1.506970e+12</td>\n",
       "      <td>176.000000</td>\n",
       "    </tr>\n",
       "    <tr>\n",
       "      <th>50%</th>\n",
       "      <td>229109.000000</td>\n",
       "      <td>199197.000000</td>\n",
       "      <td>1.507308e+12</td>\n",
       "      <td>4.000000</td>\n",
       "      <td>1.000000</td>\n",
       "      <td>17.000000</td>\n",
       "      <td>1.000000</td>\n",
       "      <td>21.000000</td>\n",
       "      <td>2.000000</td>\n",
       "      <td>8.000000</td>\n",
       "      <td>19.000000</td>\n",
       "      <td>323.000000</td>\n",
       "      <td>1.507249e+12</td>\n",
       "      <td>199.000000</td>\n",
       "    </tr>\n",
       "    <tr>\n",
       "      <th>75%</th>\n",
       "      <td>240182.000000</td>\n",
       "      <td>272143.000000</td>\n",
       "      <td>1.507666e+12</td>\n",
       "      <td>4.000000</td>\n",
       "      <td>3.000000</td>\n",
       "      <td>17.000000</td>\n",
       "      <td>1.000000</td>\n",
       "      <td>25.000000</td>\n",
       "      <td>2.000000</td>\n",
       "      <td>18.000000</td>\n",
       "      <td>35.000000</td>\n",
       "      <td>399.000000</td>\n",
       "      <td>1.507630e+12</td>\n",
       "      <td>232.000000</td>\n",
       "    </tr>\n",
       "    <tr>\n",
       "      <th>max</th>\n",
       "      <td>249999.000000</td>\n",
       "      <td>364043.000000</td>\n",
       "      <td>1.508832e+12</td>\n",
       "      <td>4.000000</td>\n",
       "      <td>5.000000</td>\n",
       "      <td>20.000000</td>\n",
       "      <td>11.000000</td>\n",
       "      <td>28.000000</td>\n",
       "      <td>7.000000</td>\n",
       "      <td>938.000000</td>\n",
       "      <td>938.000000</td>\n",
       "      <td>460.000000</td>\n",
       "      <td>1.509949e+12</td>\n",
       "      <td>3082.000000</td>\n",
       "    </tr>\n",
       "  </tbody>\n",
       "</table>\n",
       "</div>"
      ],
      "text/plain": [
       "             user_id  click_article_id  click_timestamp  click_environment  \\\n",
       "count  518010.000000     518010.000000     5.180100e+05      518010.000000   \n",
       "mean   227342.428169     193803.792550     1.507387e+12           3.947300   \n",
       "std     14613.907188      88279.388177     3.706127e+08           0.323916   \n",
       "min    200000.000000        137.000000     1.506959e+12           1.000000   \n",
       "25%    214926.000000     128551.000000     1.507026e+12           4.000000   \n",
       "50%    229109.000000     199197.000000     1.507308e+12           4.000000   \n",
       "75%    240182.000000     272143.000000     1.507666e+12           4.000000   \n",
       "max    249999.000000     364043.000000     1.508832e+12           4.000000   \n",
       "\n",
       "       click_deviceGroup       click_os  click_country   click_region  \\\n",
       "count      518010.000000  518010.000000  518010.000000  518010.000000   \n",
       "mean            1.738285      13.628467       1.348209      18.250250   \n",
       "std             1.020858       6.625564       1.703524       7.060798   \n",
       "min             1.000000       2.000000       1.000000       1.000000   \n",
       "25%             1.000000      12.000000       1.000000      13.000000   \n",
       "50%             1.000000      17.000000       1.000000      21.000000   \n",
       "75%             3.000000      17.000000       1.000000      25.000000   \n",
       "max             5.000000      20.000000      11.000000      28.000000   \n",
       "\n",
       "       click_referrer_type           rank     click_cnts    category_id  \\\n",
       "count        518010.000000  518010.000000  518010.000000  518010.000000   \n",
       "mean              1.819614      15.521785      30.043586     305.324961   \n",
       "std               1.082657      33.957702      56.868021     110.411513   \n",
       "min               1.000000       1.000000       1.000000       1.000000   \n",
       "25%               1.000000       4.000000      10.000000     252.000000   \n",
       "50%               2.000000       8.000000      19.000000     323.000000   \n",
       "75%               2.000000      18.000000      35.000000     399.000000   \n",
       "max               7.000000     938.000000     938.000000     460.000000   \n",
       "\n",
       "       created_at_ts    words_count  \n",
       "count   5.180100e+05  518010.000000  \n",
       "mean    1.506883e+12     210.966331  \n",
       "std     5.816668e+09      83.040065  \n",
       "min     1.265812e+12       0.000000  \n",
       "25%     1.506970e+12     176.000000  \n",
       "50%     1.507249e+12     199.000000  \n",
       "75%     1.507630e+12     232.000000  \n",
       "max     1.509949e+12    3082.000000  "
      ]
     },
     "execution_count": 147,
     "metadata": {},
     "output_type": "execute_result"
    }
   ],
   "source": [
    "tst_click.describe()\n"
   ]
  },
  {
   "cell_type": "code",
   "execution_count": 148,
   "id": "bf277f81-0f6a-4392-9bf5-c35f507bb664",
   "metadata": {},
   "outputs": [],
   "source": [
    "test = test.merge(a, how='left', on='a')"
   ]
  },
  {
   "cell_type": "markdown",
   "id": "c6b49d09-7fd4-4a71-ad5f-3c180e0e4019",
   "metadata": {},
   "source": [
    "我们可以看出训练集和测试集的用户是完全不一样的\n",
    "\n",
    "训练集的用户ID由0 ~ 199999，而测试集A的用户ID由200000 ~ 249999。"
   ]
  },
  {
   "cell_type": "code",
   "execution_count": 149,
   "id": "2e123993-445c-4195-bc2d-200645a481ca",
   "metadata": {},
   "outputs": [
    {
     "data": {
      "text/plain": [
       "50000"
      ]
     },
     "execution_count": 149,
     "metadata": {},
     "output_type": "execute_result"
    }
   ],
   "source": [
    "#测试集中的用户数量为5w\n",
    "tst_click.user_id.nunique()\n"
   ]
  },
  {
   "cell_type": "code",
   "execution_count": 150,
   "id": "3f593b43-d558-40e2-ba5b-5ac8c9d3bdf8",
   "metadata": {},
   "outputs": [
    {
     "data": {
      "text/plain": [
       "1"
      ]
     },
     "execution_count": 150,
     "metadata": {},
     "output_type": "execute_result"
    }
   ],
   "source": [
    "tst_click.groupby('user_id')['click_article_id'].count().min() # 注意测试集里面有只点击过一次文章的用户\n"
   ]
  },
  {
   "cell_type": "code",
   "execution_count": null,
   "id": "a24dd0d2-0e93-47ad-b211-ff02b0a51d45",
   "metadata": {},
   "outputs": [],
   "source": []
  },
  {
   "cell_type": "markdown",
   "id": "326c6d89-dcf4-4dde-b8d2-716d3145c32b",
   "metadata": {},
   "source": [
    "## 新闻文章信息数据表"
   ]
  },
  {
   "cell_type": "code",
   "execution_count": 151,
   "id": "5b7db397-35a6-4bd0-9c84-fc201e23d2d1",
   "metadata": {},
   "outputs": [
    {
     "data": {
      "text/html": [
       "<div>\n",
       "<style scoped>\n",
       "    .dataframe tbody tr th:only-of-type {\n",
       "        vertical-align: middle;\n",
       "    }\n",
       "\n",
       "    .dataframe tbody tr th {\n",
       "        vertical-align: top;\n",
       "    }\n",
       "\n",
       "    .dataframe thead th {\n",
       "        text-align: right;\n",
       "    }\n",
       "</style>\n",
       "<table border=\"1\" class=\"dataframe\">\n",
       "  <thead>\n",
       "    <tr style=\"text-align: right;\">\n",
       "      <th></th>\n",
       "      <th>click_article_id</th>\n",
       "      <th>category_id</th>\n",
       "      <th>created_at_ts</th>\n",
       "      <th>words_count</th>\n",
       "    </tr>\n",
       "  </thead>\n",
       "  <tbody>\n",
       "    <tr>\n",
       "      <th>0</th>\n",
       "      <td>0</td>\n",
       "      <td>0</td>\n",
       "      <td>1513144419000</td>\n",
       "      <td>168</td>\n",
       "    </tr>\n",
       "    <tr>\n",
       "      <th>1</th>\n",
       "      <td>1</td>\n",
       "      <td>1</td>\n",
       "      <td>1405341936000</td>\n",
       "      <td>189</td>\n",
       "    </tr>\n",
       "    <tr>\n",
       "      <th>2</th>\n",
       "      <td>2</td>\n",
       "      <td>1</td>\n",
       "      <td>1408667706000</td>\n",
       "      <td>250</td>\n",
       "    </tr>\n",
       "    <tr>\n",
       "      <th>3</th>\n",
       "      <td>3</td>\n",
       "      <td>1</td>\n",
       "      <td>1408468313000</td>\n",
       "      <td>230</td>\n",
       "    </tr>\n",
       "    <tr>\n",
       "      <th>4</th>\n",
       "      <td>4</td>\n",
       "      <td>1</td>\n",
       "      <td>1407071171000</td>\n",
       "      <td>162</td>\n",
       "    </tr>\n",
       "    <tr>\n",
       "      <th>364042</th>\n",
       "      <td>364042</td>\n",
       "      <td>460</td>\n",
       "      <td>1434034118000</td>\n",
       "      <td>144</td>\n",
       "    </tr>\n",
       "    <tr>\n",
       "      <th>364043</th>\n",
       "      <td>364043</td>\n",
       "      <td>460</td>\n",
       "      <td>1434148472000</td>\n",
       "      <td>463</td>\n",
       "    </tr>\n",
       "    <tr>\n",
       "      <th>364044</th>\n",
       "      <td>364044</td>\n",
       "      <td>460</td>\n",
       "      <td>1457974279000</td>\n",
       "      <td>177</td>\n",
       "    </tr>\n",
       "    <tr>\n",
       "      <th>364045</th>\n",
       "      <td>364045</td>\n",
       "      <td>460</td>\n",
       "      <td>1515964737000</td>\n",
       "      <td>126</td>\n",
       "    </tr>\n",
       "    <tr>\n",
       "      <th>364046</th>\n",
       "      <td>364046</td>\n",
       "      <td>460</td>\n",
       "      <td>1505811330000</td>\n",
       "      <td>479</td>\n",
       "    </tr>\n",
       "  </tbody>\n",
       "</table>\n",
       "</div>"
      ],
      "text/plain": [
       "        click_article_id  category_id  created_at_ts  words_count\n",
       "0                      0            0  1513144419000          168\n",
       "1                      1            1  1405341936000          189\n",
       "2                      2            1  1408667706000          250\n",
       "3                      3            1  1408468313000          230\n",
       "4                      4            1  1407071171000          162\n",
       "364042            364042          460  1434034118000          144\n",
       "364043            364043          460  1434148472000          463\n",
       "364044            364044          460  1457974279000          177\n",
       "364045            364045          460  1515964737000          126\n",
       "364046            364046          460  1505811330000          479"
      ]
     },
     "execution_count": 151,
     "metadata": {},
     "output_type": "execute_result"
    }
   ],
   "source": [
    "#新闻文章数据集浏览\n",
    "item_df.head().append(item_df.tail())\n"
   ]
  },
  {
   "cell_type": "code",
   "execution_count": 152,
   "id": "0f6fce6b-9aaa-4ce1-ade8-3e393289ce11",
   "metadata": {},
   "outputs": [
    {
     "data": {
      "text/plain": [
       "176     3485\n",
       "182     3480\n",
       "179     3463\n",
       "178     3458\n",
       "174     3456\n",
       "        ... \n",
       "556        1\n",
       "625        1\n",
       "2798       1\n",
       "767        1\n",
       "841        1\n",
       "Name: words_count, Length: 866, dtype: int64"
      ]
     },
     "execution_count": 152,
     "metadata": {},
     "output_type": "execute_result"
    }
   ],
   "source": [
    "item_df['words_count'].value_counts()\n"
   ]
  },
  {
   "cell_type": "code",
   "execution_count": 153,
   "id": "512f62b6-e73e-4079-bca4-1afe59439f7a",
   "metadata": {},
   "outputs": [
    {
     "name": "stdout",
     "output_type": "stream",
     "text": [
      "461\n"
     ]
    },
    {
     "data": {
      "text/plain": [
       "<AxesSubplot:>"
      ]
     },
     "execution_count": 153,
     "metadata": {},
     "output_type": "execute_result"
    },
    {
     "data": {
      "image/png": "[encoded data removed]",
      "text/plain": [
       "<Figure size 432x288 with 1 Axes>"
      ]
     },
     "metadata": {
      "needs_background": "light"
     },
     "output_type": "display_data"
    }
   ],
   "source": [
    "print(item_df['category_id'].nunique())     # 461个文章主题\n",
    "item_df['category_id'].hist()\n"
   ]
  },
  {
   "cell_type": "code",
   "execution_count": 154,
   "id": "37fb5af3-ced7-4f4f-ab88-64508982fa99",
   "metadata": {},
   "outputs": [
    {
     "data": {
      "text/plain": [
       "(364047, 4)"
      ]
     },
     "execution_count": 154,
     "metadata": {},
     "output_type": "execute_result"
    }
   ],
   "source": [
    "item_df.shape       # 364047篇文章"
   ]
  },
  {
   "cell_type": "markdown",
   "id": "a94e1e7a-6528-43a8-9323-5ac6018015e4",
   "metadata": {},
   "source": [
    "## 新闻文章embedding向量表示"
   ]
  },
  {
   "cell_type": "code",
   "execution_count": 19,
   "id": "dadeb748-b46a-4178-81f0-9d4cfe1efde2",
   "metadata": {},
   "outputs": [
    {
     "data": {
      "text/html": [
       "<div>\n",
       "<style scoped>\n",
       "    .dataframe tbody tr th:only-of-type {\n",
       "        vertical-align: middle;\n",
       "    }\n",
       "\n",
       "    .dataframe tbody tr th {\n",
       "        vertical-align: top;\n",
       "    }\n",
       "\n",
       "    .dataframe thead th {\n",
       "        text-align: right;\n",
       "    }\n",
       "</style>\n",
       "<table border=\"1\" class=\"dataframe\">\n",
       "  <thead>\n",
       "    <tr style=\"text-align: right;\">\n",
       "      <th></th>\n",
       "      <th>article_id</th>\n",
       "      <th>emb_0</th>\n",
       "      <th>emb_1</th>\n",
       "      <th>emb_2</th>\n",
       "      <th>emb_3</th>\n",
       "      <th>emb_4</th>\n",
       "      <th>emb_5</th>\n",
       "      <th>emb_6</th>\n",
       "      <th>emb_7</th>\n",
       "      <th>emb_8</th>\n",
       "      <th>...</th>\n",
       "      <th>emb_240</th>\n",
       "      <th>emb_241</th>\n",
       "      <th>emb_242</th>\n",
       "      <th>emb_243</th>\n",
       "      <th>emb_244</th>\n",
       "      <th>emb_245</th>\n",
       "      <th>emb_246</th>\n",
       "      <th>emb_247</th>\n",
       "      <th>emb_248</th>\n",
       "      <th>emb_249</th>\n",
       "    </tr>\n",
       "  </thead>\n",
       "  <tbody>\n",
       "    <tr>\n",
       "      <th>0</th>\n",
       "      <td>0</td>\n",
       "      <td>-0.161183</td>\n",
       "      <td>-0.957233</td>\n",
       "      <td>-0.137944</td>\n",
       "      <td>0.050855</td>\n",
       "      <td>0.830055</td>\n",
       "      <td>0.901365</td>\n",
       "      <td>-0.335148</td>\n",
       "      <td>-0.559561</td>\n",
       "      <td>-0.500603</td>\n",
       "      <td>...</td>\n",
       "      <td>0.321248</td>\n",
       "      <td>0.313999</td>\n",
       "      <td>0.636412</td>\n",
       "      <td>0.169179</td>\n",
       "      <td>0.540524</td>\n",
       "      <td>-0.813182</td>\n",
       "      <td>0.286870</td>\n",
       "      <td>-0.231686</td>\n",
       "      <td>0.597416</td>\n",
       "      <td>0.409623</td>\n",
       "    </tr>\n",
       "    <tr>\n",
       "      <th>1</th>\n",
       "      <td>1</td>\n",
       "      <td>-0.523216</td>\n",
       "      <td>-0.974058</td>\n",
       "      <td>0.738608</td>\n",
       "      <td>0.155234</td>\n",
       "      <td>0.626294</td>\n",
       "      <td>0.485297</td>\n",
       "      <td>-0.715657</td>\n",
       "      <td>-0.897996</td>\n",
       "      <td>-0.359747</td>\n",
       "      <td>...</td>\n",
       "      <td>-0.487843</td>\n",
       "      <td>0.823124</td>\n",
       "      <td>0.412688</td>\n",
       "      <td>-0.338654</td>\n",
       "      <td>0.320786</td>\n",
       "      <td>0.588643</td>\n",
       "      <td>-0.594137</td>\n",
       "      <td>0.182828</td>\n",
       "      <td>0.397090</td>\n",
       "      <td>-0.834364</td>\n",
       "    </tr>\n",
       "    <tr>\n",
       "      <th>2</th>\n",
       "      <td>2</td>\n",
       "      <td>-0.619619</td>\n",
       "      <td>-0.972960</td>\n",
       "      <td>-0.207360</td>\n",
       "      <td>-0.128861</td>\n",
       "      <td>0.044748</td>\n",
       "      <td>-0.387535</td>\n",
       "      <td>-0.730477</td>\n",
       "      <td>-0.066126</td>\n",
       "      <td>-0.754899</td>\n",
       "      <td>...</td>\n",
       "      <td>0.454756</td>\n",
       "      <td>0.473184</td>\n",
       "      <td>0.377866</td>\n",
       "      <td>-0.863887</td>\n",
       "      <td>-0.383365</td>\n",
       "      <td>0.137721</td>\n",
       "      <td>-0.810877</td>\n",
       "      <td>-0.447580</td>\n",
       "      <td>0.805932</td>\n",
       "      <td>-0.285284</td>\n",
       "    </tr>\n",
       "    <tr>\n",
       "      <th>3</th>\n",
       "      <td>3</td>\n",
       "      <td>-0.740843</td>\n",
       "      <td>-0.975749</td>\n",
       "      <td>0.391698</td>\n",
       "      <td>0.641738</td>\n",
       "      <td>-0.268645</td>\n",
       "      <td>0.191745</td>\n",
       "      <td>-0.825593</td>\n",
       "      <td>-0.710591</td>\n",
       "      <td>-0.040099</td>\n",
       "      <td>...</td>\n",
       "      <td>0.271535</td>\n",
       "      <td>0.036040</td>\n",
       "      <td>0.480029</td>\n",
       "      <td>-0.763173</td>\n",
       "      <td>0.022627</td>\n",
       "      <td>0.565165</td>\n",
       "      <td>-0.910286</td>\n",
       "      <td>-0.537838</td>\n",
       "      <td>0.243541</td>\n",
       "      <td>-0.885329</td>\n",
       "    </tr>\n",
       "    <tr>\n",
       "      <th>4</th>\n",
       "      <td>4</td>\n",
       "      <td>-0.279052</td>\n",
       "      <td>-0.972315</td>\n",
       "      <td>0.685374</td>\n",
       "      <td>0.113056</td>\n",
       "      <td>0.238315</td>\n",
       "      <td>0.271913</td>\n",
       "      <td>-0.568816</td>\n",
       "      <td>0.341194</td>\n",
       "      <td>-0.600554</td>\n",
       "      <td>...</td>\n",
       "      <td>0.238286</td>\n",
       "      <td>0.809268</td>\n",
       "      <td>0.427521</td>\n",
       "      <td>-0.615932</td>\n",
       "      <td>-0.503697</td>\n",
       "      <td>0.614450</td>\n",
       "      <td>-0.917760</td>\n",
       "      <td>-0.424061</td>\n",
       "      <td>0.185484</td>\n",
       "      <td>-0.580292</td>\n",
       "    </tr>\n",
       "  </tbody>\n",
       "</table>\n",
       "<p>5 rows × 251 columns</p>\n",
       "</div>"
      ],
      "text/plain": [
       "   article_id     emb_0     emb_1     emb_2     emb_3     emb_4     emb_5  \\\n",
       "0           0 -0.161183 -0.957233 -0.137944  0.050855  0.830055  0.901365   \n",
       "1           1 -0.523216 -0.974058  0.738608  0.155234  0.626294  0.485297   \n",
       "2           2 -0.619619 -0.972960 -0.207360 -0.128861  0.044748 -0.387535   \n",
       "3           3 -0.740843 -0.975749  0.391698  0.641738 -0.268645  0.191745   \n",
       "4           4 -0.279052 -0.972315  0.685374  0.113056  0.238315  0.271913   \n",
       "\n",
       "      emb_6     emb_7     emb_8  ...   emb_240   emb_241   emb_242   emb_243  \\\n",
       "0 -0.335148 -0.559561 -0.500603  ...  0.321248  0.313999  0.636412  0.169179   \n",
       "1 -0.715657 -0.897996 -0.359747  ... -0.487843  0.823124  0.412688 -0.338654   \n",
       "2 -0.730477 -0.066126 -0.754899  ...  0.454756  0.473184  0.377866 -0.863887   \n",
       "3 -0.825593 -0.710591 -0.040099  ...  0.271535  0.036040  0.480029 -0.763173   \n",
       "4 -0.568816  0.341194 -0.600554  ...  0.238286  0.809268  0.427521 -0.615932   \n",
       "\n",
       "    emb_244   emb_245   emb_246   emb_247   emb_248   emb_249  \n",
       "0  0.540524 -0.813182  0.286870 -0.231686  0.597416  0.409623  \n",
       "1  0.320786  0.588643 -0.594137  0.182828  0.397090 -0.834364  \n",
       "2 -0.383365  0.137721 -0.810877 -0.447580  0.805932 -0.285284  \n",
       "3  0.022627  0.565165 -0.910286 -0.537838  0.243541 -0.885329  \n",
       "4 -0.503697  0.614450 -0.917760 -0.424061  0.185484 -0.580292  \n",
       "\n",
       "[5 rows x 251 columns]"
      ]
     },
     "execution_count": 19,
     "metadata": {},
     "output_type": "execute_result"
    }
   ],
   "source": [
    "item_emb_df.head()\n"
   ]
  },
  {
   "cell_type": "markdown",
   "id": "43f36002-5de1-4b51-bdc5-8e0fabdcb1dc",
   "metadata": {},
   "source": [
    "# 数据分析"
   ]
  },
  {
   "cell_type": "markdown",
   "id": "2ce59022-2887-4c7d-ad7b-d4760eee2661",
   "metadata": {},
   "source": [
    "## 用户重复点击"
   ]
  },
  {
   "cell_type": "code",
   "execution_count": 158,
   "id": "6b216644-8e9b-4a0f-a305-d658074a06da",
   "metadata": {},
   "outputs": [],
   "source": [
    "#####merge\n",
    "user_click_merge = trn_click.append(tst_click)\n"
   ]
  },
  {
   "cell_type": "code",
   "execution_count": 161,
   "id": "f72feebd-4fb5-4729-a174-8aa120760b9c",
   "metadata": {},
   "outputs": [
    {
     "data": {
      "text/html": [
       "<div>\n",
       "<style scoped>\n",
       "    .dataframe tbody tr th:only-of-type {\n",
       "        vertical-align: middle;\n",
       "    }\n",
       "\n",
       "    .dataframe tbody tr th {\n",
       "        vertical-align: top;\n",
       "    }\n",
       "\n",
       "    .dataframe thead th {\n",
       "        text-align: right;\n",
       "    }\n",
       "</style>\n",
       "<table border=\"1\" class=\"dataframe\">\n",
       "  <thead>\n",
       "    <tr style=\"text-align: right;\">\n",
       "      <th></th>\n",
       "      <th>user_id</th>\n",
       "      <th>click_article_id</th>\n",
       "      <th>count</th>\n",
       "    </tr>\n",
       "  </thead>\n",
       "  <tbody>\n",
       "    <tr>\n",
       "      <th>1628</th>\n",
       "      <td>697</td>\n",
       "      <td>87194</td>\n",
       "      <td>2</td>\n",
       "    </tr>\n",
       "    <tr>\n",
       "      <th>1629</th>\n",
       "      <td>697</td>\n",
       "      <td>234698</td>\n",
       "      <td>2</td>\n",
       "    </tr>\n",
       "    <tr>\n",
       "      <th>3314</th>\n",
       "      <td>1398</td>\n",
       "      <td>342473</td>\n",
       "      <td>2</td>\n",
       "    </tr>\n",
       "    <tr>\n",
       "      <th>4145</th>\n",
       "      <td>1716</td>\n",
       "      <td>199393</td>\n",
       "      <td>2</td>\n",
       "    </tr>\n",
       "    <tr>\n",
       "      <th>4146</th>\n",
       "      <td>1716</td>\n",
       "      <td>199437</td>\n",
       "      <td>2</td>\n",
       "    </tr>\n",
       "    <tr>\n",
       "      <th>4552</th>\n",
       "      <td>1879</td>\n",
       "      <td>206571</td>\n",
       "      <td>2</td>\n",
       "    </tr>\n",
       "    <tr>\n",
       "      <th>4556</th>\n",
       "      <td>1879</td>\n",
       "      <td>313962</td>\n",
       "      <td>2</td>\n",
       "    </tr>\n",
       "    <tr>\n",
       "      <th>5228</th>\n",
       "      <td>2172</td>\n",
       "      <td>184003</td>\n",
       "      <td>2</td>\n",
       "    </tr>\n",
       "    <tr>\n",
       "      <th>6086</th>\n",
       "      <td>2519</td>\n",
       "      <td>312260</td>\n",
       "      <td>2</td>\n",
       "    </tr>\n",
       "    <tr>\n",
       "      <th>6087</th>\n",
       "      <td>2519</td>\n",
       "      <td>312276</td>\n",
       "      <td>2</td>\n",
       "    </tr>\n",
       "  </tbody>\n",
       "</table>\n",
       "</div>"
      ],
      "text/plain": [
       "      user_id  click_article_id  count\n",
       "1628      697             87194      2\n",
       "1629      697            234698      2\n",
       "3314     1398            342473      2\n",
       "4145     1716            199393      2\n",
       "4146     1716            199437      2\n",
       "4552     1879            206571      2\n",
       "4556     1879            313962      2\n",
       "5228     2172            184003      2\n",
       "6086     2519            312260      2\n",
       "6087     2519            312276      2"
      ]
     },
     "execution_count": 161,
     "metadata": {},
     "output_type": "execute_result"
    }
   ],
   "source": [
    "#用户重复点击\n",
    "user_click_count = user_click_merge.groupby(['user_id', 'click_article_id'])['click_timestamp'].agg({'count'}).reset_index()\n",
    "user_click_count[user_click_count['count'] > 1][:10]\n"
   ]
  },
  {
   "cell_type": "code",
   "execution_count": 164,
   "id": "1b6331d5-aa32-4ecb-955b-55ddf2d9e5ad",
   "metadata": {},
   "outputs": [
    {
     "data": {
      "text/html": [
       "<div>\n",
       "<style scoped>\n",
       "    .dataframe tbody tr th:only-of-type {\n",
       "        vertical-align: middle;\n",
       "    }\n",
       "\n",
       "    .dataframe tbody tr th {\n",
       "        vertical-align: top;\n",
       "    }\n",
       "\n",
       "    .dataframe thead th {\n",
       "        text-align: right;\n",
       "    }\n",
       "</style>\n",
       "<table border=\"1\" class=\"dataframe\">\n",
       "  <thead>\n",
       "    <tr style=\"text-align: right;\">\n",
       "      <th></th>\n",
       "      <th>u</th>\n",
       "      <th>a</th>\n",
       "      <th>ts</th>\n",
       "      <th>env</th>\n",
       "      <th>device</th>\n",
       "      <th>os</th>\n",
       "      <th>country</th>\n",
       "      <th>region</th>\n",
       "      <th>referrer</th>\n",
       "      <th>rank</th>\n",
       "      <th>nc</th>\n",
       "      <th>c</th>\n",
       "      <th>ts_created</th>\n",
       "      <th>w_cnt</th>\n",
       "    </tr>\n",
       "  </thead>\n",
       "  <tbody>\n",
       "    <tr>\n",
       "      <th>1106913</th>\n",
       "      <td>697</td>\n",
       "      <td>87194</td>\n",
       "      <td>1508200681205</td>\n",
       "      <td>4</td>\n",
       "      <td>3</td>\n",
       "      <td>2</td>\n",
       "      <td>1</td>\n",
       "      <td>25</td>\n",
       "      <td>4</td>\n",
       "      <td>4</td>\n",
       "      <td>4</td>\n",
       "      <td>186</td>\n",
       "      <td>1508102769000</td>\n",
       "      <td>117</td>\n",
       "    </tr>\n",
       "    <tr>\n",
       "      <th>1106914</th>\n",
       "      <td>697</td>\n",
       "      <td>234698</td>\n",
       "      <td>1508200711205</td>\n",
       "      <td>4</td>\n",
       "      <td>3</td>\n",
       "      <td>2</td>\n",
       "      <td>1</td>\n",
       "      <td>25</td>\n",
       "      <td>4</td>\n",
       "      <td>3</td>\n",
       "      <td>4</td>\n",
       "      <td>375</td>\n",
       "      <td>1507618597000</td>\n",
       "      <td>183</td>\n",
       "    </tr>\n",
       "    <tr>\n",
       "      <th>1109002</th>\n",
       "      <td>697</td>\n",
       "      <td>234698</td>\n",
       "      <td>1508203163400</td>\n",
       "      <td>4</td>\n",
       "      <td>3</td>\n",
       "      <td>2</td>\n",
       "      <td>1</td>\n",
       "      <td>25</td>\n",
       "      <td>4</td>\n",
       "      <td>2</td>\n",
       "      <td>4</td>\n",
       "      <td>375</td>\n",
       "      <td>1507618597000</td>\n",
       "      <td>183</td>\n",
       "    </tr>\n",
       "    <tr>\n",
       "      <th>1109003</th>\n",
       "      <td>697</td>\n",
       "      <td>87194</td>\n",
       "      <td>1508203193400</td>\n",
       "      <td>4</td>\n",
       "      <td>3</td>\n",
       "      <td>2</td>\n",
       "      <td>1</td>\n",
       "      <td>25</td>\n",
       "      <td>4</td>\n",
       "      <td>1</td>\n",
       "      <td>4</td>\n",
       "      <td>186</td>\n",
       "      <td>1508102769000</td>\n",
       "      <td>117</td>\n",
       "    </tr>\n",
       "  </tbody>\n",
       "</table>\n",
       "</div>"
      ],
      "text/plain": [
       "           u       a             ts  env  device  os  country  region  \\\n",
       "1106913  697   87194  1508200681205    4       3   2        1      25   \n",
       "1106914  697  234698  1508200711205    4       3   2        1      25   \n",
       "1109002  697  234698  1508203163400    4       3   2        1      25   \n",
       "1109003  697   87194  1508203193400    4       3   2        1      25   \n",
       "\n",
       "         referrer  rank  nc    c     ts_created  w_cnt  \n",
       "1106913         4     4   4  186  1508102769000    117  \n",
       "1106914         4     3   4  375  1507618597000    183  \n",
       "1109002         4     2   4  375  1507618597000    183  \n",
       "1109003         4     1   4  186  1508102769000    117  "
      ]
     },
     "execution_count": 164,
     "metadata": {},
     "output_type": "execute_result"
    }
   ],
   "source": [
    "train[train.u == 697]"
   ]
  },
  {
   "cell_type": "code",
   "execution_count": 165,
   "id": "21166c01-e568-4d1a-8601-88440b956f08",
   "metadata": {},
   "outputs": [
    {
     "data": {
      "text/html": [
       "<div>\n",
       "<style scoped>\n",
       "    .dataframe tbody tr th:only-of-type {\n",
       "        vertical-align: middle;\n",
       "    }\n",
       "\n",
       "    .dataframe tbody tr th {\n",
       "        vertical-align: top;\n",
       "    }\n",
       "\n",
       "    .dataframe thead th {\n",
       "        text-align: right;\n",
       "    }\n",
       "</style>\n",
       "<table border=\"1\" class=\"dataframe\">\n",
       "  <thead>\n",
       "    <tr style=\"text-align: right;\">\n",
       "      <th></th>\n",
       "      <th>user_id</th>\n",
       "      <th>click_article_id</th>\n",
       "      <th>count</th>\n",
       "    </tr>\n",
       "  </thead>\n",
       "  <tbody>\n",
       "    <tr>\n",
       "      <th>311242</th>\n",
       "      <td>86295</td>\n",
       "      <td>74254</td>\n",
       "      <td>10</td>\n",
       "    </tr>\n",
       "    <tr>\n",
       "      <th>311243</th>\n",
       "      <td>86295</td>\n",
       "      <td>76268</td>\n",
       "      <td>10</td>\n",
       "    </tr>\n",
       "    <tr>\n",
       "      <th>393761</th>\n",
       "      <td>103237</td>\n",
       "      <td>205948</td>\n",
       "      <td>10</td>\n",
       "    </tr>\n",
       "    <tr>\n",
       "      <th>393763</th>\n",
       "      <td>103237</td>\n",
       "      <td>235689</td>\n",
       "      <td>10</td>\n",
       "    </tr>\n",
       "    <tr>\n",
       "      <th>576902</th>\n",
       "      <td>134850</td>\n",
       "      <td>69463</td>\n",
       "      <td>13</td>\n",
       "    </tr>\n",
       "  </tbody>\n",
       "</table>\n",
       "</div>"
      ],
      "text/plain": [
       "        user_id  click_article_id  count\n",
       "311242    86295             74254     10\n",
       "311243    86295             76268     10\n",
       "393761   103237            205948     10\n",
       "393763   103237            235689     10\n",
       "576902   134850             69463     13"
      ]
     },
     "execution_count": 165,
     "metadata": {},
     "output_type": "execute_result"
    }
   ],
   "source": [
    "user_click_count[user_click_count['count']>7]\n"
   ]
  },
  {
   "cell_type": "code",
   "execution_count": 166,
   "id": "b9fe04d1-3b1f-4b3b-ace8-bb9a71f8fd2e",
   "metadata": {},
   "outputs": [
    {
     "data": {
      "text/plain": [
       "array([ 1,  2,  4,  3,  6,  5, 10,  7, 13])"
      ]
     },
     "execution_count": 166,
     "metadata": {},
     "output_type": "execute_result"
    }
   ],
   "source": [
    "user_click_count['count'].unique()\n"
   ]
  },
  {
   "cell_type": "code",
   "execution_count": 168,
   "id": "94c6b500-7083-4702-986e-c4e62aab139b",
   "metadata": {},
   "outputs": [
    {
     "data": {
      "text/plain": [
       "1     1605541\n",
       "2       11621\n",
       "3         422\n",
       "4          77\n",
       "5          26\n",
       "6          12\n",
       "10          4\n",
       "7           3\n",
       "13          1\n",
       "Name: count, dtype: int64"
      ]
     },
     "execution_count": 168,
     "metadata": {},
     "output_type": "execute_result"
    }
   ],
   "source": [
    "#用户点击新闻次数\n",
    "s = user_click_count.loc[:,'count'].value_counts() \n",
    "s"
   ]
  },
  {
   "cell_type": "markdown",
   "id": "0807bedd-5878-4a63-ad78-7d42cb023520",
   "metadata": {},
   "source": [
    "可以看出：有1605541（约占99.2%）的用户未重复阅读过文章，仅有极少数用户重复点击过某篇文章。 这个也可以单独制作成特征"
   ]
  },
  {
   "cell_type": "code",
   "execution_count": 170,
   "id": "579e3c2e-7858-4bf7-b353-b212e660728d",
   "metadata": {},
   "outputs": [
    {
     "data": {
      "text/plain": [
       "1     99.247948\n",
       "2      0.718362\n",
       "3      0.026086\n",
       "4      0.004760\n",
       "5      0.001607\n",
       "6      0.000742\n",
       "10     0.000247\n",
       "7      0.000185\n",
       "13     0.000062\n",
       "Name: count, dtype: float64"
      ]
     },
     "execution_count": 170,
     "metadata": {},
     "output_type": "execute_result"
    }
   ],
   "source": [
    "user_click_count.loc[:,'count'].value_counts(normalize=True) * 100"
   ]
  },
  {
   "cell_type": "markdown",
   "id": "0558d815-746b-45d5-9bdd-73df041fb10e",
   "metadata": {},
   "source": [
    "## 用户点击环境变化分析"
   ]
  },
  {
   "cell_type": "code",
   "execution_count": 171,
   "id": "b29e81b8-e636-4fa4-837d-178dd21ef50d",
   "metadata": {},
   "outputs": [],
   "source": [
    "def plot_envs(df, cols, r, c):\n",
    "    plt.figure()\n",
    "    plt.figure(figsize=(10, 5))\n",
    "    i = 1\n",
    "    for col in cols:\n",
    "        plt.subplot(r, c, i)\n",
    "        i += 1\n",
    "        v = df[col].value_counts().reset_index()\n",
    "        fig = sns.barplot(x=v['index'], y=v[col])\n",
    "        for item in fig.get_xticklabels():\n",
    "            item.set_rotation(90)\n",
    "        plt.title(col)\n",
    "    plt.tight_layout()\n",
    "    plt.show()\n"
   ]
  },
  {
   "cell_type": "code",
   "execution_count": 174,
   "id": "10471bdc-f169-423d-9664-bfc9ef33e599",
   "metadata": {},
   "outputs": [
    {
     "name": "stdout",
     "output_type": "stream",
     "text": [
      "209794\n"
     ]
    },
    {
     "data": {
      "text/plain": [
       "<Figure size 432x288 with 0 Axes>"
      ]
     },
     "metadata": {},
     "output_type": "display_data"
    },
    {
     "data": {
      "image/png": "[encoded data removed]",
      "text/plain": [
       "<Figure size 720x360 with 6 Axes>"
      ]
     },
     "metadata": {
      "needs_background": "light"
     },
     "output_type": "display_data"
    },
    {
     "name": "stdout",
     "output_type": "stream",
     "text": [
      "211185\n"
     ]
    },
    {
     "data": {
      "text/plain": [
       "<Figure size 432x288 with 0 Axes>"
      ]
     },
     "metadata": {},
     "output_type": "display_data"
    },
    {
     "data": {
      "image/png": "[encoded data removed]",
      "text/plain": [
       "<Figure size 720x360 with 6 Axes>"
      ]
     },
     "metadata": {
      "needs_background": "light"
     },
     "output_type": "display_data"
    },
    {
     "name": "stdout",
     "output_type": "stream",
     "text": [
      "219366\n"
     ]
    },
    {
     "data": {
      "text/plain": [
       "<Figure size 432x288 with 0 Axes>"
      ]
     },
     "metadata": {},
     "output_type": "display_data"
    },
    {
     "data": {
      "image/png": "[encoded data removed]",
      "text/plain": [
       "<Figure size 720x360 with 6 Axes>"
      ]
     },
     "metadata": {
      "needs_background": "light"
     },
     "output_type": "display_data"
    },
    {
     "name": "stdout",
     "output_type": "stream",
     "text": [
      "222621\n"
     ]
    },
    {
     "data": {
      "text/plain": [
       "<Figure size 432x288 with 0 Axes>"
      ]
     },
     "metadata": {},
     "output_type": "display_data"
    },
    {
     "data": {
      "image/png": "[encoded data removed]",
      "text/plain": [
       "<Figure size 720x360 with 6 Axes>"
      ]
     },
     "metadata": {
      "needs_background": "light"
     },
     "output_type": "display_data"
    },
    {
     "name": "stdout",
     "output_type": "stream",
     "text": [
      "234828\n"
     ]
    },
    {
     "data": {
      "text/plain": [
       "<Figure size 432x288 with 0 Axes>"
      ]
     },
     "metadata": {},
     "output_type": "display_data"
    },
    {
     "data": {
      "image/png": "[encoded data removed]",
      "text/plain": [
       "<Figure size 720x360 with 6 Axes>"
      ]
     },
     "metadata": {
      "needs_background": "light"
     },
     "output_type": "display_data"
    },
    {
     "name": "stdout",
     "output_type": "stream",
     "text": [
      "240527\n"
     ]
    },
    {
     "data": {
      "text/plain": [
       "<Figure size 432x288 with 0 Axes>"
      ]
     },
     "metadata": {},
     "output_type": "display_data"
    },
    {
     "data": {
      "image/png": "[encoded data removed]",
      "text/plain": [
       "<Figure size 720x360 with 6 Axes>"
      ]
     },
     "metadata": {
      "needs_background": "light"
     },
     "output_type": "display_data"
    },
    {
     "name": "stdout",
     "output_type": "stream",
     "text": [
      "241731\n"
     ]
    },
    {
     "data": {
      "text/plain": [
       "<Figure size 432x288 with 0 Axes>"
      ]
     },
     "metadata": {},
     "output_type": "display_data"
    },
    {
     "data": {
      "image/png": "[encoded data removed]",
      "text/plain": [
       "<Figure size 720x360 with 6 Axes>"
      ]
     },
     "metadata": {
      "needs_background": "light"
     },
     "output_type": "display_data"
    },
    {
     "name": "stdout",
     "output_type": "stream",
     "text": [
      "243836\n"
     ]
    },
    {
     "data": {
      "text/plain": [
       "<Figure size 432x288 with 0 Axes>"
      ]
     },
     "metadata": {},
     "output_type": "display_data"
    },
    {
     "data": {
      "image/png": "[encoded data removed]",
      "text/plain": [
       "<Figure size 720x360 with 6 Axes>"
      ]
     },
     "metadata": {
      "needs_background": "light"
     },
     "output_type": "display_data"
    },
    {
     "name": "stdout",
     "output_type": "stream",
     "text": [
      "246422\n"
     ]
    },
    {
     "data": {
      "text/plain": [
       "<Figure size 432x288 with 0 Axes>"
      ]
     },
     "metadata": {},
     "output_type": "display_data"
    },
    {
     "data": {
      "image/png": "[encoded data removed]",
      "text/plain": [
       "<Figure size 720x360 with 6 Axes>"
      ]
     },
     "metadata": {
      "needs_background": "light"
     },
     "output_type": "display_data"
    },
    {
     "name": "stdout",
     "output_type": "stream",
     "text": [
      "246594\n"
     ]
    },
    {
     "data": {
      "text/plain": [
       "<Figure size 432x288 with 0 Axes>"
      ]
     },
     "metadata": {},
     "output_type": "display_data"
    },
    {
     "data": {
      "image/png": "[encoded data removed]",
      "text/plain": [
       "<Figure size 720x360 with 6 Axes>"
      ]
     },
     "metadata": {
      "needs_background": "light"
     },
     "output_type": "display_data"
    }
   ],
   "source": [
    "# 分析用户点击环境变化是否明显，这里随机采样10个用户分析这些用户的点击环境分布\n",
    "sample_user_ids = np.random.choice(tst_click['user_id'].unique(), size=10, replace=False)\n",
    "sample_users = user_click_merge[user_click_merge['user_id'].isin(sample_user_ids)]\n",
    "cols = ['click_environment','click_deviceGroup', 'click_os', 'click_country', 'click_region','click_referrer_type']\n",
    "for u, user_df in sample_users.groupby('user_id'):\n",
    "    print(u)\n",
    "    plot_envs(user_df, cols, 2, 3)\n"
   ]
  },
  {
   "cell_type": "markdown",
   "id": "cba53124-af1f-4e97-b8ef-3563c0837aab",
   "metadata": {},
   "source": [
    "可以看出绝大多数数的用户的点击环境是比较固定的。思路：可以基于这些环境的统计特征来代表该用户本身的属性\n",
    "- 就是因為同個使用者在點擊不同文章時的環境因素相對固定, 可以拿來當該使用者屬性"
   ]
  },
  {
   "cell_type": "markdown",
   "id": "f9c2e9f0-a976-416d-9cdb-344101ff096b",
   "metadata": {},
   "source": [
    "## 用户点击新闻数量的分布"
   ]
  },
  {
   "cell_type": "code",
   "execution_count": 28,
   "id": "52e0ec39-4f67-4ab9-9067-0a5347cd04bc",
   "metadata": {},
   "outputs": [
    {
     "data": {
      "text/plain": [
       "[<matplotlib.lines.Line2D at 0x7fe2890e98e0>]"
      ]
     },
     "execution_count": 28,
     "metadata": {},
     "output_type": "execute_result"
    },
    {
     "data": {
      "image/png": "[encoded data removed]",
      "text/plain": [
       "<Figure size 432x288 with 1 Axes>"
      ]
     },
     "metadata": {
      "needs_background": "light"
     },
     "output_type": "display_data"
    }
   ],
   "source": [
    "user_click_item_count = sorted(user_click_merge.groupby('user_id')['click_article_id'].count(), reverse=True)\n",
    "plt.plot(user_click_item_count)\n"
   ]
  },
  {
   "cell_type": "markdown",
   "id": "7d365f75-5529-4a13-a800-4bf0cc817b13",
   "metadata": {},
   "source": [
    "self"
   ]
  },
  {
   "cell_type": "code",
   "execution_count": 179,
   "id": "ed100e1d-a3d9-4d40-82bd-32c55c66e055",
   "metadata": {},
   "outputs": [
    {
     "data": {
      "text/plain": [
       "[938, 782, 361, 326, 259, 245, 243, 242, 241, 219]"
      ]
     },
     "execution_count": 179,
     "metadata": {},
     "output_type": "execute_result"
    }
   ],
   "source": [
    "user_click_item_count[:10]"
   ]
  },
  {
   "cell_type": "code",
   "execution_count": 190,
   "id": "33af1af6-61d3-49f0-b47b-b7df014d24b8",
   "metadata": {},
   "outputs": [
    {
     "data": {
      "text/html": [
       "<div>\n",
       "<style scoped>\n",
       "    .dataframe tbody tr th:only-of-type {\n",
       "        vertical-align: middle;\n",
       "    }\n",
       "\n",
       "    .dataframe tbody tr th {\n",
       "        vertical-align: top;\n",
       "    }\n",
       "\n",
       "    .dataframe thead th {\n",
       "        text-align: right;\n",
       "    }\n",
       "</style>\n",
       "<table border=\"1\" class=\"dataframe\">\n",
       "  <thead>\n",
       "    <tr style=\"text-align: right;\">\n",
       "      <th></th>\n",
       "      <th>u</th>\n",
       "      <th>a</th>\n",
       "      <th>x</th>\n",
       "    </tr>\n",
       "  </thead>\n",
       "  <tbody>\n",
       "    <tr>\n",
       "      <th>0</th>\n",
       "      <td>249322</td>\n",
       "      <td>938</td>\n",
       "      <td>0</td>\n",
       "    </tr>\n",
       "    <tr>\n",
       "      <th>1</th>\n",
       "      <td>242546</td>\n",
       "      <td>782</td>\n",
       "      <td>1</td>\n",
       "    </tr>\n",
       "    <tr>\n",
       "      <th>2</th>\n",
       "      <td>239302</td>\n",
       "      <td>361</td>\n",
       "      <td>2</td>\n",
       "    </tr>\n",
       "    <tr>\n",
       "      <th>3</th>\n",
       "      <td>245163</td>\n",
       "      <td>326</td>\n",
       "      <td>3</td>\n",
       "    </tr>\n",
       "    <tr>\n",
       "      <th>4</th>\n",
       "      <td>240519</td>\n",
       "      <td>259</td>\n",
       "      <td>4</td>\n",
       "    </tr>\n",
       "  </tbody>\n",
       "</table>\n",
       "</div>"
      ],
      "text/plain": [
       "        u    a  x\n",
       "0  249322  938  0\n",
       "1  242546  782  1\n",
       "2  239302  361  2\n",
       "3  245163  326  3\n",
       "4  240519  259  4"
      ]
     },
     "execution_count": 190,
     "metadata": {},
     "output_type": "execute_result"
    }
   ],
   "source": [
    "merge = train.append(test)\n",
    "d = merge.groupby('u')['a'].count().nlargest(50).reset_index()\n",
    "d['x'] = range(len(d))\n",
    "d.head()"
   ]
  },
  {
   "cell_type": "code",
   "execution_count": 191,
   "id": "e5591649-4985-43d3-9b8f-19292cf9938f",
   "metadata": {},
   "outputs": [
    {
     "data": {
      "text/html": [
       "\n",
       "<div id=\"altair-viz-85bc2351f3bf4b228174f9ed600544c6\"></div>\n",
       "<script type=\"text/javascript\">\n",
       "  var VEGA_DEBUG = (typeof VEGA_DEBUG == \"undefined\") ? {} : VEGA_DEBUG;\n",
       "  (function(spec, embedOpt){\n",
       "    let outputDiv = document.currentScript.previousElementSibling;\n",
       "    if (outputDiv.id !== \"altair-viz-85bc2351f3bf4b228174f9ed600544c6\") {\n",
       "      outputDiv = document.getElementById(\"altair-viz-85bc2351f3bf4b228174f9ed600544c6\");\n",
       "    }\n",
       "    const paths = {\n",
       "      \"vega\": \"https://cdn.jsdelivr.net/npm//vega@5?noext\",\n",
       "      \"vega-lib\": \"https://cdn.jsdelivr.net/npm//vega-lib?noext\",\n",
       "      \"vega-lite\": \"https://cdn.jsdelivr.net/npm//vega-lite@4.17.0?noext\",\n",
       "      \"vega-embed\": \"https://cdn.jsdelivr.net/npm//vega-embed@6?noext\",\n",
       "    };\n",
       "\n",
       "    function maybeLoadScript(lib, version) {\n",
       "      var key = `${lib.replace(\"-\", \"\")}_version`;\n",
       "      return (VEGA_DEBUG[key] == version) ?\n",
       "        Promise.resolve(paths[lib]) :\n",
       "        new Promise(function(resolve, reject) {\n",
       "          var s = document.createElement('script');\n",
       "          document.getElementsByTagName(\"head\")[0].appendChild(s);\n",
       "          s.async = true;\n",
       "          s.onload = () => {\n",
       "            VEGA_DEBUG[key] = version;\n",
       "            return resolve(paths[lib]);\n",
       "          };\n",
       "          s.onerror = () => reject(`Error loading script: ${paths[lib]}`);\n",
       "          s.src = paths[lib];\n",
       "        });\n",
       "    }\n",
       "\n",
       "    function showError(err) {\n",
       "      outputDiv.innerHTML = `<div class=\"error\" style=\"color:red;\">${err}</div>`;\n",
       "      throw err;\n",
       "    }\n",
       "\n",
       "    function displayChart(vegaEmbed) {\n",
       "      vegaEmbed(outputDiv, spec, embedOpt)\n",
       "        .catch(err => showError(`Javascript Error: ${err.message}<br>This usually means there's a typo in your chart specification. See the javascript console for the full traceback.`));\n",
       "    }\n",
       "\n",
       "    if(typeof define === \"function\" && define.amd) {\n",
       "      requirejs.config({paths});\n",
       "      require([\"vega-embed\"], displayChart, err => showError(`Error loading script: ${err.message}`));\n",
       "    } else {\n",
       "      maybeLoadScript(\"vega\", \"5\")\n",
       "        .then(() => maybeLoadScript(\"vega-lite\", \"4.17.0\"))\n",
       "        .then(() => maybeLoadScript(\"vega-embed\", \"6\"))\n",
       "        .catch(showError)\n",
       "        .then(() => displayChart(vegaEmbed));\n",
       "    }\n",
       "  })({\"config\": {\"view\": {\"continuousWidth\": 400, \"continuousHeight\": 300}}, \"data\": {\"name\": \"data-0c29c8065c0e070353a114789e17cb9b\"}, \"mark\": \"line\", \"encoding\": {\"x\": {\"field\": \"x\", \"type\": \"quantitative\"}, \"y\": {\"field\": \"a\", \"type\": \"quantitative\"}}, \"$schema\": \"https://vega.github.io/schema/vega-lite/v4.17.0.json\", \"datasets\": {\"data-0c29c8065c0e070353a114789e17cb9b\": [{\"u\": 249322, \"a\": 938, \"x\": 0}, {\"u\": 242546, \"a\": 782, \"x\": 1}, {\"u\": 239302, \"a\": 361, \"x\": 2}, {\"u\": 245163, \"a\": 326, \"x\": 3}, {\"u\": 240519, \"a\": 259, \"x\": 4}, {\"u\": 236293, \"a\": 245, \"x\": 5}, {\"u\": 246465, \"a\": 243, \"x\": 6}, {\"u\": 249586, \"a\": 242, \"x\": 7}, {\"u\": 185083, \"a\": 241, \"x\": 8}, {\"u\": 238986, \"a\": 219, \"x\": 9}, {\"u\": 244911, \"a\": 217, \"x\": 10}, {\"u\": 143986, \"a\": 212, \"x\": 11}, {\"u\": 225329, \"a\": 191, \"x\": 12}, {\"u\": 244738, \"a\": 190, \"x\": 13}, {\"u\": 213540, \"a\": 185, \"x\": 14}, {\"u\": 237985, \"a\": 185, \"x\": 15}, {\"u\": 220971, \"a\": 184, \"x\": 16}, {\"u\": 193264, \"a\": 180, \"x\": 17}, {\"u\": 150481, \"a\": 175, \"x\": 18}, {\"u\": 179488, \"a\": 175, \"x\": 19}, {\"u\": 221974, \"a\": 175, \"x\": 20}, {\"u\": 194859, \"a\": 174, \"x\": 21}, {\"u\": 247333, \"a\": 168, \"x\": 22}, {\"u\": 191288, \"a\": 167, \"x\": 23}, {\"u\": 246938, \"a\": 163, \"x\": 24}, {\"u\": 195300, \"a\": 161, \"x\": 25}, {\"u\": 167892, \"a\": 160, \"x\": 26}, {\"u\": 228421, \"a\": 160, \"x\": 27}, {\"u\": 230385, \"a\": 158, \"x\": 28}, {\"u\": 249894, \"a\": 158, \"x\": 29}, {\"u\": 236689, \"a\": 157, \"x\": 30}, {\"u\": 248724, \"a\": 156, \"x\": 31}, {\"u\": 230547, \"a\": 155, \"x\": 32}, {\"u\": 233387, \"a\": 155, \"x\": 33}, {\"u\": 182599, \"a\": 154, \"x\": 34}, {\"u\": 158914, \"a\": 152, \"x\": 35}, {\"u\": 249039, \"a\": 152, \"x\": 36}, {\"u\": 213542, \"a\": 151, \"x\": 37}, {\"u\": 247372, \"a\": 149, \"x\": 38}, {\"u\": 203125, \"a\": 143, \"x\": 39}, {\"u\": 243479, \"a\": 141, \"x\": 40}, {\"u\": 238972, \"a\": 139, \"x\": 41}, {\"u\": 240568, \"a\": 138, \"x\": 42}, {\"u\": 234688, \"a\": 137, \"x\": 43}, {\"u\": 225403, \"a\": 136, \"x\": 44}, {\"u\": 98571, \"a\": 135, \"x\": 45}, {\"u\": 166168, \"a\": 135, \"x\": 46}, {\"u\": 235752, \"a\": 135, \"x\": 47}, {\"u\": 245552, \"a\": 135, \"x\": 48}, {\"u\": 171731, \"a\": 134, \"x\": 49}]}}, {\"mode\": \"vega-lite\"});\n",
       "</script>"
      ],
      "text/plain": [
       "alt.Chart(...)"
      ]
     },
     "execution_count": 191,
     "metadata": {},
     "output_type": "execute_result"
    }
   ],
   "source": [
    "alt.Chart(d).mark_line().encode(\n",
    "    x='x',\n",
    "    y='a:Q'\n",
    ")"
   ]
  },
  {
   "cell_type": "markdown",
   "id": "9c905e49-4ea4-4c06-8bc6-17b391d3fd1f",
   "metadata": {},
   "source": [
    "可以根据用户的点击文章次数看出用户的活跃度"
   ]
  },
  {
   "cell_type": "code",
   "execution_count": 180,
   "id": "a155a4fb-3b3b-4bbf-a153-d6a1214fabfe",
   "metadata": {},
   "outputs": [
    {
     "data": {
      "text/plain": [
       "[<matplotlib.lines.Line2D at 0x7fe28b0bd190>]"
      ]
     },
     "execution_count": 180,
     "metadata": {},
     "output_type": "execute_result"
    },
    {
     "data": {
      "image/png": "[encoded data removed]",
      "text/plain": [
       "<Figure size 432x288 with 1 Axes>"
      ]
     },
     "metadata": {
      "needs_background": "light"
     },
     "output_type": "display_data"
    }
   ],
   "source": [
    "#点击次数在前50的用户\n",
    "plt.plot(user_click_item_count[:50])\n"
   ]
  },
  {
   "cell_type": "markdown",
   "id": "d5ec5e9c-348b-4640-83b4-032cd81290be",
   "metadata": {},
   "source": [
    "点击次数排前50的用户的点击次数都在100次以上。思路：我们可以定义点击次数大于等于100次的用户为活跃用户，这是一种简单的处理思路， 判断用户活跃度，更加全面的是再结合上点击时间，后面我们会基于点击次数和点击时间两个方面来判断用户活跃度。"
   ]
  },
  {
   "cell_type": "code",
   "execution_count": 192,
   "id": "79a9a2ee-a27a-48fb-9a2a-52477c31c0f2",
   "metadata": {},
   "outputs": [
    {
     "data": {
      "text/plain": [
       "[<matplotlib.lines.Line2D at 0x7fe22804e7f0>]"
      ]
     },
     "execution_count": 192,
     "metadata": {},
     "output_type": "execute_result"
    },
    {
     "data": {
      "image/png": "[encoded data removed]",
      "text/plain": [
       "<Figure size 432x288 with 1 Axes>"
      ]
     },
     "metadata": {
      "needs_background": "light"
     },
     "output_type": "display_data"
    }
   ],
   "source": [
    "#点击次数排名在[25000:50000]之间\n",
    "plt.plot(user_click_item_count[25000:50000])\n"
   ]
  },
  {
   "cell_type": "markdown",
   "id": "4806bf48-4c4d-4d9a-8886-224122039d84",
   "metadata": {},
   "source": [
    "可以看出点击次数小于等于两次的用户非常的多，这些用户可以认为是非活跃用户"
   ]
  },
  {
   "cell_type": "code",
   "execution_count": 193,
   "id": "9de37c8d-9524-49be-b598-07a56c50209f",
   "metadata": {},
   "outputs": [
    {
     "data": {
      "text/plain": [
       "[14, 14, 14, 14, 14, 14, 14, 14, 14, 14]"
      ]
     },
     "execution_count": 193,
     "metadata": {},
     "output_type": "execute_result"
    }
   ],
   "source": [
    "user_click_item_count[25000:25010]"
   ]
  },
  {
   "cell_type": "markdown",
   "id": "53dd9ee0-e87d-4e09-a0c9-c2327b832070",
   "metadata": {},
   "source": [
    "## 新闻点击次数分析"
   ]
  },
  {
   "cell_type": "code",
   "execution_count": 194,
   "id": "16b8b9a4-9afb-4abf-b074-319b7a4e941a",
   "metadata": {},
   "outputs": [],
   "source": [
    "item_click_count = sorted(user_click_merge.groupby('click_article_id')['user_id'].count(), reverse=True)\n"
   ]
  },
  {
   "cell_type": "code",
   "execution_count": 195,
   "id": "d31a348e-01c8-402e-91c6-50e588862baa",
   "metadata": {},
   "outputs": [
    {
     "data": {
      "text/plain": [
       "[<matplotlib.lines.Line2D at 0x7fe24825dfa0>]"
      ]
     },
     "execution_count": 195,
     "metadata": {},
     "output_type": "execute_result"
    },
    {
     "data": {
      "image/png": "[encoded data removed]",
      "text/plain": [
       "<Figure size 432x288 with 1 Axes>"
      ]
     },
     "metadata": {
      "needs_background": "light"
     },
     "output_type": "display_data"
    }
   ],
   "source": [
    "plt.plot(item_click_count)\n"
   ]
  },
  {
   "cell_type": "code",
   "execution_count": 196,
   "id": "491fc6da-cb77-4d6b-afb1-25fed5a31b7f",
   "metadata": {},
   "outputs": [
    {
     "data": {
      "text/plain": [
       "[<matplotlib.lines.Line2D at 0x7fe07a4321c0>]"
      ]
     },
     "execution_count": 196,
     "metadata": {},
     "output_type": "execute_result"
    },
    {
     "data": {
      "image/png": "[encoded data removed]",
      "text/plain": [
       "<Figure size 432x288 with 1 Axes>"
      ]
     },
     "metadata": {
      "needs_background": "light"
     },
     "output_type": "display_data"
    }
   ],
   "source": [
    "plt.plot(item_click_count[:100])\n"
   ]
  },
  {
   "cell_type": "markdown",
   "id": "785c92fe-dd00-4529-b830-15148566e5fa",
   "metadata": {},
   "source": [
    "可以看出点击次数最多的前100篇新闻，点击次数大于1000次"
   ]
  },
  {
   "cell_type": "code",
   "execution_count": 197,
   "id": "21e04fcd-7751-4ca1-b2be-e26540b0a8e0",
   "metadata": {},
   "outputs": [
    {
     "data": {
      "text/plain": [
       "[<matplotlib.lines.Line2D at 0x7fe2313b6520>]"
      ]
     },
     "execution_count": 197,
     "metadata": {},
     "output_type": "execute_result"
    },
    {
     "data": {
      "image/png": "[encoded data removed]",
      "text/plain": [
       "<Figure size 432x288 with 1 Axes>"
      ]
     },
     "metadata": {
      "needs_background": "light"
     },
     "output_type": "display_data"
    }
   ],
   "source": [
    "plt.plot(item_click_count[:20])"
   ]
  },
  {
   "cell_type": "markdown",
   "id": "0b1ea83c-69b4-443e-b748-b2ea5c685cef",
   "metadata": {},
   "source": [
    "点击次数最多的前20篇新闻，点击次数大于2500。思路：可以定义这些新闻为热门新闻， 这个也是简单的处理方式，后面我们也是根据点击次数和时间进行文章热度的一个划分。"
   ]
  },
  {
   "cell_type": "code",
   "execution_count": 198,
   "id": "20da720b-09b9-419d-8cfb-69c46604106e",
   "metadata": {},
   "outputs": [
    {
     "data": {
      "text/plain": [
       "[<matplotlib.lines.Line2D at 0x7fe07a643df0>]"
      ]
     },
     "execution_count": 198,
     "metadata": {},
     "output_type": "execute_result"
    },
    {
     "data": {
      "image/png": "[encoded data removed]",
      "text/plain": [
       "<Figure size 432x288 with 1 Axes>"
      ]
     },
     "metadata": {
      "needs_background": "light"
     },
     "output_type": "display_data"
    }
   ],
   "source": [
    "plt.plot(item_click_count[3500:])\n"
   ]
  },
  {
   "cell_type": "markdown",
   "id": "02cbb85b-96c0-4f1a-951f-945f0cce3968",
   "metadata": {},
   "source": [
    "可以发现很多新闻只被点击过一两次。思路：可以定义这些新闻是冷门新闻。"
   ]
  },
  {
   "cell_type": "markdown",
   "id": "5fcca832-5db6-4870-a50c-afa53f94e51f",
   "metadata": {},
   "source": [
    "## 新闻共现频次：两篇新闻连续出现的次数"
   ]
  },
  {
   "cell_type": "code",
   "execution_count": 199,
   "id": "8082e7c3-13c9-42d5-8a2c-60af88ccb43e",
   "metadata": {},
   "outputs": [
    {
     "data": {
      "text/html": [
       "<div>\n",
       "<style scoped>\n",
       "    .dataframe tbody tr th:only-of-type {\n",
       "        vertical-align: middle;\n",
       "    }\n",
       "\n",
       "    .dataframe tbody tr th {\n",
       "        vertical-align: top;\n",
       "    }\n",
       "\n",
       "    .dataframe thead th {\n",
       "        text-align: right;\n",
       "    }\n",
       "</style>\n",
       "<table border=\"1\" class=\"dataframe\">\n",
       "  <thead>\n",
       "    <tr style=\"text-align: right;\">\n",
       "      <th></th>\n",
       "      <th>count</th>\n",
       "    </tr>\n",
       "  </thead>\n",
       "  <tbody>\n",
       "    <tr>\n",
       "      <th>count</th>\n",
       "      <td>433597.000000</td>\n",
       "    </tr>\n",
       "    <tr>\n",
       "      <th>mean</th>\n",
       "      <td>3.184139</td>\n",
       "    </tr>\n",
       "    <tr>\n",
       "      <th>std</th>\n",
       "      <td>18.851753</td>\n",
       "    </tr>\n",
       "    <tr>\n",
       "      <th>min</th>\n",
       "      <td>1.000000</td>\n",
       "    </tr>\n",
       "    <tr>\n",
       "      <th>25%</th>\n",
       "      <td>1.000000</td>\n",
       "    </tr>\n",
       "    <tr>\n",
       "      <th>50%</th>\n",
       "      <td>1.000000</td>\n",
       "    </tr>\n",
       "    <tr>\n",
       "      <th>75%</th>\n",
       "      <td>2.000000</td>\n",
       "    </tr>\n",
       "    <tr>\n",
       "      <th>max</th>\n",
       "      <td>2202.000000</td>\n",
       "    </tr>\n",
       "  </tbody>\n",
       "</table>\n",
       "</div>"
      ],
      "text/plain": [
       "               count\n",
       "count  433597.000000\n",
       "mean        3.184139\n",
       "std        18.851753\n",
       "min         1.000000\n",
       "25%         1.000000\n",
       "50%         1.000000\n",
       "75%         2.000000\n",
       "max      2202.000000"
      ]
     },
     "execution_count": 199,
     "metadata": {},
     "output_type": "execute_result"
    }
   ],
   "source": [
    "tmp = user_click_merge.sort_values('click_timestamp')\n",
    "tmp['next_item'] = tmp.groupby(['user_id'])['click_article_id'].transform(lambda x:x.shift(-1))\n",
    "union_item = tmp.groupby(['click_article_id','next_item'])['click_timestamp'].agg({'count'})\\\n",
    "    .reset_index().sort_values('count', ascending=False)\n",
    "union_item[['count']].describe()\n"
   ]
  },
  {
   "cell_type": "code",
   "execution_count": 204,
   "id": "5b30bc78-7006-4cf8-883a-6018227fed1d",
   "metadata": {},
   "outputs": [
    {
     "data": {
      "text/html": [
       "<div>\n",
       "<style scoped>\n",
       "    .dataframe tbody tr th:only-of-type {\n",
       "        vertical-align: middle;\n",
       "    }\n",
       "\n",
       "    .dataframe tbody tr th {\n",
       "        vertical-align: top;\n",
       "    }\n",
       "\n",
       "    .dataframe thead th {\n",
       "        text-align: right;\n",
       "    }\n",
       "</style>\n",
       "<table border=\"1\" class=\"dataframe\">\n",
       "  <thead>\n",
       "    <tr style=\"text-align: right;\">\n",
       "      <th></th>\n",
       "      <th>u</th>\n",
       "      <th>a</th>\n",
       "      <th>ts</th>\n",
       "      <th>env</th>\n",
       "      <th>device</th>\n",
       "      <th>os</th>\n",
       "      <th>country</th>\n",
       "      <th>region</th>\n",
       "      <th>referrer</th>\n",
       "      <th>rank</th>\n",
       "      <th>nc</th>\n",
       "      <th>c</th>\n",
       "      <th>ts_created</th>\n",
       "      <th>w_cnt</th>\n",
       "    </tr>\n",
       "  </thead>\n",
       "  <tbody>\n",
       "    <tr>\n",
       "      <th>18</th>\n",
       "      <td>249990</td>\n",
       "      <td>162300</td>\n",
       "      <td>1506959050386</td>\n",
       "      <td>4</td>\n",
       "      <td>3</td>\n",
       "      <td>20</td>\n",
       "      <td>1</td>\n",
       "      <td>25</td>\n",
       "      <td>2</td>\n",
       "      <td>5</td>\n",
       "      <td>5</td>\n",
       "      <td>281</td>\n",
       "      <td>1506945129000</td>\n",
       "      <td>193</td>\n",
       "    </tr>\n",
       "    <tr>\n",
       "      <th>19</th>\n",
       "      <td>249990</td>\n",
       "      <td>160974</td>\n",
       "      <td>1506959080386</td>\n",
       "      <td>4</td>\n",
       "      <td>3</td>\n",
       "      <td>20</td>\n",
       "      <td>1</td>\n",
       "      <td>25</td>\n",
       "      <td>2</td>\n",
       "      <td>4</td>\n",
       "      <td>5</td>\n",
       "      <td>281</td>\n",
       "      <td>1506912747000</td>\n",
       "      <td>259</td>\n",
       "    </tr>\n",
       "    <tr>\n",
       "      <th>291372</th>\n",
       "      <td>249990</td>\n",
       "      <td>284985</td>\n",
       "      <td>1507399510630</td>\n",
       "      <td>4</td>\n",
       "      <td>3</td>\n",
       "      <td>20</td>\n",
       "      <td>1</td>\n",
       "      <td>25</td>\n",
       "      <td>2</td>\n",
       "      <td>3</td>\n",
       "      <td>5</td>\n",
       "      <td>412</td>\n",
       "      <td>1507356061000</td>\n",
       "      <td>184</td>\n",
       "    </tr>\n",
       "    <tr>\n",
       "      <th>291373</th>\n",
       "      <td>249990</td>\n",
       "      <td>286379</td>\n",
       "      <td>1507399540630</td>\n",
       "      <td>4</td>\n",
       "      <td>3</td>\n",
       "      <td>20</td>\n",
       "      <td>1</td>\n",
       "      <td>25</td>\n",
       "      <td>2</td>\n",
       "      <td>2</td>\n",
       "      <td>5</td>\n",
       "      <td>412</td>\n",
       "      <td>1507380570000</td>\n",
       "      <td>174</td>\n",
       "    </tr>\n",
       "    <tr>\n",
       "      <th>450779</th>\n",
       "      <td>249990</td>\n",
       "      <td>20691</td>\n",
       "      <td>1507861397492</td>\n",
       "      <td>4</td>\n",
       "      <td>3</td>\n",
       "      <td>20</td>\n",
       "      <td>1</td>\n",
       "      <td>25</td>\n",
       "      <td>2</td>\n",
       "      <td>1</td>\n",
       "      <td>5</td>\n",
       "      <td>9</td>\n",
       "      <td>1507826236000</td>\n",
       "      <td>226</td>\n",
       "    </tr>\n",
       "  </tbody>\n",
       "</table>\n",
       "</div>"
      ],
      "text/plain": [
       "             u       a             ts  env  device  os  country  region  \\\n",
       "18      249990  162300  1506959050386    4       3  20        1      25   \n",
       "19      249990  160974  1506959080386    4       3  20        1      25   \n",
       "291372  249990  284985  1507399510630    4       3  20        1      25   \n",
       "291373  249990  286379  1507399540630    4       3  20        1      25   \n",
       "450779  249990   20691  1507861397492    4       3  20        1      25   \n",
       "\n",
       "        referrer  rank  nc    c     ts_created  w_cnt  \n",
       "18             2     5   5  281  1506945129000    193  \n",
       "19             2     4   5  281  1506912747000    259  \n",
       "291372         2     3   5  412  1507356061000    184  \n",
       "291373         2     2   5  412  1507380570000    174  \n",
       "450779         2     1   5    9  1507826236000    226  "
      ]
     },
     "execution_count": 204,
     "metadata": {},
     "output_type": "execute_result"
    }
   ],
   "source": [
    "d = merge[merge.u == 249990]\n",
    "d"
   ]
  },
  {
   "cell_type": "code",
   "execution_count": 205,
   "id": "9e5976df-b68d-4f72-b6b2-c141c9b4b525",
   "metadata": {},
   "outputs": [
    {
     "data": {
      "text/html": [
       "<div>\n",
       "<style scoped>\n",
       "    .dataframe tbody tr th:only-of-type {\n",
       "        vertical-align: middle;\n",
       "    }\n",
       "\n",
       "    .dataframe tbody tr th {\n",
       "        vertical-align: top;\n",
       "    }\n",
       "\n",
       "    .dataframe thead th {\n",
       "        text-align: right;\n",
       "    }\n",
       "</style>\n",
       "<table border=\"1\" class=\"dataframe\">\n",
       "  <thead>\n",
       "    <tr style=\"text-align: right;\">\n",
       "      <th></th>\n",
       "      <th>user_id</th>\n",
       "      <th>click_article_id</th>\n",
       "      <th>click_timestamp</th>\n",
       "      <th>click_environment</th>\n",
       "      <th>click_deviceGroup</th>\n",
       "      <th>click_os</th>\n",
       "      <th>click_country</th>\n",
       "      <th>click_region</th>\n",
       "      <th>click_referrer_type</th>\n",
       "      <th>rank</th>\n",
       "      <th>click_cnts</th>\n",
       "      <th>category_id</th>\n",
       "      <th>created_at_ts</th>\n",
       "      <th>words_count</th>\n",
       "      <th>next_item</th>\n",
       "    </tr>\n",
       "  </thead>\n",
       "  <tbody>\n",
       "    <tr>\n",
       "      <th>18</th>\n",
       "      <td>249990</td>\n",
       "      <td>162300</td>\n",
       "      <td>1506959050386</td>\n",
       "      <td>4</td>\n",
       "      <td>3</td>\n",
       "      <td>20</td>\n",
       "      <td>1</td>\n",
       "      <td>25</td>\n",
       "      <td>2</td>\n",
       "      <td>5</td>\n",
       "      <td>5</td>\n",
       "      <td>281.0</td>\n",
       "      <td>1.506945e+12</td>\n",
       "      <td>193.0</td>\n",
       "      <td>160974.0</td>\n",
       "    </tr>\n",
       "    <tr>\n",
       "      <th>19</th>\n",
       "      <td>249990</td>\n",
       "      <td>160974</td>\n",
       "      <td>1506959080386</td>\n",
       "      <td>4</td>\n",
       "      <td>3</td>\n",
       "      <td>20</td>\n",
       "      <td>1</td>\n",
       "      <td>25</td>\n",
       "      <td>2</td>\n",
       "      <td>4</td>\n",
       "      <td>5</td>\n",
       "      <td>281.0</td>\n",
       "      <td>1.506913e+12</td>\n",
       "      <td>259.0</td>\n",
       "      <td>284985.0</td>\n",
       "    </tr>\n",
       "    <tr>\n",
       "      <th>291372</th>\n",
       "      <td>249990</td>\n",
       "      <td>284985</td>\n",
       "      <td>1507399510630</td>\n",
       "      <td>4</td>\n",
       "      <td>3</td>\n",
       "      <td>20</td>\n",
       "      <td>1</td>\n",
       "      <td>25</td>\n",
       "      <td>2</td>\n",
       "      <td>3</td>\n",
       "      <td>5</td>\n",
       "      <td>412.0</td>\n",
       "      <td>1.507356e+12</td>\n",
       "      <td>184.0</td>\n",
       "      <td>286379.0</td>\n",
       "    </tr>\n",
       "    <tr>\n",
       "      <th>291373</th>\n",
       "      <td>249990</td>\n",
       "      <td>286379</td>\n",
       "      <td>1507399540630</td>\n",
       "      <td>4</td>\n",
       "      <td>3</td>\n",
       "      <td>20</td>\n",
       "      <td>1</td>\n",
       "      <td>25</td>\n",
       "      <td>2</td>\n",
       "      <td>2</td>\n",
       "      <td>5</td>\n",
       "      <td>412.0</td>\n",
       "      <td>1.507381e+12</td>\n",
       "      <td>174.0</td>\n",
       "      <td>20691.0</td>\n",
       "    </tr>\n",
       "    <tr>\n",
       "      <th>450779</th>\n",
       "      <td>249990</td>\n",
       "      <td>20691</td>\n",
       "      <td>1507861397492</td>\n",
       "      <td>4</td>\n",
       "      <td>3</td>\n",
       "      <td>20</td>\n",
       "      <td>1</td>\n",
       "      <td>25</td>\n",
       "      <td>2</td>\n",
       "      <td>1</td>\n",
       "      <td>5</td>\n",
       "      <td>9.0</td>\n",
       "      <td>1.507826e+12</td>\n",
       "      <td>226.0</td>\n",
       "      <td>NaN</td>\n",
       "    </tr>\n",
       "  </tbody>\n",
       "</table>\n",
       "</div>"
      ],
      "text/plain": [
       "        user_id  click_article_id  click_timestamp  click_environment  \\\n",
       "18       249990            162300    1506959050386                  4   \n",
       "19       249990            160974    1506959080386                  4   \n",
       "291372   249990            284985    1507399510630                  4   \n",
       "291373   249990            286379    1507399540630                  4   \n",
       "450779   249990             20691    1507861397492                  4   \n",
       "\n",
       "        click_deviceGroup  click_os  click_country  click_region  \\\n",
       "18                      3        20              1            25   \n",
       "19                      3        20              1            25   \n",
       "291372                  3        20              1            25   \n",
       "291373                  3        20              1            25   \n",
       "450779                  3        20              1            25   \n",
       "\n",
       "        click_referrer_type  rank  click_cnts  category_id  created_at_ts  \\\n",
       "18                        2     5           5        281.0   1.506945e+12   \n",
       "19                        2     4           5        281.0   1.506913e+12   \n",
       "291372                    2     3           5        412.0   1.507356e+12   \n",
       "291373                    2     2           5        412.0   1.507381e+12   \n",
       "450779                    2     1           5          9.0   1.507826e+12   \n",
       "\n",
       "        words_count  next_item  \n",
       "18            193.0   160974.0  \n",
       "19            259.0   284985.0  \n",
       "291372        184.0   286379.0  \n",
       "291373        174.0    20691.0  \n",
       "450779        226.0        NaN  "
      ]
     },
     "execution_count": 205,
     "metadata": {},
     "output_type": "execute_result"
    }
   ],
   "source": [
    "tmp[tmp.user_id == 249990]"
   ]
  },
  {
   "cell_type": "code",
   "execution_count": 206,
   "id": "a0633c21-a229-426b-9659-3940a0112dc9",
   "metadata": {},
   "outputs": [
    {
     "data": {
      "text/plain": [
       "18        160974.0\n",
       "19        284985.0\n",
       "291372    286379.0\n",
       "291373     20691.0\n",
       "450779         NaN\n",
       "Name: a, dtype: float64"
      ]
     },
     "execution_count": 206,
     "metadata": {},
     "output_type": "execute_result"
    }
   ],
   "source": [
    "d.a.shift(-1)"
   ]
  },
  {
   "cell_type": "code",
   "execution_count": 210,
   "id": "15d4a116-619e-40fc-9515-3cb19edb2ef7",
   "metadata": {},
   "outputs": [
    {
     "data": {
      "text/plain": [
       "5.097572268518518"
      ]
     },
     "execution_count": 210,
     "metadata": {},
     "output_type": "execute_result"
    }
   ],
   "source": [
    "(1507399510630 - 1506959080386) / 1000 / 60 / 60 / 24"
   ]
  },
  {
   "cell_type": "code",
   "execution_count": 212,
   "id": "1d546355-646d-47dc-a181-436b365ea0e9",
   "metadata": {},
   "outputs": [
    {
     "data": {
      "text/html": [
       "<div>\n",
       "<style scoped>\n",
       "    .dataframe tbody tr th:only-of-type {\n",
       "        vertical-align: middle;\n",
       "    }\n",
       "\n",
       "    .dataframe tbody tr th {\n",
       "        vertical-align: top;\n",
       "    }\n",
       "\n",
       "    .dataframe thead th {\n",
       "        text-align: right;\n",
       "    }\n",
       "</style>\n",
       "<table border=\"1\" class=\"dataframe\">\n",
       "  <thead>\n",
       "    <tr style=\"text-align: right;\">\n",
       "      <th></th>\n",
       "      <th>click_article_id</th>\n",
       "      <th>next_item</th>\n",
       "      <th>count</th>\n",
       "    </tr>\n",
       "  </thead>\n",
       "  <tbody>\n",
       "    <tr>\n",
       "      <th>184979</th>\n",
       "      <td>162300</td>\n",
       "      <td>160974.0</td>\n",
       "      <td>285</td>\n",
       "    </tr>\n",
       "    <tr>\n",
       "      <th>184963</th>\n",
       "      <td>162300</td>\n",
       "      <td>158536.0</td>\n",
       "      <td>107</td>\n",
       "    </tr>\n",
       "    <tr>\n",
       "      <th>184975</th>\n",
       "      <td>162300</td>\n",
       "      <td>160417.0</td>\n",
       "      <td>49</td>\n",
       "    </tr>\n",
       "    <tr>\n",
       "      <th>184991</th>\n",
       "      <td>162300</td>\n",
       "      <td>162655.0</td>\n",
       "      <td>47</td>\n",
       "    </tr>\n",
       "    <tr>\n",
       "      <th>185125</th>\n",
       "      <td>162300</td>\n",
       "      <td>300470.0</td>\n",
       "      <td>37</td>\n",
       "    </tr>\n",
       "    <tr>\n",
       "      <th>...</th>\n",
       "      <td>...</td>\n",
       "      <td>...</td>\n",
       "      <td>...</td>\n",
       "    </tr>\n",
       "    <tr>\n",
       "      <th>185086</th>\n",
       "      <td>162300</td>\n",
       "      <td>275069.0</td>\n",
       "      <td>1</td>\n",
       "    </tr>\n",
       "    <tr>\n",
       "      <th>185085</th>\n",
       "      <td>162300</td>\n",
       "      <td>273616.0</td>\n",
       "      <td>1</td>\n",
       "    </tr>\n",
       "    <tr>\n",
       "      <th>185081</th>\n",
       "      <td>162300</td>\n",
       "      <td>260931.0</td>\n",
       "      <td>1</td>\n",
       "    </tr>\n",
       "    <tr>\n",
       "      <th>185080</th>\n",
       "      <td>162300</td>\n",
       "      <td>257291.0</td>\n",
       "      <td>1</td>\n",
       "    </tr>\n",
       "    <tr>\n",
       "      <th>185078</th>\n",
       "      <td>162300</td>\n",
       "      <td>243328.0</td>\n",
       "      <td>1</td>\n",
       "    </tr>\n",
       "  </tbody>\n",
       "</table>\n",
       "<p>288 rows × 3 columns</p>\n",
       "</div>"
      ],
      "text/plain": [
       "        click_article_id  next_item  count\n",
       "184979            162300   160974.0    285\n",
       "184963            162300   158536.0    107\n",
       "184975            162300   160417.0     49\n",
       "184991            162300   162655.0     47\n",
       "185125            162300   300470.0     37\n",
       "...                  ...        ...    ...\n",
       "185086            162300   275069.0      1\n",
       "185085            162300   273616.0      1\n",
       "185081            162300   260931.0      1\n",
       "185080            162300   257291.0      1\n",
       "185078            162300   243328.0      1\n",
       "\n",
       "[288 rows x 3 columns]"
      ]
     },
     "execution_count": 212,
     "metadata": {},
     "output_type": "execute_result"
    }
   ],
   "source": [
    "union_item[union_item.click_article_id == 162300]"
   ]
  },
  {
   "cell_type": "markdown",
   "id": "2f68b878-f31e-45a6-bae2-deb833326b92",
   "metadata": {},
   "source": [
    "由统计数据可以看出，平均共现次数2.88，最高为1687。\n",
    "\n",
    "说明用户看的新闻，相关性是比较强的。"
   ]
  },
  {
   "cell_type": "code",
   "execution_count": 37,
   "id": "fa718c38-2503-4a32-b522-f97afc223bee",
   "metadata": {},
   "outputs": [
    {
     "data": {
      "text/plain": [
       "<matplotlib.collections.PathCollection at 0x7fe20844e100>"
      ]
     },
     "execution_count": 37,
     "metadata": {},
     "output_type": "execute_result"
    },
    {
     "data": {
      "image/png": "[encoded data removed]",
      "text/plain": [
       "<Figure size 432x288 with 1 Axes>"
      ]
     },
     "metadata": {
      "needs_background": "light"
     },
     "output_type": "display_data"
    }
   ],
   "source": [
    "#画个图直观地看一看\n",
    "x = union_item['click_article_id']\n",
    "y = union_item['count']\n",
    "plt.scatter(x, y)\n"
   ]
  },
  {
   "cell_type": "code",
   "execution_count": 38,
   "id": "62116e6b-29f0-4111-8e7a-cee37e005444",
   "metadata": {},
   "outputs": [
    {
     "data": {
      "text/plain": [
       "[<matplotlib.lines.Line2D at 0x7fe1f820f130>]"
      ]
     },
     "execution_count": 38,
     "metadata": {},
     "output_type": "execute_result"
    },
    {
     "data": {
      "image/png": "[encoded data removed]",
      "text/plain": [
       "<Figure size 432x288 with 1 Axes>"
      ]
     },
     "metadata": {
      "needs_background": "light"
     },
     "output_type": "display_data"
    }
   ],
   "source": [
    "plt.plot(union_item['count'].values[40000:])\n"
   ]
  },
  {
   "cell_type": "markdown",
   "id": "0e41ff58-40cb-4e5c-ad4f-52870a8a4c90",
   "metadata": {},
   "source": [
    "大概有70000个pair至少共现一次。"
   ]
  },
  {
   "cell_type": "markdown",
   "id": "c97fb5f5-a7d1-4d7d-9dc4-52856bdbbfbe",
   "metadata": {},
   "source": [
    "## 新闻文章信息"
   ]
  },
  {
   "cell_type": "code",
   "execution_count": 213,
   "id": "ae9c734a-1a3d-4bff-bec3-259e00cd7054",
   "metadata": {},
   "outputs": [
    {
     "data": {
      "text/plain": [
       "[<matplotlib.lines.Line2D at 0x7fe23138d520>]"
      ]
     },
     "execution_count": 213,
     "metadata": {},
     "output_type": "execute_result"
    },
    {
     "data": {
      "image/png": "[encoded data removed]",
      "text/plain": [
       "<Figure size 432x288 with 1 Axes>"
      ]
     },
     "metadata": {
      "needs_background": "light"
     },
     "output_type": "display_data"
    }
   ],
   "source": [
    "#不同类型的新闻出现的次数\n",
    "plt.plot(user_click_merge['category_id'].value_counts().values)\n"
   ]
  },
  {
   "cell_type": "code",
   "execution_count": 219,
   "id": "89243f28-6f6f-4820-80e2-ec482e9796c4",
   "metadata": {},
   "outputs": [
    {
     "data": {
      "text/plain": [
       "[<matplotlib.lines.Line2D at 0x7fe07813e5b0>]"
      ]
     },
     "execution_count": 219,
     "metadata": {},
     "output_type": "execute_result"
    },
    {
     "data": {
      "image/png": "[encoded data removed]",
      "text/plain": [
       "<Figure size 432x288 with 1 Axes>"
      ]
     },
     "metadata": {
      "needs_background": "light"
     },
     "output_type": "display_data"
    }
   ],
   "source": [
    "plt.plot(user_click_merge['category_id'].value_counts().values[:10])\n"
   ]
  },
  {
   "cell_type": "code",
   "execution_count": 217,
   "id": "a76909dc-50ab-4c34-99ca-87f5f3b560e4",
   "metadata": {},
   "outputs": [
    {
     "data": {
      "text/plain": [
       "[<matplotlib.lines.Line2D at 0x7fe0784c6160>]"
      ]
     },
     "execution_count": 217,
     "metadata": {},
     "output_type": "execute_result"
    },
    {
     "data": {
      "image/png": "[encoded data removed]",
      "text/plain": [
       "<Figure size 432x288 with 1 Axes>"
      ]
     },
     "metadata": {
      "needs_background": "light"
     },
     "output_type": "display_data"
    }
   ],
   "source": [
    "#出现次数比较少的新闻类型, 有些新闻类型，基本上就出现过几次\n",
    "plt.plot(user_click_merge['category_id'].value_counts().values[150:])\n"
   ]
  },
  {
   "cell_type": "code",
   "execution_count": 41,
   "id": "9c37cc2e-5e96-4377-86f9-19a799487a76",
   "metadata": {},
   "outputs": [
    {
     "data": {
      "text/plain": [
       "count    1.630633e+06\n",
       "mean     2.043012e+02\n",
       "std      6.382198e+01\n",
       "min      0.000000e+00\n",
       "25%      1.720000e+02\n",
       "50%      1.970000e+02\n",
       "75%      2.290000e+02\n",
       "max      6.690000e+03\n",
       "Name: words_count, dtype: float64"
      ]
     },
     "execution_count": 41,
     "metadata": {},
     "output_type": "execute_result"
    }
   ],
   "source": [
    "#新闻字数的描述性统计\n",
    "user_click_merge['words_count'].describe()\n"
   ]
  },
  {
   "cell_type": "code",
   "execution_count": 220,
   "id": "06e088b9-198a-47a3-93d0-5cf9381ad442",
   "metadata": {},
   "outputs": [
    {
     "data": {
      "text/plain": [
       "array([nan, nan, nan, nan, nan, nan, nan, nan, nan, nan])"
      ]
     },
     "execution_count": 220,
     "metadata": {},
     "output_type": "execute_result"
    }
   ],
   "source": [
    "user_click_merge['words_count'].values[:10]"
   ]
  },
  {
   "cell_type": "code",
   "execution_count": 42,
   "id": "0afaaa04-e5c4-48db-bc18-f10677aeb40b",
   "metadata": {},
   "outputs": [
    {
     "data": {
      "text/plain": [
       "[<matplotlib.lines.Line2D at 0x7fe288c8da60>]"
      ]
     },
     "execution_count": 42,
     "metadata": {},
     "output_type": "execute_result"
    },
    {
     "data": {
      "image/png": "[encoded data removed]",
      "text/plain": [
       "<Figure size 432x288 with 1 Axes>"
      ]
     },
     "metadata": {
      "needs_background": "light"
     },
     "output_type": "display_data"
    }
   ],
   "source": [
    "plt.plot(user_click_merge['words_count'].values)\n"
   ]
  },
  {
   "cell_type": "markdown",
   "id": "ddc168e5-c035-46e8-be3c-d038717e3902",
   "metadata": {},
   "source": [
    "## 用户点击的新闻类型的偏好"
   ]
  },
  {
   "cell_type": "markdown",
   "id": "985adb30-4d9f-41f5-93b0-51a5874c359c",
   "metadata": {},
   "source": [
    "此特征可以用于度量用户的兴趣是否广泛。"
   ]
  },
  {
   "cell_type": "code",
   "execution_count": 227,
   "id": "d85a86ac-2d17-43fc-8c87-745b635250ef",
   "metadata": {},
   "outputs": [
    {
     "data": {
      "text/plain": [
       "[<matplotlib.lines.Line2D at 0x7fe0cdc091c0>]"
      ]
     },
     "execution_count": 227,
     "metadata": {},
     "output_type": "execute_result"
    },
    {
     "data": {
      "image/png": "[encoded data removed]",
      "text/plain": [
       "<Figure size 432x288 with 1 Axes>"
      ]
     },
     "metadata": {
      "needs_background": "light"
     },
     "output_type": "display_data"
    }
   ],
   "source": [
    "plt.plot(sorted(merge.groupby('u')['c'].nunique(), reverse=True))\n"
   ]
  },
  {
   "cell_type": "markdown",
   "id": "7cf45fed-c785-4400-a99c-dd176b15bb72",
   "metadata": {},
   "source": [
    "从上图中可以看出有一小部分用户阅读类型是极其广泛的，大部分人都处在20个新闻类型以下。"
   ]
  },
  {
   "cell_type": "code",
   "execution_count": 234,
   "id": "bf60e1de-85bb-43d3-b6a6-f03b1fb8ad51",
   "metadata": {},
   "outputs": [
    {
     "data": {
      "text/html": [
       "<div>\n",
       "<style scoped>\n",
       "    .dataframe tbody tr th:only-of-type {\n",
       "        vertical-align: middle;\n",
       "    }\n",
       "\n",
       "    .dataframe tbody tr th {\n",
       "        vertical-align: top;\n",
       "    }\n",
       "\n",
       "    .dataframe thead th {\n",
       "        text-align: right;\n",
       "    }\n",
       "</style>\n",
       "<table border=\"1\" class=\"dataframe\">\n",
       "  <thead>\n",
       "    <tr style=\"text-align: right;\">\n",
       "      <th></th>\n",
       "      <th>u</th>\n",
       "      <th>c</th>\n",
       "    </tr>\n",
       "  </thead>\n",
       "  <tbody>\n",
       "    <tr>\n",
       "      <th>count</th>\n",
       "      <td>250000.000000</td>\n",
       "      <td>250000.000000</td>\n",
       "    </tr>\n",
       "    <tr>\n",
       "      <th>mean</th>\n",
       "      <td>124999.500000</td>\n",
       "      <td>4.573188</td>\n",
       "    </tr>\n",
       "    <tr>\n",
       "      <th>std</th>\n",
       "      <td>72168.927986</td>\n",
       "      <td>4.419800</td>\n",
       "    </tr>\n",
       "    <tr>\n",
       "      <th>min</th>\n",
       "      <td>0.000000</td>\n",
       "      <td>1.000000</td>\n",
       "    </tr>\n",
       "    <tr>\n",
       "      <th>50%</th>\n",
       "      <td>124999.500000</td>\n",
       "      <td>3.000000</td>\n",
       "    </tr>\n",
       "    <tr>\n",
       "      <th>90%</th>\n",
       "      <td>224999.100000</td>\n",
       "      <td>10.000000</td>\n",
       "    </tr>\n",
       "    <tr>\n",
       "      <th>95%</th>\n",
       "      <td>237499.050000</td>\n",
       "      <td>13.000000</td>\n",
       "    </tr>\n",
       "    <tr>\n",
       "      <th>99%</th>\n",
       "      <td>247499.010000</td>\n",
       "      <td>22.000000</td>\n",
       "    </tr>\n",
       "    <tr>\n",
       "      <th>max</th>\n",
       "      <td>249999.000000</td>\n",
       "      <td>95.000000</td>\n",
       "    </tr>\n",
       "  </tbody>\n",
       "</table>\n",
       "</div>"
      ],
      "text/plain": [
       "                   u              c\n",
       "count  250000.000000  250000.000000\n",
       "mean   124999.500000       4.573188\n",
       "std     72168.927986       4.419800\n",
       "min         0.000000       1.000000\n",
       "50%    124999.500000       3.000000\n",
       "90%    224999.100000      10.000000\n",
       "95%    237499.050000      13.000000\n",
       "99%    247499.010000      22.000000\n",
       "max    249999.000000      95.000000"
      ]
     },
     "execution_count": 234,
     "metadata": {},
     "output_type": "execute_result"
    }
   ],
   "source": [
    "merge.groupby('u')['c'].nunique().reset_index().describe(percentiles=[.9, .95, .99])\n"
   ]
  },
  {
   "cell_type": "code",
   "execution_count": 230,
   "id": "a80f389b-f683-4297-9c10-ca93dd9ff7e2",
   "metadata": {},
   "outputs": [
    {
     "data": {
      "text/html": [
       "<div>\n",
       "<style scoped>\n",
       "    .dataframe tbody tr th:only-of-type {\n",
       "        vertical-align: middle;\n",
       "    }\n",
       "\n",
       "    .dataframe tbody tr th {\n",
       "        vertical-align: top;\n",
       "    }\n",
       "\n",
       "    .dataframe thead th {\n",
       "        text-align: right;\n",
       "    }\n",
       "</style>\n",
       "<table border=\"1\" class=\"dataframe\">\n",
       "  <thead>\n",
       "    <tr style=\"text-align: right;\">\n",
       "      <th></th>\n",
       "      <th>u</th>\n",
       "      <th>nc</th>\n",
       "    </tr>\n",
       "  </thead>\n",
       "  <tbody>\n",
       "    <tr>\n",
       "      <th>0</th>\n",
       "      <td>0</td>\n",
       "      <td>2</td>\n",
       "    </tr>\n",
       "    <tr>\n",
       "      <th>1</th>\n",
       "      <td>1</td>\n",
       "      <td>2</td>\n",
       "    </tr>\n",
       "    <tr>\n",
       "      <th>2</th>\n",
       "      <td>2</td>\n",
       "      <td>2</td>\n",
       "    </tr>\n",
       "    <tr>\n",
       "      <th>3</th>\n",
       "      <td>3</td>\n",
       "      <td>2</td>\n",
       "    </tr>\n",
       "    <tr>\n",
       "      <th>4</th>\n",
       "      <td>4</td>\n",
       "      <td>2</td>\n",
       "    </tr>\n",
       "    <tr>\n",
       "      <th>...</th>\n",
       "      <td>...</td>\n",
       "      <td>...</td>\n",
       "    </tr>\n",
       "    <tr>\n",
       "      <th>249995</th>\n",
       "      <td>249995</td>\n",
       "      <td>18</td>\n",
       "    </tr>\n",
       "    <tr>\n",
       "      <th>249996</th>\n",
       "      <td>249996</td>\n",
       "      <td>1</td>\n",
       "    </tr>\n",
       "    <tr>\n",
       "      <th>249997</th>\n",
       "      <td>249997</td>\n",
       "      <td>4</td>\n",
       "    </tr>\n",
       "    <tr>\n",
       "      <th>249998</th>\n",
       "      <td>249998</td>\n",
       "      <td>3</td>\n",
       "    </tr>\n",
       "    <tr>\n",
       "      <th>249999</th>\n",
       "      <td>249999</td>\n",
       "      <td>11</td>\n",
       "    </tr>\n",
       "  </tbody>\n",
       "</table>\n",
       "<p>250000 rows × 2 columns</p>\n",
       "</div>"
      ],
      "text/plain": [
       "             u  nc\n",
       "0            0   2\n",
       "1            1   2\n",
       "2            2   2\n",
       "3            3   2\n",
       "4            4   2\n",
       "...        ...  ..\n",
       "249995  249995  18\n",
       "249996  249996   1\n",
       "249997  249997   4\n",
       "249998  249998   3\n",
       "249999  249999  11\n",
       "\n",
       "[250000 rows x 2 columns]"
      ]
     },
     "execution_count": 230,
     "metadata": {},
     "output_type": "execute_result"
    }
   ],
   "source": [
    "d = merge.groupby('u')['c'].nunique().reset_index()\n",
    "d.columns = ['u', 'nc']\n",
    "d"
   ]
  },
  {
   "cell_type": "code",
   "execution_count": 231,
   "id": "034066b5-16fc-4661-be6b-be9570d11082",
   "metadata": {},
   "outputs": [
    {
     "data": {
      "text/plain": [
       "count    250000.000000\n",
       "mean          4.573188\n",
       "std           4.419800\n",
       "min           1.000000\n",
       "25%           2.000000\n",
       "50%           3.000000\n",
       "75%           6.000000\n",
       "max          95.000000\n",
       "Name: nc, dtype: float64"
      ]
     },
     "execution_count": 231,
     "metadata": {},
     "output_type": "execute_result"
    }
   ],
   "source": [
    "d.nc.describe()"
   ]
  },
  {
   "cell_type": "code",
   "execution_count": 226,
   "id": "d14a6dfc-138a-42d9-bf9e-5707ae7b67bd",
   "metadata": {},
   "outputs": [
    {
     "data": {
      "text/html": [
       "<div>\n",
       "<style scoped>\n",
       "    .dataframe tbody tr th:only-of-type {\n",
       "        vertical-align: middle;\n",
       "    }\n",
       "\n",
       "    .dataframe tbody tr th {\n",
       "        vertical-align: top;\n",
       "    }\n",
       "\n",
       "    .dataframe thead th {\n",
       "        text-align: right;\n",
       "    }\n",
       "</style>\n",
       "<table border=\"1\" class=\"dataframe\">\n",
       "  <thead>\n",
       "    <tr style=\"text-align: right;\">\n",
       "      <th></th>\n",
       "      <th>u</th>\n",
       "      <th>a</th>\n",
       "      <th>ts</th>\n",
       "      <th>env</th>\n",
       "      <th>device</th>\n",
       "      <th>os</th>\n",
       "      <th>country</th>\n",
       "      <th>region</th>\n",
       "      <th>referrer</th>\n",
       "      <th>rank</th>\n",
       "      <th>nc</th>\n",
       "      <th>c</th>\n",
       "      <th>ts_created</th>\n",
       "      <th>w_cnt</th>\n",
       "    </tr>\n",
       "  </thead>\n",
       "  <tbody>\n",
       "    <tr>\n",
       "      <th>1112619</th>\n",
       "      <td>0</td>\n",
       "      <td>30760</td>\n",
       "      <td>1508211672520</td>\n",
       "      <td>4</td>\n",
       "      <td>1</td>\n",
       "      <td>17</td>\n",
       "      <td>1</td>\n",
       "      <td>25</td>\n",
       "      <td>2</td>\n",
       "      <td>2</td>\n",
       "      <td>2</td>\n",
       "      <td>26</td>\n",
       "      <td>1508185091000</td>\n",
       "      <td>162</td>\n",
       "    </tr>\n",
       "    <tr>\n",
       "      <th>1112620</th>\n",
       "      <td>0</td>\n",
       "      <td>157507</td>\n",
       "      <td>1508211702520</td>\n",
       "      <td>4</td>\n",
       "      <td>1</td>\n",
       "      <td>17</td>\n",
       "      <td>1</td>\n",
       "      <td>25</td>\n",
       "      <td>2</td>\n",
       "      <td>1</td>\n",
       "      <td>2</td>\n",
       "      <td>281</td>\n",
       "      <td>1508236945000</td>\n",
       "      <td>370</td>\n",
       "    </tr>\n",
       "  </tbody>\n",
       "</table>\n",
       "</div>"
      ],
      "text/plain": [
       "         u       a             ts  env  device  os  country  region  referrer  \\\n",
       "1112619  0   30760  1508211672520    4       1  17        1      25         2   \n",
       "1112620  0  157507  1508211702520    4       1  17        1      25         2   \n",
       "\n",
       "         rank  nc    c     ts_created  w_cnt  \n",
       "1112619     2   2   26  1508185091000    162  \n",
       "1112620     1   2  281  1508236945000    370  "
      ]
     },
     "execution_count": 226,
     "metadata": {},
     "output_type": "execute_result"
    }
   ],
   "source": [
    "merge[merge.u == 0]"
   ]
  },
  {
   "cell_type": "code",
   "execution_count": null,
   "id": "9ee0649d-6596-4de4-a182-781367b86f8b",
   "metadata": {},
   "outputs": [],
   "source": []
  },
  {
   "cell_type": "markdown",
   "id": "94764560-0997-4b20-982e-75449c3b990e",
   "metadata": {},
   "source": [
    "## 用户查看文章的长度的分布"
   ]
  },
  {
   "cell_type": "markdown",
   "id": "abece9dc-319d-43f6-b67f-ae11a0ac0d4d",
   "metadata": {},
   "source": [
    "通过统计不同用户点击新闻的平均字数，这个可以反映用户是对长文更感兴趣还是对短文更感兴趣。"
   ]
  },
  {
   "cell_type": "code",
   "execution_count": 235,
   "id": "c310642d-ef9b-4389-b79a-7906f083c0d8",
   "metadata": {},
   "outputs": [
    {
     "data": {
      "text/plain": [
       "[<matplotlib.lines.Line2D at 0x7fe2304ffee0>]"
      ]
     },
     "execution_count": 235,
     "metadata": {},
     "output_type": "execute_result"
    },
    {
     "data": {
      "image/png": "[encoded data removed]",
      "text/plain": [
       "<Figure size 432x288 with 1 Axes>"
      ]
     },
     "metadata": {
      "needs_background": "light"
     },
     "output_type": "display_data"
    }
   ],
   "source": [
    "plt.plot(sorted(user_click_merge.groupby('user_id')['words_count'].mean(), reverse=True))\n"
   ]
  },
  {
   "cell_type": "markdown",
   "id": "b1be34b2-2ac0-4034-baf5-85b0c6ae32bb",
   "metadata": {},
   "source": [
    "从上图中可以发现有一小部分人看的文章平均词数非常高，也有一小部分人看的平均文章次数非常低。\n",
    "\n",
    "大多数人偏好于阅读字数在200-400字之间的新闻。\n",
    "\n"
   ]
  },
  {
   "cell_type": "code",
   "execution_count": 46,
   "id": "03bd7953-738f-4a8a-9600-9b6969bda1d6",
   "metadata": {},
   "outputs": [
    {
     "data": {
      "text/plain": [
       "[<matplotlib.lines.Line2D at 0x7fe1e56d2640>]"
      ]
     },
     "execution_count": 46,
     "metadata": {},
     "output_type": "execute_result"
    },
    {
     "data": {
      "image/png": "[encoded data removed]",
      "text/plain": [
       "<Figure size 432x288 with 1 Axes>"
      ]
     },
     "metadata": {
      "needs_background": "light"
     },
     "output_type": "display_data"
    }
   ],
   "source": [
    "#挑出大多数人的区间仔细看看\n",
    "plt.plot(sorted(user_click_merge.groupby('user_id')['words_count'].mean(), reverse=True)[1000:45000])\n"
   ]
  },
  {
   "cell_type": "markdown",
   "id": "5756f92f-4d56-447f-a6bc-77e25736fd1a",
   "metadata": {},
   "source": [
    "可以发现大多数人都是看250字以下的文章"
   ]
  },
  {
   "cell_type": "code",
   "execution_count": 236,
   "id": "2b954fc2-6609-4cf3-bd0b-68104d5c2fad",
   "metadata": {},
   "outputs": [
    {
     "data": {
      "text/html": [
       "<div>\n",
       "<style scoped>\n",
       "    .dataframe tbody tr th:only-of-type {\n",
       "        vertical-align: middle;\n",
       "    }\n",
       "\n",
       "    .dataframe tbody tr th {\n",
       "        vertical-align: top;\n",
       "    }\n",
       "\n",
       "    .dataframe thead th {\n",
       "        text-align: right;\n",
       "    }\n",
       "</style>\n",
       "<table border=\"1\" class=\"dataframe\">\n",
       "  <thead>\n",
       "    <tr style=\"text-align: right;\">\n",
       "      <th></th>\n",
       "      <th>user_id</th>\n",
       "      <th>words_count</th>\n",
       "    </tr>\n",
       "  </thead>\n",
       "  <tbody>\n",
       "    <tr>\n",
       "      <th>count</th>\n",
       "      <td>250000.000000</td>\n",
       "      <td>50000.000000</td>\n",
       "    </tr>\n",
       "    <tr>\n",
       "      <th>mean</th>\n",
       "      <td>124999.500000</td>\n",
       "      <td>223.922143</td>\n",
       "    </tr>\n",
       "    <tr>\n",
       "      <th>std</th>\n",
       "      <td>72168.927986</td>\n",
       "      <td>80.262813</td>\n",
       "    </tr>\n",
       "    <tr>\n",
       "      <th>min</th>\n",
       "      <td>0.000000</td>\n",
       "      <td>8.000000</td>\n",
       "    </tr>\n",
       "    <tr>\n",
       "      <th>50%</th>\n",
       "      <td>124999.500000</td>\n",
       "      <td>207.166667</td>\n",
       "    </tr>\n",
       "    <tr>\n",
       "      <th>90%</th>\n",
       "      <td>224999.100000</td>\n",
       "      <td>259.000000</td>\n",
       "    </tr>\n",
       "    <tr>\n",
       "      <th>95%</th>\n",
       "      <td>237499.050000</td>\n",
       "      <td>315.008333</td>\n",
       "    </tr>\n",
       "    <tr>\n",
       "      <th>99%</th>\n",
       "      <td>247499.010000</td>\n",
       "      <td>699.600000</td>\n",
       "    </tr>\n",
       "    <tr>\n",
       "      <th>max</th>\n",
       "      <td>249999.000000</td>\n",
       "      <td>2743.000000</td>\n",
       "    </tr>\n",
       "  </tbody>\n",
       "</table>\n",
       "</div>"
      ],
      "text/plain": [
       "             user_id   words_count\n",
       "count  250000.000000  50000.000000\n",
       "mean   124999.500000    223.922143\n",
       "std     72168.927986     80.262813\n",
       "min         0.000000      8.000000\n",
       "50%    124999.500000    207.166667\n",
       "90%    224999.100000    259.000000\n",
       "95%    237499.050000    315.008333\n",
       "99%    247499.010000    699.600000\n",
       "max    249999.000000   2743.000000"
      ]
     },
     "execution_count": 236,
     "metadata": {},
     "output_type": "execute_result"
    }
   ],
   "source": [
    "#更加详细的参数\n",
    "user_click_merge.groupby('user_id')['words_count'].mean().reset_index().describe(percentiles=[.9, .95, .99])\n"
   ]
  },
  {
   "cell_type": "markdown",
   "id": "58cdc464-c9f9-4576-9836-10a4a5106e7e",
   "metadata": {},
   "source": [
    "## 用户点击新闻的时间分析"
   ]
  },
  {
   "cell_type": "code",
   "execution_count": 237,
   "id": "07e18aa8-6439-41b2-94c7-5fbf6ddbbd72",
   "metadata": {},
   "outputs": [],
   "source": [
    "#为了更好的可视化，这里把时间进行归一化操作\n",
    "from sklearn.preprocessing import MinMaxScaler\n",
    "mm = MinMaxScaler()\n",
    "user_click_merge['click_timestamp'] = mm.fit_transform(user_click_merge[['click_timestamp']])\n",
    "user_click_merge['created_at_ts'] = mm.fit_transform(user_click_merge[['created_at_ts']])\n",
    "\n",
    "user_click_merge = user_click_merge.sort_values('click_timestamp')\n"
   ]
  },
  {
   "cell_type": "code",
   "execution_count": 238,
   "id": "c1b0937f-7faf-4461-9805-0d22cae13323",
   "metadata": {},
   "outputs": [
    {
     "data": {
      "text/html": [
       "<div>\n",
       "<style scoped>\n",
       "    .dataframe tbody tr th:only-of-type {\n",
       "        vertical-align: middle;\n",
       "    }\n",
       "\n",
       "    .dataframe tbody tr th {\n",
       "        vertical-align: top;\n",
       "    }\n",
       "\n",
       "    .dataframe thead th {\n",
       "        text-align: right;\n",
       "    }\n",
       "</style>\n",
       "<table border=\"1\" class=\"dataframe\">\n",
       "  <thead>\n",
       "    <tr style=\"text-align: right;\">\n",
       "      <th></th>\n",
       "      <th>user_id</th>\n",
       "      <th>click_article_id</th>\n",
       "      <th>click_timestamp</th>\n",
       "      <th>click_environment</th>\n",
       "      <th>click_deviceGroup</th>\n",
       "      <th>click_os</th>\n",
       "      <th>click_country</th>\n",
       "      <th>click_region</th>\n",
       "      <th>click_referrer_type</th>\n",
       "      <th>rank</th>\n",
       "      <th>click_cnts</th>\n",
       "      <th>category_id</th>\n",
       "      <th>created_at_ts</th>\n",
       "      <th>words_count</th>\n",
       "    </tr>\n",
       "  </thead>\n",
       "  <tbody>\n",
       "    <tr>\n",
       "      <th>18</th>\n",
       "      <td>249990</td>\n",
       "      <td>162300</td>\n",
       "      <td>0.000000</td>\n",
       "      <td>4</td>\n",
       "      <td>3</td>\n",
       "      <td>20</td>\n",
       "      <td>1</td>\n",
       "      <td>25</td>\n",
       "      <td>2</td>\n",
       "      <td>5</td>\n",
       "      <td>5</td>\n",
       "      <td>281.0</td>\n",
       "      <td>0.987695</td>\n",
       "      <td>193.0</td>\n",
       "    </tr>\n",
       "    <tr>\n",
       "      <th>2</th>\n",
       "      <td>249998</td>\n",
       "      <td>160974</td>\n",
       "      <td>0.000002</td>\n",
       "      <td>4</td>\n",
       "      <td>1</td>\n",
       "      <td>12</td>\n",
       "      <td>1</td>\n",
       "      <td>13</td>\n",
       "      <td>2</td>\n",
       "      <td>5</td>\n",
       "      <td>5</td>\n",
       "      <td>281.0</td>\n",
       "      <td>0.987562</td>\n",
       "      <td>259.0</td>\n",
       "    </tr>\n",
       "    <tr>\n",
       "      <th>30</th>\n",
       "      <td>249985</td>\n",
       "      <td>160974</td>\n",
       "      <td>0.000003</td>\n",
       "      <td>4</td>\n",
       "      <td>1</td>\n",
       "      <td>17</td>\n",
       "      <td>1</td>\n",
       "      <td>8</td>\n",
       "      <td>2</td>\n",
       "      <td>8</td>\n",
       "      <td>8</td>\n",
       "      <td>281.0</td>\n",
       "      <td>0.987562</td>\n",
       "      <td>259.0</td>\n",
       "    </tr>\n",
       "    <tr>\n",
       "      <th>50</th>\n",
       "      <td>249979</td>\n",
       "      <td>162300</td>\n",
       "      <td>0.000004</td>\n",
       "      <td>4</td>\n",
       "      <td>1</td>\n",
       "      <td>17</td>\n",
       "      <td>1</td>\n",
       "      <td>25</td>\n",
       "      <td>2</td>\n",
       "      <td>2</td>\n",
       "      <td>2</td>\n",
       "      <td>281.0</td>\n",
       "      <td>0.987695</td>\n",
       "      <td>193.0</td>\n",
       "    </tr>\n",
       "    <tr>\n",
       "      <th>25</th>\n",
       "      <td>249988</td>\n",
       "      <td>160974</td>\n",
       "      <td>0.000004</td>\n",
       "      <td>4</td>\n",
       "      <td>1</td>\n",
       "      <td>17</td>\n",
       "      <td>1</td>\n",
       "      <td>21</td>\n",
       "      <td>2</td>\n",
       "      <td>17</td>\n",
       "      <td>17</td>\n",
       "      <td>281.0</td>\n",
       "      <td>0.987562</td>\n",
       "      <td>259.0</td>\n",
       "    </tr>\n",
       "  </tbody>\n",
       "</table>\n",
       "</div>"
      ],
      "text/plain": [
       "    user_id  click_article_id  click_timestamp  click_environment  \\\n",
       "18   249990            162300         0.000000                  4   \n",
       "2    249998            160974         0.000002                  4   \n",
       "30   249985            160974         0.000003                  4   \n",
       "50   249979            162300         0.000004                  4   \n",
       "25   249988            160974         0.000004                  4   \n",
       "\n",
       "    click_deviceGroup  click_os  click_country  click_region  \\\n",
       "18                  3        20              1            25   \n",
       "2                   1        12              1            13   \n",
       "30                  1        17              1             8   \n",
       "50                  1        17              1            25   \n",
       "25                  1        17              1            21   \n",
       "\n",
       "    click_referrer_type  rank  click_cnts  category_id  created_at_ts  \\\n",
       "18                    2     5           5        281.0       0.987695   \n",
       "2                     2     5           5        281.0       0.987562   \n",
       "30                    2     8           8        281.0       0.987562   \n",
       "50                    2     2           2        281.0       0.987695   \n",
       "25                    2    17          17        281.0       0.987562   \n",
       "\n",
       "    words_count  \n",
       "18        193.0  \n",
       "2         259.0  \n",
       "30        259.0  \n",
       "50        193.0  \n",
       "25        259.0  "
      ]
     },
     "execution_count": 238,
     "metadata": {},
     "output_type": "execute_result"
    }
   ],
   "source": [
    "user_click_merge.head()\n"
   ]
  },
  {
   "cell_type": "code",
   "execution_count": 239,
   "id": "1703dcbc-f7c7-40da-b909-ea472fc2d044",
   "metadata": {},
   "outputs": [
    {
     "data": {
      "text/plain": [
       "count    518010.000000\n",
       "mean          0.987439\n",
       "std           0.023825\n",
       "min           0.000000\n",
       "25%           0.987797\n",
       "50%           0.988941\n",
       "75%           0.990501\n",
       "max           1.000000\n",
       "Name: created_at_ts, dtype: float64"
      ]
     },
     "execution_count": 239,
     "metadata": {},
     "output_type": "execute_result"
    }
   ],
   "source": [
    "user_click_merge.created_at_ts.describe()"
   ]
  },
  {
   "cell_type": "code",
   "execution_count": 50,
   "id": "4622adb7-3369-4c04-891f-b0738bdcbf25",
   "metadata": {},
   "outputs": [],
   "source": [
    "def mean_diff_time_func(df, col):\n",
    "    df = pd.DataFrame(df, columns={col})\n",
    "    df['time_shift1'] = df[col].shift(1).fillna(0)\n",
    "    df['diff_time'] = abs(df[col] - df['time_shift1'])\n",
    "    return df['diff_time'].mean()\n"
   ]
  },
  {
   "cell_type": "code",
   "execution_count": 51,
   "id": "33a2dfd0-54e8-4638-9179-11b8bfd63d91",
   "metadata": {},
   "outputs": [],
   "source": [
    "# 点击时间差的平均值\n",
    "mean_diff_click_time = user_click_merge.groupby('user_id')['click_timestamp', 'created_at_ts'].apply(lambda x: mean_diff_time_func(x, 'click_timestamp'))\n"
   ]
  },
  {
   "cell_type": "code",
   "execution_count": 52,
   "id": "c55fcd61-312d-4acb-af8a-43826b116668",
   "metadata": {},
   "outputs": [
    {
     "data": {
      "text/plain": [
       "[<matplotlib.lines.Line2D at 0x7fe1e578ea30>]"
      ]
     },
     "execution_count": 52,
     "metadata": {},
     "output_type": "execute_result"
    },
    {
     "data": {
      "image/png": "[encoded data removed]",
      "text/plain": [
       "<Figure size 432x288 with 1 Axes>"
      ]
     },
     "metadata": {
      "needs_background": "light"
     },
     "output_type": "display_data"
    }
   ],
   "source": [
    "plt.plot(sorted(mean_diff_click_time.values, reverse=True))\n"
   ]
  },
  {
   "cell_type": "markdown",
   "id": "2f17b579-a029-49d8-a002-6f6e7c2881e8",
   "metadata": {},
   "source": [
    "从上图可以发现不同用户点击文章的时间差是有差异的。"
   ]
  },
  {
   "cell_type": "code",
   "execution_count": 53,
   "id": "bb5d556c-96b2-4b28-a31c-5f7f27a0f924",
   "metadata": {},
   "outputs": [],
   "source": [
    "# 前后点击文章的创建时间差的平均值\n",
    "mean_diff_created_time = user_click_merge.groupby('user_id')['click_timestamp', 'created_at_ts'].apply(lambda x: mean_diff_time_func(x, 'created_at_ts'))\n"
   ]
  },
  {
   "cell_type": "code",
   "execution_count": 54,
   "id": "ad195cf7-3447-44a6-b5a2-f1b0cee73beb",
   "metadata": {},
   "outputs": [
    {
     "data": {
      "text/plain": [
       "[<matplotlib.lines.Line2D at 0x7fe1e57d15b0>]"
      ]
     },
     "execution_count": 54,
     "metadata": {},
     "output_type": "execute_result"
    },
    {
     "data": {
      "image/png": "[encoded data removed]",
      "text/plain": [
       "<Figure size 432x288 with 1 Axes>"
      ]
     },
     "metadata": {
      "needs_background": "light"
     },
     "output_type": "display_data"
    }
   ],
   "source": [
    "plt.plot(sorted(mean_diff_created_time.values, reverse=True))\n"
   ]
  },
  {
   "cell_type": "markdown",
   "id": "31d67ca3-7c43-463a-84cf-dabd8d134e66",
   "metadata": {},
   "source": [
    "从图中可以发现用户先后点击文章，文章的创建时间也是有差异的"
   ]
  },
  {
   "cell_type": "code",
   "execution_count": 55,
   "id": "4bfe4967-d236-4b4d-956d-5abf70145faa",
   "metadata": {},
   "outputs": [],
   "source": [
    "# 用户前后点击文章的相似性分布\n",
    "item_idx_2_rawid_dict = dict(zip(item_emb_df['article_id'], item_emb_df.index))\n"
   ]
  },
  {
   "cell_type": "code",
   "execution_count": 56,
   "id": "1c5f0be5-4ade-4f7d-bcfb-5fa73c3faa5e",
   "metadata": {},
   "outputs": [],
   "source": [
    "del item_emb_df['article_id']\n"
   ]
  },
  {
   "cell_type": "code",
   "execution_count": 57,
   "id": "20b78854-db09-4004-bb68-8ee884df78d4",
   "metadata": {},
   "outputs": [],
   "source": [
    "item_emb_np = np.ascontiguousarray(item_emb_df.values, dtype=np.float32)\n"
   ]
  },
  {
   "cell_type": "code",
   "execution_count": 58,
   "id": "0ca1b95a-8d1c-4c16-b6ec-51bbc3e932bd",
   "metadata": {},
   "outputs": [
    {
     "data": {
      "text/html": [
       "<div>\n",
       "<style scoped>\n",
       "    .dataframe tbody tr th:only-of-type {\n",
       "        vertical-align: middle;\n",
       "    }\n",
       "\n",
       "    .dataframe tbody tr th {\n",
       "        vertical-align: top;\n",
       "    }\n",
       "\n",
       "    .dataframe thead th {\n",
       "        text-align: right;\n",
       "    }\n",
       "</style>\n",
       "<table border=\"1\" class=\"dataframe\">\n",
       "  <thead>\n",
       "    <tr style=\"text-align: right;\">\n",
       "      <th></th>\n",
       "      <th>user_id</th>\n",
       "      <th>click_article_id</th>\n",
       "      <th>click_timestamp</th>\n",
       "      <th>click_environment</th>\n",
       "      <th>click_deviceGroup</th>\n",
       "      <th>click_os</th>\n",
       "      <th>click_country</th>\n",
       "      <th>click_region</th>\n",
       "      <th>click_referrer_type</th>\n",
       "      <th>rank</th>\n",
       "      <th>click_cnts</th>\n",
       "      <th>category_id</th>\n",
       "      <th>created_at_ts</th>\n",
       "      <th>words_count</th>\n",
       "    </tr>\n",
       "  </thead>\n",
       "  <tbody>\n",
       "    <tr>\n",
       "      <th>11190</th>\n",
       "      <td>245443</td>\n",
       "      <td>50864</td>\n",
       "      <td>0.002675</td>\n",
       "      <td>4</td>\n",
       "      <td>1</td>\n",
       "      <td>17</td>\n",
       "      <td>1</td>\n",
       "      <td>25</td>\n",
       "      <td>5</td>\n",
       "      <td>30</td>\n",
       "      <td>30</td>\n",
       "      <td>99</td>\n",
       "      <td>0.989131</td>\n",
       "      <td>202</td>\n",
       "    </tr>\n",
       "    <tr>\n",
       "      <th>11191</th>\n",
       "      <td>245443</td>\n",
       "      <td>118864</td>\n",
       "      <td>0.002875</td>\n",
       "      <td>4</td>\n",
       "      <td>1</td>\n",
       "      <td>17</td>\n",
       "      <td>1</td>\n",
       "      <td>25</td>\n",
       "      <td>2</td>\n",
       "      <td>29</td>\n",
       "      <td>30</td>\n",
       "      <td>247</td>\n",
       "      <td>0.989218</td>\n",
       "      <td>174</td>\n",
       "    </tr>\n",
       "    <tr>\n",
       "      <th>11192</th>\n",
       "      <td>245443</td>\n",
       "      <td>182394</td>\n",
       "      <td>0.002883</td>\n",
       "      <td>4</td>\n",
       "      <td>1</td>\n",
       "      <td>17</td>\n",
       "      <td>1</td>\n",
       "      <td>25</td>\n",
       "      <td>2</td>\n",
       "      <td>28</td>\n",
       "      <td>30</td>\n",
       "      <td>301</td>\n",
       "      <td>0.989221</td>\n",
       "      <td>295</td>\n",
       "    </tr>\n",
       "    <tr>\n",
       "      <th>107276</th>\n",
       "      <td>210149</td>\n",
       "      <td>16129</td>\n",
       "      <td>0.009598</td>\n",
       "      <td>4</td>\n",
       "      <td>3</td>\n",
       "      <td>2</td>\n",
       "      <td>1</td>\n",
       "      <td>8</td>\n",
       "      <td>2</td>\n",
       "      <td>8</td>\n",
       "      <td>8</td>\n",
       "      <td>7</td>\n",
       "      <td>0.989184</td>\n",
       "      <td>200</td>\n",
       "    </tr>\n",
       "    <tr>\n",
       "      <th>107277</th>\n",
       "      <td>210149</td>\n",
       "      <td>225463</td>\n",
       "      <td>0.009606</td>\n",
       "      <td>4</td>\n",
       "      <td>3</td>\n",
       "      <td>2</td>\n",
       "      <td>1</td>\n",
       "      <td>8</td>\n",
       "      <td>2</td>\n",
       "      <td>7</td>\n",
       "      <td>8</td>\n",
       "      <td>354</td>\n",
       "      <td>0.989195</td>\n",
       "      <td>220</td>\n",
       "    </tr>\n",
       "  </tbody>\n",
       "</table>\n",
       "</div>"
      ],
      "text/plain": [
       "        user_id  click_article_id  click_timestamp  click_environment  \\\n",
       "11190    245443             50864         0.002675                  4   \n",
       "11191    245443            118864         0.002875                  4   \n",
       "11192    245443            182394         0.002883                  4   \n",
       "107276   210149             16129         0.009598                  4   \n",
       "107277   210149            225463         0.009606                  4   \n",
       "\n",
       "        click_deviceGroup  click_os  click_country  click_region  \\\n",
       "11190                   1        17              1            25   \n",
       "11191                   1        17              1            25   \n",
       "11192                   1        17              1            25   \n",
       "107276                  3         2              1             8   \n",
       "107277                  3         2              1             8   \n",
       "\n",
       "        click_referrer_type  rank  click_cnts  category_id  created_at_ts  \\\n",
       "11190                     5    30          30           99       0.989131   \n",
       "11191                     2    29          30          247       0.989218   \n",
       "11192                     2    28          30          301       0.989221   \n",
       "107276                    2     8           8            7       0.989184   \n",
       "107277                    2     7           8          354       0.989195   \n",
       "\n",
       "        words_count  \n",
       "11190           202  \n",
       "11191           174  \n",
       "11192           295  \n",
       "107276          200  \n",
       "107277          220  "
      ]
     },
     "execution_count": 58,
     "metadata": {},
     "output_type": "execute_result"
    }
   ],
   "source": [
    "# 随机选择5个用户，查看这些用户前后查看文章的相似性\n",
    "sub_user_ids = np.random.choice(user_click_merge.user_id.unique(), size=15, replace=False)\n",
    "sub_user_info = user_click_merge[user_click_merge['user_id'].isin(sub_user_ids)]\n",
    "\n",
    "sub_user_info.head()\n"
   ]
  },
  {
   "cell_type": "code",
   "execution_count": 59,
   "id": "ccd5c4a0-c7bd-48f1-94b1-14e601c6f725",
   "metadata": {},
   "outputs": [],
   "source": [
    "def get_item_sim_list(df):\n",
    "    sim_list = []\n",
    "    item_list = df['click_article_id'].values\n",
    "    for i in range(0, len(item_list)-1):\n",
    "        emb1 = item_emb_np[item_idx_2_rawid_dict[item_list[i]]]\n",
    "        emb2 = item_emb_np[item_idx_2_rawid_dict[item_list[i+1]]]\n",
    "        sim_list.append(np.dot(emb1,emb2)/(np.linalg.norm(emb1)*(np.linalg.norm(emb2))))\n",
    "    sim_list.append(0)\n",
    "    return sim_list\n"
   ]
  },
  {
   "cell_type": "code",
   "execution_count": 60,
   "id": "39aef84c-1689-4f0f-ac67-3f45f87b6eec",
   "metadata": {},
   "outputs": [
    {
     "data": {
      "image/png": "[encoded data removed]",
      "text/plain": [
       "<Figure size 432x288 with 1 Axes>"
      ]
     },
     "metadata": {
      "needs_background": "light"
     },
     "output_type": "display_data"
    }
   ],
   "source": [
    "for _, user_df in sub_user_info.groupby('user_id'):\n",
    "    item_sim_list = get_item_sim_list(user_df)\n",
    "    plt.plot(item_sim_list)\n"
   ]
  },
  {
   "cell_type": "markdown",
   "id": "e52ac7e0-6210-40d6-95be-8b12ba29d03f",
   "metadata": {},
   "source": [
    "从图中可以看出有些用户前后看的商品的相似度波动比较大，有些波动比较小，也是有一定的区分度的。"
   ]
  },
  {
   "cell_type": "markdown",
   "id": "fd1a59f0-bb8d-4853-ac71-5e89e18c1831",
   "metadata": {},
   "source": [
    "# 总结"
   ]
  },
  {
   "cell_type": "markdown",
   "id": "5fb07a8b-6174-4f2c-9174-72216e896c27",
   "metadata": {},
   "source": [
    "通过数据分析的过程， 我们目前可以得到以下几点重要的信息， 这个对于我们进行后面的特征制作和分析非常有帮助：\n",
    "\n",
    "- 训练集和测试集的用户id没有重复，也就是测试集里面的用户没有模型是没有见过的\n",
    "- 训练集中用户最少的点击文章数是2， 而测试集里面用户最少的点击文章数是1\n",
    "- 用户对于文章存在重复点击的情况， 但这个都存在于训练集里面\n",
    "- 同一用户的点击环境存在不唯一的情况，后面做这部分特征的时候可以采用统计特征\n",
    "- 用户点击文章的次数有很大的区分度，后面可以根据这个制作衡量用户活跃度的特征\n",
    "- 文章被用户点击的次数也有很大的区分度，后面可以根据这个制作衡量文章热度的特征\n",
    "- 用户看的新闻，相关性是比较强的，所以往往我们判断用户是否对某篇文章感兴趣的时候， 在很大程度上会和他历史点击过的文章有关\n",
    "- 用户点击的文章字数有比较大的区别， 这个可以反映用户对于文章字数的区别\n",
    "- 用户点击过的文章主题也有很大的区别， 这个可以反映用户的主题偏好 \n",
    "- 不同用户点击文章的时间差也会有所区别， 这个可以反映用户对于文章时效性的偏好"
   ]
  },
  {
   "cell_type": "code",
   "execution_count": null,
   "id": "9d445668-455b-4c9c-b161-fa56c586a0eb",
   "metadata": {},
   "outputs": [],
   "source": []
  }
 ],
 "metadata": {
  "kernelspec": {
   "display_name": "Python 3 (ipykernel)",
   "language": "python",
   "name": "python3"
  },
  "language_info": {
   "codemirror_mode": {
    "name": "ipython",
    "version": 3
   },
   "file_extension": ".py",
   "mimetype": "text/x-python",
   "name": "python",
   "nbconvert_exporter": "python",
   "pygments_lexer": "ipython3",
   "version": "3.9.12"
  }
 },
 "nbformat": 4,
 "nbformat_minor": 5
}
