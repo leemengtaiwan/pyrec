{
 "cells": [
  {
   "cell_type": "markdown",
   "id": "3b26a762-cc8b-4a66-8684-f215620f8bfa",
   "metadata": {},
   "source": [
    "- https://datawhalechina.github.io/fun-rec/#/ch03/ch3.1/markdown/ch3.1.3\n",
    "- https://tianchi.aliyun.com/notebook-ai/detail?spm=5176.12586969.1002.9.410521d8XAzkkw&postId=144452"
   ]
  },
  {
   "cell_type": "code",
   "execution_count": null,
   "id": "85cb811c-bbee-4433-9568-57c174b2a29a",
   "metadata": {},
   "outputs": [],
   "source": []
  }
 ],
 "metadata": {
  "kernelspec": {
   "display_name": "Python 3 (ipykernel)",
   "language": "python",
   "name": "python3"
  },
  "language_info": {
   "codemirror_mode": {
    "name": "ipython",
    "version": 3
   },
   "file_extension": ".py",
   "mimetype": "text/x-python",
   "name": "python",
   "nbconvert_exporter": "python",
   "pygments_lexer": "ipython3",
   "version": "3.9.12"
  }
 },
 "nbformat": 4,
 "nbformat_minor": 5
}
